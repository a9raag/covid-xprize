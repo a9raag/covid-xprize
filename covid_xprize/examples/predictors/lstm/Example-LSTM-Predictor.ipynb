{
 "cells": [
  {
   "cell_type": "raw",
   "metadata": {},
   "source": [
    "# Copyright 2020 (c) Cognizant Digital Business, Evolutionary AI. All rights reserved. Issued under the Apache 2.0 License."
   ]
  },
  {
   "cell_type": "code",
   "execution_count": 1,
   "metadata": {},
   "outputs": [],
   "source": [
    "import os\n",
    "import pandas as pd\n",
    "import requests\n",
    "from sklearn.metrics import mean_absolute_error\n",
    "import numpy as np"
   ]
  },
  {
   "cell_type": "code",
   "execution_count": 2,
   "metadata": {},
   "outputs": [
    {
     "name": "stdout",
     "output_type": "stream",
     "text": [
      "Num GPUs Available:  0\n"
     ]
    },
    {
     "ename": "IndexError",
     "evalue": "list index out of range",
     "output_type": "error",
     "traceback": [
      "\u001b[0;31m---------------------------------------------------------------------------\u001b[0m",
      "\u001b[0;31mIndexError\u001b[0m                                Traceback (most recent call last)",
      "\u001b[0;32m<ipython-input-2-1ea613892d2a>\u001b[0m in \u001b[0;36m<module>\u001b[0;34m\u001b[0m\n\u001b[1;32m      2\u001b[0m \u001b[0mprint\u001b[0m\u001b[0;34m(\u001b[0m\u001b[0;34m\"Num GPUs Available: \"\u001b[0m\u001b[0;34m,\u001b[0m \u001b[0mlen\u001b[0m\u001b[0;34m(\u001b[0m\u001b[0mtf\u001b[0m\u001b[0;34m.\u001b[0m\u001b[0mconfig\u001b[0m\u001b[0;34m.\u001b[0m\u001b[0mexperimental\u001b[0m\u001b[0;34m.\u001b[0m\u001b[0mlist_physical_devices\u001b[0m\u001b[0;34m(\u001b[0m\u001b[0;34m'GPU'\u001b[0m\u001b[0;34m)\u001b[0m\u001b[0;34m)\u001b[0m\u001b[0;34m)\u001b[0m\u001b[0;34m\u001b[0m\u001b[0;34m\u001b[0m\u001b[0m\n\u001b[1;32m      3\u001b[0m \u001b[0mphysical_devices\u001b[0m \u001b[0;34m=\u001b[0m \u001b[0mtf\u001b[0m\u001b[0;34m.\u001b[0m\u001b[0mconfig\u001b[0m\u001b[0;34m.\u001b[0m\u001b[0mlist_physical_devices\u001b[0m\u001b[0;34m(\u001b[0m\u001b[0;34m'GPU'\u001b[0m\u001b[0;34m)\u001b[0m\u001b[0;34m\u001b[0m\u001b[0;34m\u001b[0m\u001b[0m\n\u001b[0;32m----> 4\u001b[0;31m \u001b[0mtf\u001b[0m\u001b[0;34m.\u001b[0m\u001b[0mconfig\u001b[0m\u001b[0;34m.\u001b[0m\u001b[0mexperimental\u001b[0m\u001b[0;34m.\u001b[0m\u001b[0mset_memory_growth\u001b[0m\u001b[0;34m(\u001b[0m\u001b[0mphysical_devices\u001b[0m\u001b[0;34m[\u001b[0m\u001b[0;36m0\u001b[0m\u001b[0;34m]\u001b[0m\u001b[0;34m,\u001b[0m \u001b[0menable\u001b[0m\u001b[0;34m=\u001b[0m\u001b[0;32mTrue\u001b[0m\u001b[0;34m)\u001b[0m\u001b[0;34m\u001b[0m\u001b[0;34m\u001b[0m\u001b[0m\n\u001b[0m",
      "\u001b[0;31mIndexError\u001b[0m: list index out of range"
     ]
    }
   ],
   "source": [
    "import tensorflow as tf\n",
    "print(\"Num GPUs Available: \", len(tf.config.experimental.list_physical_devices('GPU')))\n",
    "physical_devices = tf.config.list_physical_devices('GPU')\n",
    "tf.config.experimental.set_memory_growth(physical_devices[0], enable=True)\n"
   ]
  },
  {
   "cell_type": "code",
   "execution_count": 3,
   "metadata": {},
   "outputs": [],
   "source": [
    "# 10-15 countries to start training\n",
    "# Check whether the data file is updated and if we can train in predict.py"
   ]
  },
  {
   "cell_type": "markdown",
   "metadata": {},
   "source": [
    "# Goal\n",
    "Predict the daily number of cases for the given countries, regions and intervention plan.\n",
    "\n",
    "This model is described in [From Prediction to Prescription: Evolutionary Optimization of Non-Pharmaceutical Interventions in the COVID-19 Pandemic](https://arxiv.org/abs/2005.13766) in Section 5 - Data-Driven Predictive Model.\n",
    "\n",
    "Predictions from this model trained on the latest data are visible here: [How AI Makes Intervention Recommendations](https://evolution.ml/demos/npidashboard/). For more information see [Augmenting Human Decision Making\n",
    "Optimizing COVID-19 Interventions](https://evolution.ml/esp/npi/)."
   ]
  },
  {
   "cell_type": "markdown",
   "metadata": {},
   "source": [
    "## Intervention plan\n",
    "An intervention plan consists in a list of containment and closure policies, as well as health system policies. See https://github.com/OxCGRT/covid-policy-tracker/blob/master/documentation/codebook.md for more details. The following policies are considered:"
   ]
  },
  {
   "cell_type": "code",
   "execution_count": 4,
   "metadata": {},
   "outputs": [],
   "source": [
    "NPI_COLUMNS = ['C1_School closing',\n",
    "               'C2_Workplace closing',\n",
    "               'C3_Cancel public events',\n",
    "               'C4_Restrictions on gatherings',\n",
    "               'C5_Close public transport',\n",
    "               'C6_Stay at home requirements',\n",
    "               'C7_Restrictions on internal movement',\n",
    "               'C8_International travel controls',\n",
    "               'H1_Public information campaigns',\n",
    "               'H2_Testing policy',\n",
    "               'H3_Contact tracing',\n",
    "               'H6_Facial Coverings']"
   ]
  },
  {
   "cell_type": "markdown",
   "metadata": {},
   "source": [
    "## Example\n",
    "For the given input, provide a model that can produce the expected output"
   ]
  },
  {
   "cell_type": "markdown",
   "metadata": {},
   "source": [
    "### Given input\n",
    "One row represents a country, region and day. For each row, the interventions that were in place on this day for this region and country are provided. Interventions can change from one day to the other for each country and region."
   ]
  },
  {
   "cell_type": "code",
   "execution_count": 5,
   "metadata": {},
   "outputs": [],
   "source": [
    "EXAMPLE_INPUT_FILE = \"../../../validation/data/2020-09-30_historical_ip.csv\""
   ]
  },
  {
   "cell_type": "code",
   "execution_count": 6,
   "metadata": {},
   "outputs": [],
   "source": [
    "prediction_input_df = pd.read_csv(EXAMPLE_INPUT_FILE,\n",
    "                                  parse_dates=['Date'],\n",
    "                                  dtype={\"RegionName\": str},\n",
    "                                  encoding=\"ISO-8859-1\")"
   ]
  },
  {
   "cell_type": "code",
   "execution_count": 7,
   "metadata": {},
   "outputs": [
    {
     "data": {
      "text/html": [
       "<div>\n",
       "<style scoped>\n",
       "    .dataframe tbody tr th:only-of-type {\n",
       "        vertical-align: middle;\n",
       "    }\n",
       "\n",
       "    .dataframe tbody tr th {\n",
       "        vertical-align: top;\n",
       "    }\n",
       "\n",
       "    .dataframe thead th {\n",
       "        text-align: right;\n",
       "    }\n",
       "</style>\n",
       "<table border=\"1\" class=\"dataframe\">\n",
       "  <thead>\n",
       "    <tr style=\"text-align: right;\">\n",
       "      <th></th>\n",
       "      <th>CountryName</th>\n",
       "      <th>RegionName</th>\n",
       "      <th>Date</th>\n",
       "      <th>C1_School closing</th>\n",
       "      <th>C2_Workplace closing</th>\n",
       "      <th>C3_Cancel public events</th>\n",
       "      <th>C4_Restrictions on gatherings</th>\n",
       "      <th>C5_Close public transport</th>\n",
       "      <th>C6_Stay at home requirements</th>\n",
       "      <th>C7_Restrictions on internal movement</th>\n",
       "      <th>C8_International travel controls</th>\n",
       "      <th>H1_Public information campaigns</th>\n",
       "      <th>H2_Testing policy</th>\n",
       "      <th>H3_Contact tracing</th>\n",
       "      <th>H6_Facial Coverings</th>\n",
       "    </tr>\n",
       "  </thead>\n",
       "  <tbody>\n",
       "    <tr>\n",
       "      <th>0</th>\n",
       "      <td>Aruba</td>\n",
       "      <td>NaN</td>\n",
       "      <td>2020-01-01</td>\n",
       "      <td>0.0</td>\n",
       "      <td>0.0</td>\n",
       "      <td>0.0</td>\n",
       "      <td>0.0</td>\n",
       "      <td>0.0</td>\n",
       "      <td>0.0</td>\n",
       "      <td>0.0</td>\n",
       "      <td>0.0</td>\n",
       "      <td>0.0</td>\n",
       "      <td>0.0</td>\n",
       "      <td>0.0</td>\n",
       "      <td>0.0</td>\n",
       "    </tr>\n",
       "    <tr>\n",
       "      <th>1</th>\n",
       "      <td>Aruba</td>\n",
       "      <td>NaN</td>\n",
       "      <td>2020-01-02</td>\n",
       "      <td>0.0</td>\n",
       "      <td>0.0</td>\n",
       "      <td>0.0</td>\n",
       "      <td>0.0</td>\n",
       "      <td>0.0</td>\n",
       "      <td>0.0</td>\n",
       "      <td>0.0</td>\n",
       "      <td>0.0</td>\n",
       "      <td>0.0</td>\n",
       "      <td>0.0</td>\n",
       "      <td>0.0</td>\n",
       "      <td>0.0</td>\n",
       "    </tr>\n",
       "    <tr>\n",
       "      <th>2</th>\n",
       "      <td>Aruba</td>\n",
       "      <td>NaN</td>\n",
       "      <td>2020-01-03</td>\n",
       "      <td>0.0</td>\n",
       "      <td>0.0</td>\n",
       "      <td>0.0</td>\n",
       "      <td>0.0</td>\n",
       "      <td>0.0</td>\n",
       "      <td>0.0</td>\n",
       "      <td>0.0</td>\n",
       "      <td>0.0</td>\n",
       "      <td>0.0</td>\n",
       "      <td>0.0</td>\n",
       "      <td>0.0</td>\n",
       "      <td>0.0</td>\n",
       "    </tr>\n",
       "    <tr>\n",
       "      <th>3</th>\n",
       "      <td>Aruba</td>\n",
       "      <td>NaN</td>\n",
       "      <td>2020-01-04</td>\n",
       "      <td>0.0</td>\n",
       "      <td>0.0</td>\n",
       "      <td>0.0</td>\n",
       "      <td>0.0</td>\n",
       "      <td>0.0</td>\n",
       "      <td>0.0</td>\n",
       "      <td>0.0</td>\n",
       "      <td>0.0</td>\n",
       "      <td>0.0</td>\n",
       "      <td>0.0</td>\n",
       "      <td>0.0</td>\n",
       "      <td>0.0</td>\n",
       "    </tr>\n",
       "    <tr>\n",
       "      <th>4</th>\n",
       "      <td>Aruba</td>\n",
       "      <td>NaN</td>\n",
       "      <td>2020-01-05</td>\n",
       "      <td>0.0</td>\n",
       "      <td>0.0</td>\n",
       "      <td>0.0</td>\n",
       "      <td>0.0</td>\n",
       "      <td>0.0</td>\n",
       "      <td>0.0</td>\n",
       "      <td>0.0</td>\n",
       "      <td>0.0</td>\n",
       "      <td>0.0</td>\n",
       "      <td>0.0</td>\n",
       "      <td>0.0</td>\n",
       "      <td>0.0</td>\n",
       "    </tr>\n",
       "  </tbody>\n",
       "</table>\n",
       "</div>"
      ],
      "text/plain": [
       "  CountryName RegionName       Date  C1_School closing  C2_Workplace closing  \\\n",
       "0       Aruba        NaN 2020-01-01                0.0                   0.0   \n",
       "1       Aruba        NaN 2020-01-02                0.0                   0.0   \n",
       "2       Aruba        NaN 2020-01-03                0.0                   0.0   \n",
       "3       Aruba        NaN 2020-01-04                0.0                   0.0   \n",
       "4       Aruba        NaN 2020-01-05                0.0                   0.0   \n",
       "\n",
       "   C3_Cancel public events  C4_Restrictions on gatherings  \\\n",
       "0                      0.0                            0.0   \n",
       "1                      0.0                            0.0   \n",
       "2                      0.0                            0.0   \n",
       "3                      0.0                            0.0   \n",
       "4                      0.0                            0.0   \n",
       "\n",
       "   C5_Close public transport  C6_Stay at home requirements  \\\n",
       "0                        0.0                           0.0   \n",
       "1                        0.0                           0.0   \n",
       "2                        0.0                           0.0   \n",
       "3                        0.0                           0.0   \n",
       "4                        0.0                           0.0   \n",
       "\n",
       "   C7_Restrictions on internal movement  C8_International travel controls  \\\n",
       "0                                   0.0                               0.0   \n",
       "1                                   0.0                               0.0   \n",
       "2                                   0.0                               0.0   \n",
       "3                                   0.0                               0.0   \n",
       "4                                   0.0                               0.0   \n",
       "\n",
       "   H1_Public information campaigns  H2_Testing policy  H3_Contact tracing  \\\n",
       "0                              0.0                0.0                 0.0   \n",
       "1                              0.0                0.0                 0.0   \n",
       "2                              0.0                0.0                 0.0   \n",
       "3                              0.0                0.0                 0.0   \n",
       "4                              0.0                0.0                 0.0   \n",
       "\n",
       "   H6_Facial Coverings  \n",
       "0                  0.0  \n",
       "1                  0.0  \n",
       "2                  0.0  \n",
       "3                  0.0  \n",
       "4                  0.0  "
      ]
     },
     "execution_count": 7,
     "metadata": {},
     "output_type": "execute_result"
    }
   ],
   "source": [
    "prediction_input_df.head()"
   ]
  },
  {
   "cell_type": "markdown",
   "metadata": {},
   "source": [
    "### Expected output\n",
    "For each row that was provided in input, i.e. for each country, region and day, the output should contain an additional `PredictedDailyNewCases` column with the predicted number of cases for that day, region and country. It is possible to leave `PredictedDailyNewCases` empty or NaN, or to remove the row, in case no predition is available."
   ]
  },
  {
   "cell_type": "code",
   "execution_count": 8,
   "metadata": {},
   "outputs": [],
   "source": [
    "EXAMPLE_OUTPUT_FILE = \"../../../../2020-08-01_2020-08-04_predictions_example.csv\""
   ]
  },
  {
   "cell_type": "code",
   "execution_count": 9,
   "metadata": {},
   "outputs": [],
   "source": [
    "prediction_output_df = pd.read_csv(EXAMPLE_OUTPUT_FILE,\n",
    "                                   parse_dates=['Date'],\n",
    "                                   encoding=\"ISO-8859-1\")"
   ]
  },
  {
   "cell_type": "code",
   "execution_count": 10,
   "metadata": {},
   "outputs": [
    {
     "data": {
      "text/html": [
       "<div>\n",
       "<style scoped>\n",
       "    .dataframe tbody tr th:only-of-type {\n",
       "        vertical-align: middle;\n",
       "    }\n",
       "\n",
       "    .dataframe tbody tr th {\n",
       "        vertical-align: top;\n",
       "    }\n",
       "\n",
       "    .dataframe thead th {\n",
       "        text-align: right;\n",
       "    }\n",
       "</style>\n",
       "<table border=\"1\" class=\"dataframe\">\n",
       "  <thead>\n",
       "    <tr style=\"text-align: right;\">\n",
       "      <th></th>\n",
       "      <th>CountryName</th>\n",
       "      <th>RegionName</th>\n",
       "      <th>Date</th>\n",
       "      <th>PredictedDailyNewCases</th>\n",
       "    </tr>\n",
       "  </thead>\n",
       "  <tbody>\n",
       "    <tr>\n",
       "      <th>0</th>\n",
       "      <td>Aruba</td>\n",
       "      <td>NaN</td>\n",
       "      <td>2020-08-01</td>\n",
       "      <td>0.820071</td>\n",
       "    </tr>\n",
       "    <tr>\n",
       "      <th>1</th>\n",
       "      <td>Aruba</td>\n",
       "      <td>NaN</td>\n",
       "      <td>2020-08-02</td>\n",
       "      <td>0.872854</td>\n",
       "    </tr>\n",
       "    <tr>\n",
       "      <th>2</th>\n",
       "      <td>Aruba</td>\n",
       "      <td>NaN</td>\n",
       "      <td>2020-08-03</td>\n",
       "      <td>0.000000</td>\n",
       "    </tr>\n",
       "    <tr>\n",
       "      <th>3</th>\n",
       "      <td>Aruba</td>\n",
       "      <td>NaN</td>\n",
       "      <td>2020-08-04</td>\n",
       "      <td>0.000000</td>\n",
       "    </tr>\n",
       "    <tr>\n",
       "      <th>4</th>\n",
       "      <td>Afghanistan</td>\n",
       "      <td>NaN</td>\n",
       "      <td>2020-08-01</td>\n",
       "      <td>80.590128</td>\n",
       "    </tr>\n",
       "  </tbody>\n",
       "</table>\n",
       "</div>"
      ],
      "text/plain": [
       "   CountryName RegionName       Date  PredictedDailyNewCases\n",
       "0        Aruba        NaN 2020-08-01                0.820071\n",
       "1        Aruba        NaN 2020-08-02                0.872854\n",
       "2        Aruba        NaN 2020-08-03                0.000000\n",
       "3        Aruba        NaN 2020-08-04                0.000000\n",
       "4  Afghanistan        NaN 2020-08-01               80.590128"
      ]
     },
     "execution_count": 10,
     "metadata": {},
     "output_type": "execute_result"
    }
   ],
   "source": [
    "prediction_output_df.head()"
   ]
  },
  {
   "cell_type": "markdown",
   "metadata": {},
   "source": [
    "### Evaluation\n",
    "Predictions will be evaluated on a period of 4 weeks **after** submision against the actual daily change in confirmed cases reported by the [Oxford COVID-19 Government Response Tracker (OxCGRT)](https://www.bsg.ox.ac.uk/research/research-projects/coronavirus-government-response-tracker).\n",
    "\n",
    "The latest data, including the latest confirmed cases ('ConfirmedCases') can be find here: https://raw.githubusercontent.com/OxCGRT/covid-policy-tracker/master/data/OxCGRT_latest.csv"
   ]
  },
  {
   "cell_type": "code",
   "execution_count": 11,
   "metadata": {},
   "outputs": [],
   "source": [
    "DATA_URL = 'https://raw.githubusercontent.com/OxCGRT/covid-policy-tracker/master/data/OxCGRT_latest.csv'\n",
    "df = pd.read_csv(DATA_URL,\n",
    "                 parse_dates=['Date'],\n",
    "                 encoding=\"ISO-8859-1\",\n",
    "                 dtype={\"RegionName\": str,\n",
    "                        \"RegionCode\": str},\n",
    "                 error_bad_lines=False)"
   ]
  },
  {
   "cell_type": "code",
   "execution_count": 12,
   "metadata": {},
   "outputs": [
    {
     "data": {
      "text/html": [
       "<div>\n",
       "<style scoped>\n",
       "    .dataframe tbody tr th:only-of-type {\n",
       "        vertical-align: middle;\n",
       "    }\n",
       "\n",
       "    .dataframe tbody tr th {\n",
       "        vertical-align: top;\n",
       "    }\n",
       "\n",
       "    .dataframe thead th {\n",
       "        text-align: right;\n",
       "    }\n",
       "</style>\n",
       "<table border=\"1\" class=\"dataframe\">\n",
       "  <thead>\n",
       "    <tr style=\"text-align: right;\">\n",
       "      <th></th>\n",
       "      <th>CountryName</th>\n",
       "      <th>CountryCode</th>\n",
       "      <th>RegionName</th>\n",
       "      <th>RegionCode</th>\n",
       "      <th>Jurisdiction</th>\n",
       "      <th>Date</th>\n",
       "      <th>C1_School closing</th>\n",
       "      <th>C1_Flag</th>\n",
       "      <th>C2_Workplace closing</th>\n",
       "      <th>C2_Flag</th>\n",
       "      <th>...</th>\n",
       "      <th>StringencyIndex</th>\n",
       "      <th>StringencyIndexForDisplay</th>\n",
       "      <th>StringencyLegacyIndex</th>\n",
       "      <th>StringencyLegacyIndexForDisplay</th>\n",
       "      <th>GovernmentResponseIndex</th>\n",
       "      <th>GovernmentResponseIndexForDisplay</th>\n",
       "      <th>ContainmentHealthIndex</th>\n",
       "      <th>ContainmentHealthIndexForDisplay</th>\n",
       "      <th>EconomicSupportIndex</th>\n",
       "      <th>EconomicSupportIndexForDisplay</th>\n",
       "    </tr>\n",
       "  </thead>\n",
       "  <tbody>\n",
       "    <tr>\n",
       "      <th>33505</th>\n",
       "      <td>Estonia</td>\n",
       "      <td>EST</td>\n",
       "      <td>NaN</td>\n",
       "      <td>NaN</td>\n",
       "      <td>NAT_TOTAL</td>\n",
       "      <td>2020-11-19</td>\n",
       "      <td>1.0</td>\n",
       "      <td>1.0</td>\n",
       "      <td>1.0</td>\n",
       "      <td>1.0</td>\n",
       "      <td>...</td>\n",
       "      <td>37.96</td>\n",
       "      <td>37.96</td>\n",
       "      <td>53.57</td>\n",
       "      <td>53.57</td>\n",
       "      <td>40.56</td>\n",
       "      <td>40.56</td>\n",
       "      <td>39.10</td>\n",
       "      <td>39.10</td>\n",
       "      <td>50.0</td>\n",
       "      <td>50.0</td>\n",
       "    </tr>\n",
       "    <tr>\n",
       "      <th>49621</th>\n",
       "      <td>Libya</td>\n",
       "      <td>LBY</td>\n",
       "      <td>NaN</td>\n",
       "      <td>NaN</td>\n",
       "      <td>NAT_TOTAL</td>\n",
       "      <td>2020-07-20</td>\n",
       "      <td>3.0</td>\n",
       "      <td>1.0</td>\n",
       "      <td>2.0</td>\n",
       "      <td>1.0</td>\n",
       "      <td>...</td>\n",
       "      <td>90.74</td>\n",
       "      <td>90.74</td>\n",
       "      <td>96.43</td>\n",
       "      <td>96.43</td>\n",
       "      <td>60.00</td>\n",
       "      <td>60.00</td>\n",
       "      <td>69.23</td>\n",
       "      <td>69.23</td>\n",
       "      <td>0.0</td>\n",
       "      <td>0.0</td>\n",
       "    </tr>\n",
       "    <tr>\n",
       "      <th>73455</th>\n",
       "      <td>Timor-Leste</td>\n",
       "      <td>TLS</td>\n",
       "      <td>NaN</td>\n",
       "      <td>NaN</td>\n",
       "      <td>NAT_TOTAL</td>\n",
       "      <td>2020-02-01</td>\n",
       "      <td>0.0</td>\n",
       "      <td>NaN</td>\n",
       "      <td>0.0</td>\n",
       "      <td>NaN</td>\n",
       "      <td>...</td>\n",
       "      <td>5.56</td>\n",
       "      <td>5.56</td>\n",
       "      <td>9.52</td>\n",
       "      <td>9.52</td>\n",
       "      <td>3.33</td>\n",
       "      <td>3.33</td>\n",
       "      <td>3.85</td>\n",
       "      <td>3.85</td>\n",
       "      <td>0.0</td>\n",
       "      <td>0.0</td>\n",
       "    </tr>\n",
       "  </tbody>\n",
       "</table>\n",
       "<p>3 rows × 49 columns</p>\n",
       "</div>"
      ],
      "text/plain": [
       "       CountryName CountryCode RegionName RegionCode Jurisdiction       Date  \\\n",
       "33505      Estonia         EST        NaN        NaN    NAT_TOTAL 2020-11-19   \n",
       "49621        Libya         LBY        NaN        NaN    NAT_TOTAL 2020-07-20   \n",
       "73455  Timor-Leste         TLS        NaN        NaN    NAT_TOTAL 2020-02-01   \n",
       "\n",
       "       C1_School closing  C1_Flag  C2_Workplace closing  C2_Flag  ...  \\\n",
       "33505                1.0      1.0                   1.0      1.0  ...   \n",
       "49621                3.0      1.0                   2.0      1.0  ...   \n",
       "73455                0.0      NaN                   0.0      NaN  ...   \n",
       "\n",
       "       StringencyIndex  StringencyIndexForDisplay  StringencyLegacyIndex  \\\n",
       "33505            37.96                      37.96                  53.57   \n",
       "49621            90.74                      90.74                  96.43   \n",
       "73455             5.56                       5.56                   9.52   \n",
       "\n",
       "       StringencyLegacyIndexForDisplay  GovernmentResponseIndex  \\\n",
       "33505                            53.57                    40.56   \n",
       "49621                            96.43                    60.00   \n",
       "73455                             9.52                     3.33   \n",
       "\n",
       "       GovernmentResponseIndexForDisplay  ContainmentHealthIndex  \\\n",
       "33505                              40.56                   39.10   \n",
       "49621                              60.00                   69.23   \n",
       "73455                               3.33                    3.85   \n",
       "\n",
       "       ContainmentHealthIndexForDisplay  EconomicSupportIndex  \\\n",
       "33505                             39.10                  50.0   \n",
       "49621                             69.23                   0.0   \n",
       "73455                              3.85                   0.0   \n",
       "\n",
       "       EconomicSupportIndexForDisplay  \n",
       "33505                            50.0  \n",
       "49621                             0.0  \n",
       "73455                             0.0  \n",
       "\n",
       "[3 rows x 49 columns]"
      ]
     },
     "execution_count": 12,
     "metadata": {},
     "output_type": "execute_result"
    }
   ],
   "source": [
    "df.sample(3)"
   ]
  },
  {
   "cell_type": "markdown",
   "metadata": {},
   "source": [
    "### Daily change in confirmed cases\n",
    "The daily change in confirmed cases can be computed like this:"
   ]
  },
  {
   "cell_type": "code",
   "execution_count": 13,
   "metadata": {},
   "outputs": [],
   "source": [
    "df[\"GeoID\"] = np.where(df[\"RegionName\"].isnull(),\n",
    "                                      df[\"CountryName\"],\n",
    "                                      df[\"CountryName\"] + ' / ' + df[\"RegionName\"])\n",
    "df[\"DailyChangeConfirmedCases\"] = df.groupby([\"GeoID\"]).ConfirmedCases.diff().fillna(0)"
   ]
  },
  {
   "cell_type": "markdown",
   "metadata": {},
   "source": [
    "For instance, for country **United States**, region **California**, the latest available changes in confirmed cases are:"
   ]
  },
  {
   "cell_type": "code",
   "execution_count": 14,
   "metadata": {},
   "outputs": [],
   "source": [
    "california_df = df[(df.CountryName == \"United States\") & (df.RegionName == \"California\")]"
   ]
  },
  {
   "cell_type": "code",
   "execution_count": 15,
   "metadata": {},
   "outputs": [
    {
     "data": {
      "text/html": [
       "<div>\n",
       "<style scoped>\n",
       "    .dataframe tbody tr th:only-of-type {\n",
       "        vertical-align: middle;\n",
       "    }\n",
       "\n",
       "    .dataframe tbody tr th {\n",
       "        vertical-align: top;\n",
       "    }\n",
       "\n",
       "    .dataframe thead th {\n",
       "        text-align: right;\n",
       "    }\n",
       "</style>\n",
       "<table border=\"1\" class=\"dataframe\">\n",
       "  <thead>\n",
       "    <tr style=\"text-align: right;\">\n",
       "      <th></th>\n",
       "      <th>CountryName</th>\n",
       "      <th>RegionName</th>\n",
       "      <th>Date</th>\n",
       "      <th>ConfirmedCases</th>\n",
       "      <th>DailyChangeConfirmedCases</th>\n",
       "    </tr>\n",
       "  </thead>\n",
       "  <tbody>\n",
       "    <tr>\n",
       "      <th>79067</th>\n",
       "      <td>United States</td>\n",
       "      <td>California</td>\n",
       "      <td>2020-12-14</td>\n",
       "      <td>1611493.0</td>\n",
       "      <td>26115.0</td>\n",
       "    </tr>\n",
       "    <tr>\n",
       "      <th>79068</th>\n",
       "      <td>United States</td>\n",
       "      <td>California</td>\n",
       "      <td>2020-12-15</td>\n",
       "      <td>1644742.0</td>\n",
       "      <td>33249.0</td>\n",
       "    </tr>\n",
       "    <tr>\n",
       "      <th>79069</th>\n",
       "      <td>United States</td>\n",
       "      <td>California</td>\n",
       "      <td>2020-12-16</td>\n",
       "      <td>1708559.0</td>\n",
       "      <td>63817.0</td>\n",
       "    </tr>\n",
       "    <tr>\n",
       "      <th>79070</th>\n",
       "      <td>United States</td>\n",
       "      <td>California</td>\n",
       "      <td>2020-12-17</td>\n",
       "      <td>1753974.0</td>\n",
       "      <td>45415.0</td>\n",
       "    </tr>\n",
       "    <tr>\n",
       "      <th>79071</th>\n",
       "      <td>United States</td>\n",
       "      <td>California</td>\n",
       "      <td>2020-12-18</td>\n",
       "      <td>NaN</td>\n",
       "      <td>0.0</td>\n",
       "    </tr>\n",
       "  </tbody>\n",
       "</table>\n",
       "</div>"
      ],
      "text/plain": [
       "         CountryName  RegionName       Date  ConfirmedCases  \\\n",
       "79067  United States  California 2020-12-14       1611493.0   \n",
       "79068  United States  California 2020-12-15       1644742.0   \n",
       "79069  United States  California 2020-12-16       1708559.0   \n",
       "79070  United States  California 2020-12-17       1753974.0   \n",
       "79071  United States  California 2020-12-18             NaN   \n",
       "\n",
       "       DailyChangeConfirmedCases  \n",
       "79067                    26115.0  \n",
       "79068                    33249.0  \n",
       "79069                    63817.0  \n",
       "79070                    45415.0  \n",
       "79071                        0.0  "
      ]
     },
     "execution_count": 15,
     "metadata": {},
     "output_type": "execute_result"
    }
   ],
   "source": [
    "california_df[[\"CountryName\", \"RegionName\", \"Date\", \"ConfirmedCases\", \"DailyChangeConfirmedCases\"]].tail(5)"
   ]
  },
  {
   "cell_type": "markdown",
   "metadata": {},
   "source": [
    "# Training a model"
   ]
  },
  {
   "cell_type": "markdown",
   "metadata": {},
   "source": [
    "## Copy the data locally"
   ]
  },
  {
   "cell_type": "code",
   "execution_count": 16,
   "metadata": {},
   "outputs": [
    {
     "data": {
      "text/plain": [
       "20719256"
      ]
     },
     "execution_count": 16,
     "metadata": {},
     "output_type": "execute_result"
    }
   ],
   "source": [
    "# Main source for the training data\n",
    "DATA_URL = 'https://raw.githubusercontent.com/OxCGRT/covid-policy-tracker/master/data/OxCGRT_latest.csv'\n",
    "DATA_FILE = 'data/OxCGRT_latest.csv'\n",
    "\n",
    "# Download the data set\n",
    "data = requests.get(DATA_URL)\n",
    "\n",
    "# Persist the data set locally in order to use it after submission to make predictions,\n",
    "# as the sandbox won't have access to the internet anymore.\n",
    "if not os.path.exists('data'):\n",
    "    os.mkdir('data')\n",
    "open(DATA_FILE, 'wb').write(data.content)"
   ]
  },
  {
   "cell_type": "markdown",
   "metadata": {},
   "source": [
    "## Train"
   ]
  },
  {
   "cell_type": "code",
   "execution_count": 23,
   "metadata": {},
   "outputs": [],
   "source": [
    "# Reload the module to get the latest changes\n",
    "# import xprize_predictor\n",
    "# from importlib import reload\n",
    "# reload(xprize_predictor)\n",
    "# from xprize_predictor import XPrizePredictor\n",
    "import xprize_predictor_copy\n",
    "from importlib import reload\n",
    "reload(xprize_predictor_copy)\n",
    "from xprize_predictor_copy import XPrizePredictor"
   ]
  },
  {
   "cell_type": "code",
   "execution_count": 24,
   "metadata": {
    "tags": []
   },
   "outputs": [
    {
     "name": "stdout",
     "output_type": "stream",
     "text": [
      "Loading holiday data\n"
     ]
    }
   ],
   "source": [
    "predictor = XPrizePredictor(None, DATA_FILE)"
   ]
  },
  {
   "cell_type": "code",
   "execution_count": 25,
   "metadata": {
    "tags": []
   },
   "outputs": [
    {
     "name": "stdout",
     "output_type": "stream",
     "text": [
      "Creating numpy arrays for Keras for each country...\n",
      "Numpy arrays created\n",
      "Trial 0\n",
      "14/14 [==============================] - 0s 2ms/step - loss: 0.0312\n",
      "Train Loss: 0.05629141628742218\n",
      "Val Loss: 0.055013272911310196\n",
      "Test Loss: 0.031224068254232407\n",
      "Done\n",
      "CPU times: user 18min 22s, sys: 3min 37s, total: 21min 59s\n",
      "Wall time: 4min 37s\n"
     ]
    }
   ],
   "source": [
    "%%time\n",
    "predictor_model = predictor.train()"
   ]
  },
  {
   "cell_type": "code",
   "execution_count": 26,
   "metadata": {},
   "outputs": [],
   "source": [
    "if not os.path.exists('models'):\n",
    "    os.mkdir('models')\n",
    "predictor_model.save_weights(\"models/holidays_confirmed_deaths.h5\")"
   ]
  },
  {
   "cell_type": "markdown",
   "metadata": {},
   "source": [
    "# Predicting using a trained model"
   ]
  },
  {
   "cell_type": "markdown",
   "metadata": {},
   "source": [
    "## Load candidate model"
   ]
  },
  {
   "cell_type": "code",
   "execution_count": 21,
   "metadata": {},
   "outputs": [],
   "source": [
    "model_weights_file = \"models/trained_model_weights.h5\""
   ]
  },
  {
   "cell_type": "code",
   "execution_count": 22,
   "metadata": {},
   "outputs": [],
   "source": [
    "predictor = XPrizePredictor(model_weights_file, DATA_FILE)"
   ]
  },
  {
   "cell_type": "markdown",
   "metadata": {},
   "source": [
    "## Make prediction"
   ]
  },
  {
   "cell_type": "code",
   "execution_count": 61,
   "metadata": {},
   "outputs": [],
   "source": [
    "NPIS_INPUT_FILE = \"../../../validation/data/2020-12-16_historical_ip.csv\"\n",
    "start_date = \"2020-12-01\"\n",
    "end_date = \"2020-12-15\""
   ]
  },
  {
   "cell_type": "code",
   "execution_count": 24,
   "metadata": {},
   "outputs": [
    {
     "name": "stdout",
     "output_type": "stream",
     "text": [
      "CPU times: user 1min 59s, sys: 2.69 s, total: 2min 1s\n",
      "Wall time: 1min 53s\n"
     ]
    }
   ],
   "source": [
    "%%time\n",
    "preds_df = predictor.predict(start_date, end_date, NPIS_INPUT_FILE)"
   ]
  },
  {
   "cell_type": "code",
   "execution_count": 85,
   "metadata": {},
   "outputs": [],
   "source": [
    "# preds_date_df = preds_df[(preds_df['Date'] >= '2020-08-01') & (preds_df['Date'] <= '2020-08-31')]\n",
    "date_df = df[(df['Date'] >= start_date) & (df['Date'] <= end_date)]\n",
    "california_df = date_df[(date_df.CountryName == \"United States\") & (date_df.RegionName == \"California\")]"
   ]
  },
  {
   "cell_type": "code",
   "execution_count": 26,
   "metadata": {},
   "outputs": [],
   "source": [
    "merged_df = pd.merge(date_df, preds_date_df, on=[\"Date\", \"CountryName\", \"RegionName\"])\n",
    "mse = mean_squared_error(merged_df['DailyChangeConfirmedCases'], merged_df['PredictedDailyNewCases'])\n",
    "# merged_df['NewCasesDifference'] = merged_df['PredictedDailyNewCases'] - merged_df['DailyChangeConfirmedCases']\n",
    "# merged_df[[\"CountryName\", \"RegionName\", \"Date\", \"DailyChangeConfirmedCases\", \"PredictedDailyNewCases\", \"NewCasesDifference\"]].head()"
   ]
  },
  {
   "cell_type": "markdown",
   "metadata": {},
   "source": [
    "Change test days to 60"
   ]
  },
  {
   "cell_type": "code",
   "execution_count": 27,
   "metadata": {},
   "outputs": [],
   "source": [
    "model_60_weights_file = \"models/trained_model_weights_60_test_days.h5\""
   ]
  },
  {
   "cell_type": "code",
   "execution_count": 28,
   "metadata": {},
   "outputs": [],
   "source": [
    "predictor = XPrizePredictor(model_60_weights_file, DATA_FILE)"
   ]
  },
  {
   "cell_type": "code",
   "execution_count": 76,
   "metadata": {},
   "outputs": [
    {
     "name": "stdout",
     "output_type": "stream",
     "text": [
      "      CountryName CountryCode RegionName RegionCode Jurisdiction       Date  \\\n",
      "98335    Zimbabwe         ZWE        NaN        NaN    NAT_TOTAL 2020-05-07   \n",
      "98336    Zimbabwe         ZWE        NaN        NaN    NAT_TOTAL 2020-05-08   \n",
      "98337    Zimbabwe         ZWE        NaN        NaN    NAT_TOTAL 2020-05-09   \n",
      "98338    Zimbabwe         ZWE        NaN        NaN    NAT_TOTAL 2020-05-10   \n",
      "98339    Zimbabwe         ZWE        NaN        NaN    NAT_TOTAL 2020-05-11   \n",
      "98340    Zimbabwe         ZWE        NaN        NaN    NAT_TOTAL 2020-05-12   \n",
      "98341    Zimbabwe         ZWE        NaN        NaN    NAT_TOTAL 2020-05-13   \n",
      "98342    Zimbabwe         ZWE        NaN        NaN    NAT_TOTAL 2020-05-14   \n",
      "98343    Zimbabwe         ZWE        NaN        NaN    NAT_TOTAL 2020-05-15   \n",
      "98344    Zimbabwe         ZWE        NaN        NaN    NAT_TOTAL 2020-05-16   \n",
      "98345    Zimbabwe         ZWE        NaN        NaN    NAT_TOTAL 2020-05-17   \n",
      "98346    Zimbabwe         ZWE        NaN        NaN    NAT_TOTAL 2020-05-18   \n",
      "98347    Zimbabwe         ZWE        NaN        NaN    NAT_TOTAL 2020-05-19   \n",
      "98348    Zimbabwe         ZWE        NaN        NaN    NAT_TOTAL 2020-05-20   \n",
      "\n",
      "       C1_School closing  C1_Flag  C2_Workplace closing  C2_Flag  ...  \\\n",
      "98335                3.0      1.0                   3.0      1.0  ...   \n",
      "98336                3.0      1.0                   3.0      1.0  ...   \n",
      "98337                3.0      1.0                   3.0      1.0  ...   \n",
      "98338                3.0      1.0                   3.0      1.0  ...   \n",
      "98339                3.0      1.0                   3.0      1.0  ...   \n",
      "98340                3.0      1.0                   3.0      1.0  ...   \n",
      "98341                3.0      1.0                   3.0      1.0  ...   \n",
      "98342                3.0      1.0                   3.0      1.0  ...   \n",
      "98343                3.0      1.0                   3.0      1.0  ...   \n",
      "98344                3.0      1.0                   3.0      1.0  ...   \n",
      "98345                3.0      1.0                   3.0      1.0  ...   \n",
      "98346                3.0      1.0                   3.0      1.0  ...   \n",
      "98347                3.0      1.0                   3.0      1.0  ...   \n",
      "98348                3.0      1.0                   3.0      1.0  ...   \n",
      "\n",
      "       StringencyIndexForDisplay  StringencyLegacyIndex  \\\n",
      "98335                      87.96                  95.24   \n",
      "98336                      87.96                  95.24   \n",
      "98337                      87.96                  95.24   \n",
      "98338                      87.96                  95.24   \n",
      "98339                      87.96                  95.24   \n",
      "98340                      87.96                  95.24   \n",
      "98341                      87.96                  95.24   \n",
      "98342                      87.96                  95.24   \n",
      "98343                      87.96                  95.24   \n",
      "98344                      87.96                  95.24   \n",
      "98345                      87.96                  95.24   \n",
      "98346                      87.96                  95.24   \n",
      "98347                      87.96                  95.24   \n",
      "98348                      87.96                  95.24   \n",
      "\n",
      "       StringencyLegacyIndexForDisplay  GovernmentResponseIndex  \\\n",
      "98335                            95.24                    68.33   \n",
      "98336                            95.24                    68.33   \n",
      "98337                            95.24                    68.33   \n",
      "98338                            95.24                    68.33   \n",
      "98339                            95.24                    68.33   \n",
      "98340                            95.24                    68.33   \n",
      "98341                            95.24                    68.33   \n",
      "98342                            95.24                    68.33   \n",
      "98343                            95.24                    68.33   \n",
      "98344                            95.24                    68.33   \n",
      "98345                            95.24                    68.33   \n",
      "98346                            95.24                    68.33   \n",
      "98347                            95.24                    68.33   \n",
      "98348                            95.24                    68.33   \n",
      "\n",
      "       GovernmentResponseIndexForDisplay  ContainmentHealthIndex  \\\n",
      "98335                              68.33                    75.0   \n",
      "98336                              68.33                    75.0   \n",
      "98337                              68.33                    75.0   \n",
      "98338                              68.33                    75.0   \n",
      "98339                              68.33                    75.0   \n",
      "98340                              68.33                    75.0   \n",
      "98341                              68.33                    75.0   \n",
      "98342                              68.33                    75.0   \n",
      "98343                              68.33                    75.0   \n",
      "98344                              68.33                    75.0   \n",
      "98345                              68.33                    75.0   \n",
      "98346                              68.33                    75.0   \n",
      "98347                              68.33                    75.0   \n",
      "98348                              68.33                    75.0   \n",
      "\n",
      "       ContainmentHealthIndexForDisplay  EconomicSupportIndex  \\\n",
      "98335                              75.0                  25.0   \n",
      "98336                              75.0                  25.0   \n",
      "98337                              75.0                  25.0   \n",
      "98338                              75.0                  25.0   \n",
      "98339                              75.0                  25.0   \n",
      "98340                              75.0                  25.0   \n",
      "98341                              75.0                  25.0   \n",
      "98342                              75.0                  25.0   \n",
      "98343                              75.0                  25.0   \n",
      "98344                              75.0                  25.0   \n",
      "98345                              75.0                  25.0   \n",
      "98346                              75.0                  25.0   \n",
      "98347                              75.0                  25.0   \n",
      "98348                              75.0                  25.0   \n",
      "\n",
      "       EconomicSupportIndexForDisplay     GeoID  \n",
      "98335                            25.0  Zimbabwe  \n",
      "98336                            25.0  Zimbabwe  \n",
      "98337                            25.0  Zimbabwe  \n",
      "98338                            25.0  Zimbabwe  \n",
      "98339                            25.0  Zimbabwe  \n",
      "98340                            25.0  Zimbabwe  \n",
      "98341                            25.0  Zimbabwe  \n",
      "98342                            25.0  Zimbabwe  \n",
      "98343                            25.0  Zimbabwe  \n",
      "98344                            25.0  Zimbabwe  \n",
      "98345                            25.0  Zimbabwe  \n",
      "98346                            25.0  Zimbabwe  \n",
      "98347                            25.0  Zimbabwe  \n",
      "98348                            25.0  Zimbabwe  \n",
      "\n",
      "[14 rows x 50 columns]\n"
     ]
    }
   ],
   "source": [
    "model_weights_original = \"models/original_model.h5\"\n",
    "predictor = XPrizePredictor(model_weights_original, DATA_FILE)"
   ]
  },
  {
   "cell_type": "code",
   "execution_count": 77,
   "metadata": {},
   "outputs": [
    {
     "name": "stdout",
     "output_type": "stream",
     "text": [
      "      CountryName RegionName       Date  C1_School closing  \\\n",
      "93142    Zimbabwe        NaN 2020-05-07                3.0   \n",
      "93143    Zimbabwe        NaN 2020-05-08                3.0   \n",
      "93144    Zimbabwe        NaN 2020-05-09                3.0   \n",
      "93145    Zimbabwe        NaN 2020-05-10                3.0   \n",
      "93146    Zimbabwe        NaN 2020-05-11                3.0   \n",
      "93147    Zimbabwe        NaN 2020-05-12                3.0   \n",
      "93148    Zimbabwe        NaN 2020-05-13                3.0   \n",
      "93149    Zimbabwe        NaN 2020-05-14                3.0   \n",
      "93150    Zimbabwe        NaN 2020-05-15                3.0   \n",
      "93151    Zimbabwe        NaN 2020-05-16                3.0   \n",
      "93152    Zimbabwe        NaN 2020-05-17                3.0   \n",
      "93153    Zimbabwe        NaN 2020-05-18                3.0   \n",
      "93154    Zimbabwe        NaN 2020-05-19                3.0   \n",
      "93155    Zimbabwe        NaN 2020-05-20                3.0   \n",
      "\n",
      "       C2_Workplace closing  C3_Cancel public events  \\\n",
      "93142                   3.0                      2.0   \n",
      "93143                   3.0                      2.0   \n",
      "93144                   3.0                      2.0   \n",
      "93145                   3.0                      2.0   \n",
      "93146                   3.0                      2.0   \n",
      "93147                   3.0                      2.0   \n",
      "93148                   3.0                      2.0   \n",
      "93149                   3.0                      2.0   \n",
      "93150                   3.0                      2.0   \n",
      "93151                   3.0                      2.0   \n",
      "93152                   3.0                      2.0   \n",
      "93153                   3.0                      2.0   \n",
      "93154                   3.0                      2.0   \n",
      "93155                   3.0                      2.0   \n",
      "\n",
      "       C4_Restrictions on gatherings  C5_Close public transport  \\\n",
      "93142                            3.0                        1.0   \n",
      "93143                            3.0                        1.0   \n",
      "93144                            3.0                        1.0   \n",
      "93145                            3.0                        1.0   \n",
      "93146                            3.0                        1.0   \n",
      "93147                            3.0                        1.0   \n",
      "93148                            3.0                        1.0   \n",
      "93149                            3.0                        1.0   \n",
      "93150                            3.0                        1.0   \n",
      "93151                            3.0                        1.0   \n",
      "93152                            3.0                        1.0   \n",
      "93153                            3.0                        1.0   \n",
      "93154                            3.0                        1.0   \n",
      "93155                            3.0                        1.0   \n",
      "\n",
      "       C6_Stay at home requirements  C7_Restrictions on internal movement  \\\n",
      "93142                           2.0                                   2.0   \n",
      "93143                           2.0                                   2.0   \n",
      "93144                           2.0                                   2.0   \n",
      "93145                           2.0                                   2.0   \n",
      "93146                           2.0                                   2.0   \n",
      "93147                           2.0                                   2.0   \n",
      "93148                           2.0                                   2.0   \n",
      "93149                           2.0                                   2.0   \n",
      "93150                           2.0                                   2.0   \n",
      "93151                           2.0                                   2.0   \n",
      "93152                           2.0                                   2.0   \n",
      "93153                           2.0                                   2.0   \n",
      "93154                           2.0                                   2.0   \n",
      "93155                           2.0                                   2.0   \n",
      "\n",
      "       C8_International travel controls  H1_Public information campaigns  \\\n",
      "93142                               4.0                              2.0   \n",
      "93143                               4.0                              2.0   \n",
      "93144                               4.0                              2.0   \n",
      "93145                               4.0                              2.0   \n",
      "93146                               4.0                              2.0   \n",
      "93147                               4.0                              2.0   \n",
      "93148                               4.0                              2.0   \n",
      "93149                               4.0                              2.0   \n",
      "93150                               4.0                              2.0   \n",
      "93151                               4.0                              2.0   \n",
      "93152                               4.0                              2.0   \n",
      "93153                               4.0                              2.0   \n",
      "93154                               4.0                              2.0   \n",
      "93155                               4.0                              2.0   \n",
      "\n",
      "       H2_Testing policy  H3_Contact tracing  H6_Facial Coverings     GeoID  \n",
      "93142                1.0                 1.0                  4.0  Zimbabwe  \n",
      "93143                1.0                 1.0                  4.0  Zimbabwe  \n",
      "93144                1.0                 1.0                  4.0  Zimbabwe  \n",
      "93145                1.0                 1.0                  4.0  Zimbabwe  \n",
      "93146                1.0                 1.0                  4.0  Zimbabwe  \n",
      "93147                1.0                 1.0                  4.0  Zimbabwe  \n",
      "93148                1.0                 1.0                  4.0  Zimbabwe  \n",
      "93149                1.0                 1.0                  4.0  Zimbabwe  \n",
      "93150                1.0                 1.0                  4.0  Zimbabwe  \n",
      "93151                1.0                 1.0                  4.0  Zimbabwe  \n",
      "93152                1.0                 1.0                  4.0  Zimbabwe  \n",
      "93153                1.0                 1.0                  4.0  Zimbabwe  \n",
      "93154                1.0                 1.0                  4.0  Zimbabwe  \n",
      "93155                1.0                 1.0                  4.0  Zimbabwe  \n",
      "CPU times: user 1min, sys: 1.41 s, total: 1min 2s\n",
      "Wall time: 58 s\n"
     ]
    }
   ],
   "source": [
    "%%time\n",
    "preds_original_df = predictor.predict(start_date, end_date, NPIS_INPUT_FILE)"
   ]
  },
  {
   "cell_type": "code",
   "execution_count": 101,
   "metadata": {},
   "outputs": [
    {
     "data": {
      "text/plain": [
       "285692.6288653585"
      ]
     },
     "execution_count": 101,
     "metadata": {},
     "output_type": "execute_result"
    }
   ],
   "source": [
    "#BASELINE\n",
    "preds_original_date_df = preds_original_df[(preds_original_df[\"Date\"] >= start_date) & (preds_original_df[\"Date\"] <= end_date)]\n",
    "full_df = df[(df[\"Date\"] <= end_date)]\n",
    "preds_original_date_df[\"GeoID\"] = np.where(preds_original_date_df[\"RegionName\"].isnull(),\n",
    "                                      preds_original_date_df[\"CountryName\"],\n",
    "                                      preds_original_date_df[\"CountryName\"] + ' / ' + preds_original_date_df[\"RegionName\"])\n",
    "merged_original_df = pd.merge(date_df, preds_original_date_df, on=[\"Date\", \"GeoID\"])\n",
    "gdf = full_df.groupby('GeoID')['ConfirmedDeaths'].agg(['max', 'count']).sort_values(by='max', ascending=False)\n",
    "filtered_gdf = gdf[gdf[\"count\"] > 21]\n",
    "geos = list(filtered_gdf.head(20).index)\n",
    "merged_original_df = merged_original_df[(merged_original_df[\"GeoID\"].isin(geos))]\n",
    "preds_original_mae = np.sum(np.abs(merged_original_df.DailyChangeConfirmedCases.values - merged_original_df.PredictedDailyNewCases.values))\n",
    "preds_original_mae"
   ]
  },
  {
   "cell_type": "code",
   "execution_count": 110,
   "metadata": {},
   "outputs": [],
   "source": [
    "model_weights_pred_ratio = \"models/original_model_prediction_ratio.h5\"\n",
    "predictor = XPrizePredictor(model_weights_pred_ratio, DATA_FILE)"
   ]
  },
  {
   "cell_type": "code",
   "execution_count": 111,
   "metadata": {},
   "outputs": [
    {
     "name": "stdout",
     "output_type": "stream",
     "text": [
      "CPU times: user 1min 2s, sys: 1.28 s, total: 1min 3s\n",
      "Wall time: 59.1 s\n"
     ]
    }
   ],
   "source": [
    "%%time\n",
    "preds_ratio_df = predictor.predict(start_date, end_date, NPIS_INPUT_FILE)"
   ]
  },
  {
   "cell_type": "code",
   "execution_count": 112,
   "metadata": {},
   "outputs": [
    {
     "data": {
      "text/plain": [
       "189715.16666472307"
      ]
     },
     "execution_count": 112,
     "metadata": {},
     "output_type": "execute_result"
    }
   ],
   "source": [
    "#PREDICTION RATIO\n",
    "preds_ratio_date_df = preds_ratio_df[(preds_ratio_df[\"Date\"] >= start_date) & (preds_ratio_df[\"Date\"] <= end_date)]\n",
    "preds_ratio_date_df[\"GeoID\"] = np.where(preds_ratio_date_df[\"RegionName\"].isnull(),\n",
    "                                      preds_ratio_date_df[\"CountryName\"],\n",
    "                                      preds_ratio_date_df[\"CountryName\"] + ' / ' + preds_ratio_date_df[\"RegionName\"])\n",
    "merged_ratio_df = pd.merge(date_df, preds_ratio_date_df, on=[\"Date\", \"GeoID\"])\n",
    "merged_ratio_df = merged_ratio_df[(merged_ratio_df[\"GeoID\"].isin(geos))]\n",
    "preds_ratio_mae = np.sum(np.abs(merged_ratio_df.DailyChangeConfirmedCases.values - merged_ratio_df.PredictedDailyNewCases.values))\n",
    "preds_ratio_mae"
   ]
  },
  {
   "cell_type": "code",
   "execution_count": 73,
   "metadata": {},
   "outputs": [],
   "source": [
    "# BETTER PREDICT FUNCTION\n",
    "model_weights_pred_ratio = \"models/original_model_prediction_ratio.h5\"\n",
    "better_predictor = XPrizePredictor(model_weights_pred_ratio, DATA_FILE)\n"
   ]
  },
  {
   "cell_type": "code",
   "execution_count": 74,
   "metadata": {},
   "outputs": [
    {
     "name": "stdout",
     "output_type": "stream",
     "text": [
      "CPU times: user 15min 19s, sys: 3.01 s, total: 15min 22s\n",
      "Wall time: 15min 19s\n"
     ]
    }
   ],
   "source": [
    "%%time\n",
    "better_preds_ratio_df = better_predictor.predict(start_date, end_date, NPIS_INPUT_FILE)"
   ]
  },
  {
   "cell_type": "code",
   "execution_count": 75,
   "metadata": {},
   "outputs": [
    {
     "ename": "NameError",
     "evalue": "name 'date_df' is not defined",
     "output_type": "error",
     "traceback": [
      "\u001b[0;31m---------------------------------------------------------------------------\u001b[0m",
      "\u001b[0;31mNameError\u001b[0m                                 Traceback (most recent call last)",
      "\u001b[0;32m<ipython-input-75-0d39fa60e01b>\u001b[0m in \u001b[0;36m<module>\u001b[0;34m\u001b[0m\n\u001b[1;32m      4\u001b[0m                                       \u001b[0mbetter_preds_ratio_date_df\u001b[0m\u001b[0;34m[\u001b[0m\u001b[0;34m\"CountryName\"\u001b[0m\u001b[0;34m]\u001b[0m\u001b[0;34m,\u001b[0m\u001b[0;34m\u001b[0m\u001b[0;34m\u001b[0m\u001b[0m\n\u001b[1;32m      5\u001b[0m                                       better_preds_ratio_date_df[\"CountryName\"] + ' / ' + better_preds_ratio_date_df[\"RegionName\"])\n\u001b[0;32m----> 6\u001b[0;31m \u001b[0mbetter_merged_ratio_df\u001b[0m \u001b[0;34m=\u001b[0m \u001b[0mpd\u001b[0m\u001b[0;34m.\u001b[0m\u001b[0mmerge\u001b[0m\u001b[0;34m(\u001b[0m\u001b[0mdate_df\u001b[0m\u001b[0;34m,\u001b[0m \u001b[0mbetter_preds_ratio_date_df\u001b[0m\u001b[0;34m,\u001b[0m \u001b[0mon\u001b[0m\u001b[0;34m=\u001b[0m\u001b[0;34m[\u001b[0m\u001b[0;34m\"Date\"\u001b[0m\u001b[0;34m,\u001b[0m \u001b[0;34m\"GeoID\"\u001b[0m\u001b[0;34m]\u001b[0m\u001b[0;34m)\u001b[0m\u001b[0;34m\u001b[0m\u001b[0;34m\u001b[0m\u001b[0m\n\u001b[0m\u001b[1;32m      7\u001b[0m \u001b[0mbetter_merged_ratio_df\u001b[0m \u001b[0;34m=\u001b[0m \u001b[0mbetter_merged_ratio_df\u001b[0m\u001b[0;34m[\u001b[0m\u001b[0;34m(\u001b[0m\u001b[0mbetter_merged_ratio_df\u001b[0m\u001b[0;34m[\u001b[0m\u001b[0;34m\"GeoID\"\u001b[0m\u001b[0;34m]\u001b[0m\u001b[0;34m.\u001b[0m\u001b[0misin\u001b[0m\u001b[0;34m(\u001b[0m\u001b[0mgeos\u001b[0m\u001b[0;34m)\u001b[0m\u001b[0;34m)\u001b[0m\u001b[0;34m]\u001b[0m\u001b[0;34m\u001b[0m\u001b[0;34m\u001b[0m\u001b[0m\n\u001b[1;32m      8\u001b[0m \u001b[0mbetter_preds_ratio_mae\u001b[0m \u001b[0;34m=\u001b[0m \u001b[0mnp\u001b[0m\u001b[0;34m.\u001b[0m\u001b[0msum\u001b[0m\u001b[0;34m(\u001b[0m\u001b[0mnp\u001b[0m\u001b[0;34m.\u001b[0m\u001b[0mabs\u001b[0m\u001b[0;34m(\u001b[0m\u001b[0mbetter_merged_ratio_df\u001b[0m\u001b[0;34m.\u001b[0m\u001b[0mDailyChangeConfirmedCases\u001b[0m\u001b[0;34m.\u001b[0m\u001b[0mvalues\u001b[0m \u001b[0;34m-\u001b[0m \u001b[0mbetter_merged_ratio_df\u001b[0m\u001b[0;34m.\u001b[0m\u001b[0mPredictedDailyNewCases\u001b[0m\u001b[0;34m.\u001b[0m\u001b[0mvalues\u001b[0m\u001b[0;34m)\u001b[0m\u001b[0;34m)\u001b[0m\u001b[0;34m\u001b[0m\u001b[0;34m\u001b[0m\u001b[0m\n",
      "\u001b[0;31mNameError\u001b[0m: name 'date_df' is not defined"
     ]
    }
   ],
   "source": [
    "#PREDICTION RATIO BETTER PREDICTOR\n",
    "better_preds_ratio_date_df = better_preds_ratio_df[(better_preds_ratio_df[\"Date\"] >= start_date) & (better_preds_ratio_df[\"Date\"] <= end_date)]\n",
    "better_preds_ratio_date_df[\"GeoID\"] = np.where(better_preds_ratio_date_df[\"RegionName\"].isnull(),\n",
    "                                      better_preds_ratio_date_df[\"CountryName\"],\n",
    "                                      better_preds_ratio_date_df[\"CountryName\"] + ' / ' + better_preds_ratio_date_df[\"RegionName\"])\n",
    "better_merged_ratio_df = pd.merge(date_df, better_preds_ratio_date_df, on=[\"Date\", \"GeoID\"])\n",
    "better_merged_ratio_df = better_merged_ratio_df[(better_merged_ratio_df[\"GeoID\"].isin(geos))]\n",
    "better_preds_ratio_mae = np.sum(np.abs(better_merged_ratio_df.DailyChangeConfirmedCases.values - better_merged_ratio_df.PredictedDailyNewCases.values))\n",
    "better_preds_ratio_mae"
   ]
  },
  {
   "cell_type": "markdown",
   "metadata": {},
   "source": [
    "# Validation\n",
    "This is how the predictor is going to be called during the competition.  \n",
    "!!! PLEASE DO NOT CHANGE THE API !!!"
   ]
  },
  {
   "cell_type": "code",
   "execution_count": 21,
   "metadata": {},
   "outputs": [
    {
     "name": "stdout",
     "output_type": "stream",
     "text": [
      "Generating predictions from 2020-08-01 to 2020-08-04...\n",
      "Saved predictions to predictions/2020-08-01_2020-08-04.csv\n",
      "Done!\n"
     ]
    }
   ],
   "source": [
    "!python predict.py -s 2020-08-01 -e 2020-08-04 -ip ../../../validation/data/2020-09-30_historical_ip.csv -o predictions/2020-08-01_2020-08-04.csv"
   ]
  },
  {
   "cell_type": "code",
   "execution_count": 22,
   "metadata": {},
   "outputs": [
    {
     "name": "stdout",
     "output_type": "stream",
     "text": [
      "CountryName,RegionName,Date,PredictedDailyNewCases\n",
      "Aruba,,2020-08-01,0.0\n",
      "Aruba,,2020-08-02,1.7698189576811538\n",
      "Aruba,,2020-08-03,21.939474736193304\n",
      "Aruba,,2020-08-04,25.106195049205034\n",
      "Afghanistan,,2020-08-01,269.09904415313025\n",
      "Afghanistan,,2020-08-02,155.55027796759626\n",
      "Afghanistan,,2020-08-03,240.02544615184394\n",
      "Afghanistan,,2020-08-04,200.2726904410946\n",
      "Angola,,2020-08-01,15.565491775948328\n"
     ]
    }
   ],
   "source": [
    "!head predictions/2020-08-01_2020-08-04.csv"
   ]
  },
  {
   "cell_type": "markdown",
   "metadata": {},
   "source": [
    "# Test cases\n",
    "We can generate a prediction file. Let's validate a few cases..."
   ]
  },
  {
   "cell_type": "code",
   "execution_count": 24,
   "metadata": {},
   "outputs": [],
   "source": [
    "# Check the pediction file is valid\n",
    "import os\n",
    "from predictor_validation import validate_submission\n",
    "\n",
    "def validate(start_date, end_date, ip_file, output_file):\n",
    "    # First, delete any potential old file\n",
    "    try:\n",
    "        os.remove(output_file)\n",
    "    except OSError:\n",
    "        pass\n",
    "    \n",
    "    # Then generate the prediction, calling the official API\n",
    "    !python predict.py -s {start_date} -e {end_date} -ip {ip_file} -o {output_file}\n",
    "    \n",
    "    # And validate it\n",
    "    errors = validate_submission(start_date, end_date, ip_file, output_file)\n",
    "    if errors:\n",
    "        for error in errors:\n",
    "            print(error)\n",
    "    else:\n",
    "        print(\"All good!\")"
   ]
  },
  {
   "cell_type": "markdown",
   "metadata": {},
   "source": [
    "## 4 days, no gap\n",
    "- All countries and regions\n",
    "- Official number of cases is known up to start_date\n",
    "- Intervention Plans are the official ones"
   ]
  },
  {
   "cell_type": "code",
   "execution_count": 39,
   "metadata": {},
   "outputs": [
    {
     "name": "stdout",
     "output_type": "stream",
     "text": [
      "Generating predictions from 2020-08-01 to 2020-08-04...\n",
      "Saved predictions to predictions/val_4_days.csv\n",
      "Done!\n",
      "All good!\n"
     ]
    }
   ],
   "source": [
    "validate(start_date=\"2020-08-01\",\n",
    "         end_date=\"2020-08-04\",\n",
    "         ip_file=\"../../../validation/data/2020-09-30_historical_ip.csv\",\n",
    "         output_file=\"predictions/val_4_days.csv\")"
   ]
  },
  {
   "cell_type": "markdown",
   "metadata": {},
   "source": [
    "## 1 month in the future\n",
    "- 2 countries only\n",
    "- there's a gap between date of last known number of cases and start_date\n",
    "- For future dates, Intervention Plans contains scenarios for which predictions are requested to answer the question: what will happen if we apply these plans?"
   ]
  },
  {
   "cell_type": "code",
   "execution_count": 40,
   "metadata": {},
   "outputs": [
    {
     "name": "stdout",
     "output_type": "stream",
     "text": [
      "Generating predictions from 2021-01-01 to 2021-01-31...\n",
      "Saved predictions to predictions/val_1_month_future.csv\n",
      "Done!\n",
      "All good!\n",
      "CPU times: user 11.6 s, sys: 1.99 s, total: 13.6 s\n",
      "Wall time: 18min 25s\n"
     ]
    }
   ],
   "source": [
    "%%time\n",
    "validate(start_date=\"2021-01-01\",\n",
    "         end_date=\"2021-01-31\",\n",
    "         ip_file=\"../../../validation/data/future_ip.csv\",\n",
    "         output_file=\"predictions/val_1_month_future.csv\")"
   ]
  },
  {
   "cell_type": "markdown",
   "metadata": {},
   "source": [
    "## 180 days, from a future date, all countries and regions\n",
    "- Prediction start date is 1 week from now. (i.e. assuming submission date is 1 week from now)  \n",
    "- Prediction end date is 6 months after start date.  \n",
    "- Prediction is requested for all available countries and regions.  \n",
    "- Intervention plan scenario: freeze last known intervention plans for each country and region.  \n",
    "\n",
    "As the number of cases is not known yet between today and start date, but the model relies on them, the model has to predict them in order to use them.  \n",
    "This test is the most demanding test. It should take less than 1 hour to generate the prediction file."
   ]
  },
  {
   "cell_type": "markdown",
   "metadata": {},
   "source": [
    "### Generate the scenario"
   ]
  },
  {
   "cell_type": "code",
   "execution_count": 41,
   "metadata": {},
   "outputs": [
    {
     "name": "stdout",
     "output_type": "stream",
     "text": [
      "Start date: 2020-12-13\n",
      "End date: 2021-06-11\n"
     ]
    }
   ],
   "source": [
    "from datetime import datetime, timedelta\n",
    "\n",
    "start_date = datetime.now() + timedelta(days=7)\n",
    "start_date_str = start_date.strftime('%Y-%m-%d')\n",
    "end_date = start_date + timedelta(days=180)\n",
    "end_date_str = end_date.strftime('%Y-%m-%d')\n",
    "print(f\"Start date: {start_date_str}\")\n",
    "print(f\"End date: {end_date_str}\")"
   ]
  },
  {
   "cell_type": "code",
   "execution_count": 42,
   "metadata": {},
   "outputs": [
    {
     "name": "stdout",
     "output_type": "stream",
     "text": [
      "Saved scenario to predictions/180_days_future_scenario.csv\n"
     ]
    }
   ],
   "source": [
    "from scenario_generator import get_raw_data, generate_scenario, NPI_COLUMNS\n",
    "DATA_FILE = 'data/OxCGRT_latest.csv'\n",
    "latest_df = get_raw_data(DATA_FILE, latest=True)\n",
    "scenario_df = generate_scenario(start_date_str, end_date_str, latest_df, countries=None, scenario=\"Freeze\")\n",
    "scenario_file = \"predictions/180_days_future_scenario.csv\"\n",
    "scenario_df.to_csv(scenario_file, index=False)\n",
    "print(f\"Saved scenario to {scenario_file}\")"
   ]
  },
  {
   "cell_type": "markdown",
   "metadata": {},
   "source": [
    "### Check it"
   ]
  },
  {
   "cell_type": "code",
   "execution_count": 43,
   "metadata": {},
   "outputs": [
    {
     "name": "stdout",
     "output_type": "stream",
     "text": [
      "Generating predictions from 2020-12-13 to 2021-06-11...\n",
      "Saved predictions to predictions/val_6_month_future.csv\n",
      "Done!\n",
      "All good!\n",
      "CPU times: user 19.8 s, sys: 3.12 s, total: 22.9 s\n",
      "Wall time: 29min 47s\n"
     ]
    }
   ],
   "source": [
    "%%time\n",
    "validate(start_date=start_date_str,\n",
    "         end_date=end_date_str,\n",
    "         ip_file=scenario_file,\n",
    "         output_file=\"predictions/val_6_month_future.csv\")"
   ]
  },
  {
   "cell_type": "code",
   "execution_count": null,
   "metadata": {},
   "outputs": [],
   "source": []
  }
 ],
 "metadata": {
  "kernelspec": {
   "display_name": "Python 3.6.12 64-bit ('tf-gpu': conda)",
   "language": "python",
   "name": "python361264bittfgpucondaa2e81d30ca4041538b91f82f8c16e473"
  },
  "language_info": {
   "codemirror_mode": {
    "name": "ipython",
    "version": 3
   },
   "file_extension": ".py",
   "mimetype": "text/x-python",
   "name": "python",
   "nbconvert_exporter": "python",
   "pygments_lexer": "ipython3",
   "version": "3.6.12"
  },
  "pycharm": {
   "stem_cell": {
    "cell_type": "raw",
    "metadata": {
     "collapsed": false
    },
    "source": [
     "# Copyright 2020 (c) Cognizant Digital Business, Evolutionary AI. All rights reserved. Issued under the Apache 2.0 License."
    ]
   }
  }
 },
 "nbformat": 4,
 "nbformat_minor": 4
}
