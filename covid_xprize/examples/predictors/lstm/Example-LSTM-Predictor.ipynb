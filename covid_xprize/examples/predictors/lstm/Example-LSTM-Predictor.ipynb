{
 "cells": [
  {
   "cell_type": "raw",
   "metadata": {},
   "source": [
    "# Copyright 2020 (c) Cognizant Digital Business, Evolutionary AI. All rights reserved. Issued under the Apache 2.0 License."
   ]
  },
  {
   "cell_type": "code",
   "execution_count": 76,
   "metadata": {},
   "outputs": [],
   "source": [
    "import os\n",
    "import pandas as pd\n",
    "import requests\n",
    "from sklearn.metrics import mean_absolute_error\n",
    "import numpy as np"
   ]
  },
  {
   "cell_type": "code",
   "execution_count": 77,
   "metadata": {},
   "outputs": [
    {
     "output_type": "stream",
     "name": "stdout",
     "text": [
      "Num GPUs Available:  1\n"
     ]
    }
   ],
   "source": [
    "import tensorflow as tf\n",
    "print(\"Num GPUs Available: \", len(tf.config.experimental.list_physical_devices('GPU')))\n",
    "physical_devices = tf.config.list_physical_devices('GPU')\n",
    "tf.config.experimental.set_memory_growth(physical_devices[0], enable=True)\n"
   ]
  },
  {
   "cell_type": "code",
   "execution_count": 78,
   "metadata": {},
   "outputs": [],
   "source": [
    "# 10-15 countries to start training\n",
    "# Check whether the data file is updated and if we can train in predict.py"
   ]
  },
  {
   "cell_type": "markdown",
   "metadata": {},
   "source": [
    "# Goal\n",
    "Predict the daily number of cases for the given countries, regions and intervention plan.\n",
    "\n",
    "This model is described in [From Prediction to Prescription: Evolutionary Optimization of Non-Pharmaceutical Interventions in the COVID-19 Pandemic](https://arxiv.org/abs/2005.13766) in Section 5 - Data-Driven Predictive Model.\n",
    "\n",
    "Predictions from this model trained on the latest data are visible here: [How AI Makes Intervention Recommendations](https://evolution.ml/demos/npidashboard/). For more information see [Augmenting Human Decision Making\n",
    "Optimizing COVID-19 Interventions](https://evolution.ml/esp/npi/)."
   ]
  },
  {
   "cell_type": "markdown",
   "metadata": {},
   "source": [
    "## Intervention plan\n",
    "An intervention plan consists in a list of containment and closure policies, as well as health system policies. See https://github.com/OxCGRT/covid-policy-tracker/blob/master/documentation/codebook.md for more details. The following policies are considered:"
   ]
  },
  {
   "cell_type": "code",
   "execution_count": 79,
   "metadata": {},
   "outputs": [],
   "source": [
    "NPI_COLUMNS = ['C1_School closing',\n",
    "               'C2_Workplace closing',\n",
    "               'C3_Cancel public events',\n",
    "               'C4_Restrictions on gatherings',\n",
    "               'C5_Close public transport',\n",
    "               'C6_Stay at home requirements',\n",
    "               'C7_Restrictions on internal movement',\n",
    "               'C8_International travel controls',\n",
    "               'H1_Public information campaigns',\n",
    "               'H2_Testing policy',\n",
    "               'H3_Contact tracing',\n",
    "               'H6_Facial Coverings']"
   ]
  },
  {
   "cell_type": "markdown",
   "metadata": {},
   "source": [
    "## Example\n",
    "For the given input, provide a model that can produce the expected output"
   ]
  },
  {
   "cell_type": "markdown",
   "metadata": {},
   "source": [
    "### Given input\n",
    "One row represents a country, region and day. For each row, the interventions that were in place on this day for this region and country are provided. Interventions can change from one day to the other for each country and region."
   ]
  },
  {
   "cell_type": "code",
   "execution_count": 80,
   "metadata": {},
   "outputs": [],
   "source": [
    "EXAMPLE_INPUT_FILE = \"../../../validation/data/2020-09-30_historical_ip.csv\""
   ]
  },
  {
   "cell_type": "code",
   "execution_count": 81,
   "metadata": {},
   "outputs": [],
   "source": [
    "prediction_input_df = pd.read_csv(EXAMPLE_INPUT_FILE,\n",
    "                                  parse_dates=['Date'],\n",
    "                                  dtype={\"RegionName\": str},\n",
    "                                  encoding=\"ISO-8859-1\")"
   ]
  },
  {
   "cell_type": "code",
   "execution_count": 82,
   "metadata": {},
   "outputs": [
    {
     "output_type": "execute_result",
     "data": {
      "text/plain": [
       "  CountryName RegionName       Date  C1_School closing  C2_Workplace closing  \\\n",
       "0       Aruba        NaN 2020-01-01                0.0                   0.0   \n",
       "1       Aruba        NaN 2020-01-02                0.0                   0.0   \n",
       "2       Aruba        NaN 2020-01-03                0.0                   0.0   \n",
       "3       Aruba        NaN 2020-01-04                0.0                   0.0   \n",
       "4       Aruba        NaN 2020-01-05                0.0                   0.0   \n",
       "\n",
       "   C3_Cancel public events  C4_Restrictions on gatherings  \\\n",
       "0                      0.0                            0.0   \n",
       "1                      0.0                            0.0   \n",
       "2                      0.0                            0.0   \n",
       "3                      0.0                            0.0   \n",
       "4                      0.0                            0.0   \n",
       "\n",
       "   C5_Close public transport  C6_Stay at home requirements  \\\n",
       "0                        0.0                           0.0   \n",
       "1                        0.0                           0.0   \n",
       "2                        0.0                           0.0   \n",
       "3                        0.0                           0.0   \n",
       "4                        0.0                           0.0   \n",
       "\n",
       "   C7_Restrictions on internal movement  C8_International travel controls  \\\n",
       "0                                   0.0                               0.0   \n",
       "1                                   0.0                               0.0   \n",
       "2                                   0.0                               0.0   \n",
       "3                                   0.0                               0.0   \n",
       "4                                   0.0                               0.0   \n",
       "\n",
       "   H1_Public information campaigns  H2_Testing policy  H3_Contact tracing  \\\n",
       "0                              0.0                0.0                 0.0   \n",
       "1                              0.0                0.0                 0.0   \n",
       "2                              0.0                0.0                 0.0   \n",
       "3                              0.0                0.0                 0.0   \n",
       "4                              0.0                0.0                 0.0   \n",
       "\n",
       "   H6_Facial Coverings  \n",
       "0                  0.0  \n",
       "1                  0.0  \n",
       "2                  0.0  \n",
       "3                  0.0  \n",
       "4                  0.0  "
      ],
      "text/html": "<div>\n<style scoped>\n    .dataframe tbody tr th:only-of-type {\n        vertical-align: middle;\n    }\n\n    .dataframe tbody tr th {\n        vertical-align: top;\n    }\n\n    .dataframe thead th {\n        text-align: right;\n    }\n</style>\n<table border=\"1\" class=\"dataframe\">\n  <thead>\n    <tr style=\"text-align: right;\">\n      <th></th>\n      <th>CountryName</th>\n      <th>RegionName</th>\n      <th>Date</th>\n      <th>C1_School closing</th>\n      <th>C2_Workplace closing</th>\n      <th>C3_Cancel public events</th>\n      <th>C4_Restrictions on gatherings</th>\n      <th>C5_Close public transport</th>\n      <th>C6_Stay at home requirements</th>\n      <th>C7_Restrictions on internal movement</th>\n      <th>C8_International travel controls</th>\n      <th>H1_Public information campaigns</th>\n      <th>H2_Testing policy</th>\n      <th>H3_Contact tracing</th>\n      <th>H6_Facial Coverings</th>\n    </tr>\n  </thead>\n  <tbody>\n    <tr>\n      <th>0</th>\n      <td>Aruba</td>\n      <td>NaN</td>\n      <td>2020-01-01</td>\n      <td>0.0</td>\n      <td>0.0</td>\n      <td>0.0</td>\n      <td>0.0</td>\n      <td>0.0</td>\n      <td>0.0</td>\n      <td>0.0</td>\n      <td>0.0</td>\n      <td>0.0</td>\n      <td>0.0</td>\n      <td>0.0</td>\n      <td>0.0</td>\n    </tr>\n    <tr>\n      <th>1</th>\n      <td>Aruba</td>\n      <td>NaN</td>\n      <td>2020-01-02</td>\n      <td>0.0</td>\n      <td>0.0</td>\n      <td>0.0</td>\n      <td>0.0</td>\n      <td>0.0</td>\n      <td>0.0</td>\n      <td>0.0</td>\n      <td>0.0</td>\n      <td>0.0</td>\n      <td>0.0</td>\n      <td>0.0</td>\n      <td>0.0</td>\n    </tr>\n    <tr>\n      <th>2</th>\n      <td>Aruba</td>\n      <td>NaN</td>\n      <td>2020-01-03</td>\n      <td>0.0</td>\n      <td>0.0</td>\n      <td>0.0</td>\n      <td>0.0</td>\n      <td>0.0</td>\n      <td>0.0</td>\n      <td>0.0</td>\n      <td>0.0</td>\n      <td>0.0</td>\n      <td>0.0</td>\n      <td>0.0</td>\n      <td>0.0</td>\n    </tr>\n    <tr>\n      <th>3</th>\n      <td>Aruba</td>\n      <td>NaN</td>\n      <td>2020-01-04</td>\n      <td>0.0</td>\n      <td>0.0</td>\n      <td>0.0</td>\n      <td>0.0</td>\n      <td>0.0</td>\n      <td>0.0</td>\n      <td>0.0</td>\n      <td>0.0</td>\n      <td>0.0</td>\n      <td>0.0</td>\n      <td>0.0</td>\n      <td>0.0</td>\n    </tr>\n    <tr>\n      <th>4</th>\n      <td>Aruba</td>\n      <td>NaN</td>\n      <td>2020-01-05</td>\n      <td>0.0</td>\n      <td>0.0</td>\n      <td>0.0</td>\n      <td>0.0</td>\n      <td>0.0</td>\n      <td>0.0</td>\n      <td>0.0</td>\n      <td>0.0</td>\n      <td>0.0</td>\n      <td>0.0</td>\n      <td>0.0</td>\n      <td>0.0</td>\n    </tr>\n  </tbody>\n</table>\n</div>"
     },
     "metadata": {},
     "execution_count": 82
    }
   ],
   "source": [
    "prediction_input_df.head()"
   ]
  },
  {
   "cell_type": "markdown",
   "metadata": {},
   "source": [
    "### Expected output\n",
    "For each row that was provided in input, i.e. for each country, region and day, the output should contain an additional `PredictedDailyNewCases` column with the predicted number of cases for that day, region and country. It is possible to leave `PredictedDailyNewCases` empty or NaN, or to remove the row, in case no predition is available."
   ]
  },
  {
   "cell_type": "code",
   "execution_count": 83,
   "metadata": {},
   "outputs": [],
   "source": [
    "EXAMPLE_OUTPUT_FILE = \"../../../../2020-08-01_2020-08-04_predictions_example.csv\""
   ]
  },
  {
   "cell_type": "code",
   "execution_count": 84,
   "metadata": {},
   "outputs": [],
   "source": [
    "prediction_output_df = pd.read_csv(EXAMPLE_OUTPUT_FILE,\n",
    "                                   parse_dates=['Date'],\n",
    "                                   encoding=\"ISO-8859-1\")"
   ]
  },
  {
   "cell_type": "code",
   "execution_count": 85,
   "metadata": {},
   "outputs": [
    {
     "output_type": "execute_result",
     "data": {
      "text/plain": [
       "   CountryName RegionName       Date  PredictedDailyNewCases\n",
       "0        Aruba        NaN 2020-08-01                0.820071\n",
       "1        Aruba        NaN 2020-08-02                0.872854\n",
       "2        Aruba        NaN 2020-08-03                0.000000\n",
       "3        Aruba        NaN 2020-08-04                0.000000\n",
       "4  Afghanistan        NaN 2020-08-01               80.590128"
      ],
      "text/html": "<div>\n<style scoped>\n    .dataframe tbody tr th:only-of-type {\n        vertical-align: middle;\n    }\n\n    .dataframe tbody tr th {\n        vertical-align: top;\n    }\n\n    .dataframe thead th {\n        text-align: right;\n    }\n</style>\n<table border=\"1\" class=\"dataframe\">\n  <thead>\n    <tr style=\"text-align: right;\">\n      <th></th>\n      <th>CountryName</th>\n      <th>RegionName</th>\n      <th>Date</th>\n      <th>PredictedDailyNewCases</th>\n    </tr>\n  </thead>\n  <tbody>\n    <tr>\n      <th>0</th>\n      <td>Aruba</td>\n      <td>NaN</td>\n      <td>2020-08-01</td>\n      <td>0.820071</td>\n    </tr>\n    <tr>\n      <th>1</th>\n      <td>Aruba</td>\n      <td>NaN</td>\n      <td>2020-08-02</td>\n      <td>0.872854</td>\n    </tr>\n    <tr>\n      <th>2</th>\n      <td>Aruba</td>\n      <td>NaN</td>\n      <td>2020-08-03</td>\n      <td>0.000000</td>\n    </tr>\n    <tr>\n      <th>3</th>\n      <td>Aruba</td>\n      <td>NaN</td>\n      <td>2020-08-04</td>\n      <td>0.000000</td>\n    </tr>\n    <tr>\n      <th>4</th>\n      <td>Afghanistan</td>\n      <td>NaN</td>\n      <td>2020-08-01</td>\n      <td>80.590128</td>\n    </tr>\n  </tbody>\n</table>\n</div>"
     },
     "metadata": {},
     "execution_count": 85
    }
   ],
   "source": [
    "prediction_output_df.head()"
   ]
  },
  {
   "cell_type": "markdown",
   "metadata": {},
   "source": [
    "### Evaluation\n",
    "Predictions will be evaluated on a period of 4 weeks **after** submision against the actual daily change in confirmed cases reported by the [Oxford COVID-19 Government Response Tracker (OxCGRT)](https://www.bsg.ox.ac.uk/research/research-projects/coronavirus-government-response-tracker).\n",
    "\n",
    "The latest data, including the latest confirmed cases ('ConfirmedCases') can be find here: https://raw.githubusercontent.com/OxCGRT/covid-policy-tracker/master/data/OxCGRT_latest.csv"
   ]
  },
  {
   "cell_type": "code",
   "execution_count": 86,
   "metadata": {},
   "outputs": [],
   "source": [
    "DATA_URL = 'https://raw.githubusercontent.com/OxCGRT/covid-policy-tracker/master/data/OxCGRT_latest.csv'\n",
    "df = pd.read_csv(DATA_URL,\n",
    "                 parse_dates=['Date'],\n",
    "                 encoding=\"ISO-8859-1\",\n",
    "                 dtype={\"RegionName\": str,\n",
    "                        \"RegionCode\": str},\n",
    "                 error_bad_lines=False)"
   ]
  },
  {
   "cell_type": "code",
   "execution_count": 87,
   "metadata": {},
   "outputs": [
    {
     "output_type": "execute_result",
     "data": {
      "text/plain": [
       "      CountryName CountryCode RegionName RegionCode Jurisdiction       Date  \\\n",
       "32413     Eritrea         ERI        NaN        NaN    NAT_TOTAL 2020-01-30   \n",
       "44570      Israel         ISR        NaN        NaN    NAT_TOTAL 2020-08-06   \n",
       "53398      Mexico         MEX        NaN        NaN    NAT_TOTAL 2020-09-03   \n",
       "\n",
       "       C1_School closing  C1_Flag  C2_Workplace closing  C2_Flag  ...  \\\n",
       "32413                0.0      NaN                   0.0      NaN  ...   \n",
       "44570                1.0      0.0                   1.0      1.0  ...   \n",
       "53398                3.0      1.0                   3.0      0.0  ...   \n",
       "\n",
       "       StringencyIndex  StringencyIndexForDisplay  StringencyLegacyIndex  \\\n",
       "32413             0.00                       0.00                   0.00   \n",
       "44570            52.78                      52.78                  63.10   \n",
       "53398            74.54                      74.54                  78.57   \n",
       "\n",
       "       StringencyLegacyIndexForDisplay  GovernmentResponseIndex  \\\n",
       "32413                             0.00                     0.00   \n",
       "44570                            63.10                    57.78   \n",
       "53398                            78.57                    56.11   \n",
       "\n",
       "       GovernmentResponseIndexForDisplay  ContainmentHealthIndex  \\\n",
       "32413                               0.00                    0.00   \n",
       "44570                              57.78                   51.28   \n",
       "53398                              56.11                   64.74   \n",
       "\n",
       "       ContainmentHealthIndexForDisplay  EconomicSupportIndex  \\\n",
       "32413                              0.00                   0.0   \n",
       "44570                             51.28                 100.0   \n",
       "53398                             64.74                   0.0   \n",
       "\n",
       "       EconomicSupportIndexForDisplay  \n",
       "32413                             0.0  \n",
       "44570                           100.0  \n",
       "53398                             0.0  \n",
       "\n",
       "[3 rows x 49 columns]"
      ],
      "text/html": "<div>\n<style scoped>\n    .dataframe tbody tr th:only-of-type {\n        vertical-align: middle;\n    }\n\n    .dataframe tbody tr th {\n        vertical-align: top;\n    }\n\n    .dataframe thead th {\n        text-align: right;\n    }\n</style>\n<table border=\"1\" class=\"dataframe\">\n  <thead>\n    <tr style=\"text-align: right;\">\n      <th></th>\n      <th>CountryName</th>\n      <th>CountryCode</th>\n      <th>RegionName</th>\n      <th>RegionCode</th>\n      <th>Jurisdiction</th>\n      <th>Date</th>\n      <th>C1_School closing</th>\n      <th>C1_Flag</th>\n      <th>C2_Workplace closing</th>\n      <th>C2_Flag</th>\n      <th>...</th>\n      <th>StringencyIndex</th>\n      <th>StringencyIndexForDisplay</th>\n      <th>StringencyLegacyIndex</th>\n      <th>StringencyLegacyIndexForDisplay</th>\n      <th>GovernmentResponseIndex</th>\n      <th>GovernmentResponseIndexForDisplay</th>\n      <th>ContainmentHealthIndex</th>\n      <th>ContainmentHealthIndexForDisplay</th>\n      <th>EconomicSupportIndex</th>\n      <th>EconomicSupportIndexForDisplay</th>\n    </tr>\n  </thead>\n  <tbody>\n    <tr>\n      <th>32413</th>\n      <td>Eritrea</td>\n      <td>ERI</td>\n      <td>NaN</td>\n      <td>NaN</td>\n      <td>NAT_TOTAL</td>\n      <td>2020-01-30</td>\n      <td>0.0</td>\n      <td>NaN</td>\n      <td>0.0</td>\n      <td>NaN</td>\n      <td>...</td>\n      <td>0.00</td>\n      <td>0.00</td>\n      <td>0.00</td>\n      <td>0.00</td>\n      <td>0.00</td>\n      <td>0.00</td>\n      <td>0.00</td>\n      <td>0.00</td>\n      <td>0.0</td>\n      <td>0.0</td>\n    </tr>\n    <tr>\n      <th>44570</th>\n      <td>Israel</td>\n      <td>ISR</td>\n      <td>NaN</td>\n      <td>NaN</td>\n      <td>NAT_TOTAL</td>\n      <td>2020-08-06</td>\n      <td>1.0</td>\n      <td>0.0</td>\n      <td>1.0</td>\n      <td>1.0</td>\n      <td>...</td>\n      <td>52.78</td>\n      <td>52.78</td>\n      <td>63.10</td>\n      <td>63.10</td>\n      <td>57.78</td>\n      <td>57.78</td>\n      <td>51.28</td>\n      <td>51.28</td>\n      <td>100.0</td>\n      <td>100.0</td>\n    </tr>\n    <tr>\n      <th>53398</th>\n      <td>Mexico</td>\n      <td>MEX</td>\n      <td>NaN</td>\n      <td>NaN</td>\n      <td>NAT_TOTAL</td>\n      <td>2020-09-03</td>\n      <td>3.0</td>\n      <td>1.0</td>\n      <td>3.0</td>\n      <td>0.0</td>\n      <td>...</td>\n      <td>74.54</td>\n      <td>74.54</td>\n      <td>78.57</td>\n      <td>78.57</td>\n      <td>56.11</td>\n      <td>56.11</td>\n      <td>64.74</td>\n      <td>64.74</td>\n      <td>0.0</td>\n      <td>0.0</td>\n    </tr>\n  </tbody>\n</table>\n<p>3 rows × 49 columns</p>\n</div>"
     },
     "metadata": {},
     "execution_count": 87
    }
   ],
   "source": [
    "df.sample(3)"
   ]
  },
  {
   "cell_type": "markdown",
   "metadata": {},
   "source": [
    "### Daily change in confirmed cases\n",
    "The daily change in confirmed cases can be computed like this:"
   ]
  },
  {
   "cell_type": "code",
   "execution_count": 88,
   "metadata": {},
   "outputs": [],
   "source": [
    "df[\"GeoID\"] = np.where(df[\"RegionName\"].isnull(),\n",
    "                                      df[\"CountryName\"],\n",
    "                                      df[\"CountryName\"] + ' / ' + df[\"RegionName\"])\n",
    "df[\"DailyChangeConfirmedCases\"] = df.groupby([\"GeoID\"]).ConfirmedCases.diff().fillna(0)"
   ]
  },
  {
   "cell_type": "markdown",
   "metadata": {},
   "source": [
    "For instance, for country **United States**, region **California**, the latest available changes in confirmed cases are:"
   ]
  },
  {
   "cell_type": "code",
   "execution_count": 89,
   "metadata": {},
   "outputs": [],
   "source": [
    "california_df = df[(df.CountryName == \"United States\") & (df.RegionName == \"California\")]"
   ]
  },
  {
   "cell_type": "code",
   "execution_count": 90,
   "metadata": {},
   "outputs": [
    {
     "output_type": "execute_result",
     "data": {
      "text/plain": [
       "         CountryName  RegionName       Date  ConfirmedCases  \\\n",
       "78843  United States  California 2020-12-13       1585378.0   \n",
       "78844  United States  California 2020-12-14       1611493.0   \n",
       "78845  United States  California 2020-12-15       1644742.0   \n",
       "78846  United States  California 2020-12-16             NaN   \n",
       "78847  United States  California 2020-12-17             NaN   \n",
       "\n",
       "       DailyChangeConfirmedCases  \n",
       "78843                    36202.0  \n",
       "78844                    26115.0  \n",
       "78845                    33249.0  \n",
       "78846                        0.0  \n",
       "78847                        0.0  "
      ],
      "text/html": "<div>\n<style scoped>\n    .dataframe tbody tr th:only-of-type {\n        vertical-align: middle;\n    }\n\n    .dataframe tbody tr th {\n        vertical-align: top;\n    }\n\n    .dataframe thead th {\n        text-align: right;\n    }\n</style>\n<table border=\"1\" class=\"dataframe\">\n  <thead>\n    <tr style=\"text-align: right;\">\n      <th></th>\n      <th>CountryName</th>\n      <th>RegionName</th>\n      <th>Date</th>\n      <th>ConfirmedCases</th>\n      <th>DailyChangeConfirmedCases</th>\n    </tr>\n  </thead>\n  <tbody>\n    <tr>\n      <th>78843</th>\n      <td>United States</td>\n      <td>California</td>\n      <td>2020-12-13</td>\n      <td>1585378.0</td>\n      <td>36202.0</td>\n    </tr>\n    <tr>\n      <th>78844</th>\n      <td>United States</td>\n      <td>California</td>\n      <td>2020-12-14</td>\n      <td>1611493.0</td>\n      <td>26115.0</td>\n    </tr>\n    <tr>\n      <th>78845</th>\n      <td>United States</td>\n      <td>California</td>\n      <td>2020-12-15</td>\n      <td>1644742.0</td>\n      <td>33249.0</td>\n    </tr>\n    <tr>\n      <th>78846</th>\n      <td>United States</td>\n      <td>California</td>\n      <td>2020-12-16</td>\n      <td>NaN</td>\n      <td>0.0</td>\n    </tr>\n    <tr>\n      <th>78847</th>\n      <td>United States</td>\n      <td>California</td>\n      <td>2020-12-17</td>\n      <td>NaN</td>\n      <td>0.0</td>\n    </tr>\n  </tbody>\n</table>\n</div>"
     },
     "metadata": {},
     "execution_count": 90
    }
   ],
   "source": [
    "california_df[[\"CountryName\", \"RegionName\", \"Date\", \"ConfirmedCases\", \"DailyChangeConfirmedCases\"]].tail(5)"
   ]
  },
  {
   "cell_type": "markdown",
   "metadata": {},
   "source": [
    "# Training a model"
   ]
  },
  {
   "cell_type": "markdown",
   "metadata": {},
   "source": [
    "## Copy the data locally"
   ]
  },
  {
   "cell_type": "code",
   "execution_count": 91,
   "metadata": {},
   "outputs": [
    {
     "output_type": "execute_result",
     "data": {
      "text/plain": [
       "20648514"
      ]
     },
     "metadata": {},
     "execution_count": 91
    }
   ],
   "source": [
    "# Main source for the training data\n",
    "DATA_URL = 'https://raw.githubusercontent.com/OxCGRT/covid-policy-tracker/master/data/OxCGRT_latest.csv'\n",
    "DATA_FILE = 'data/OxCGRT_latest.csv'\n",
    "\n",
    "# Download the data set\n",
    "data = requests.get(DATA_URL)\n",
    "\n",
    "# Persist the data set locally in order to use it after submission to make predictions,\n",
    "# as the sandbox won't have access to the internet anymore.\n",
    "if not os.path.exists('data'):\n",
    "    os.mkdir('data')\n",
    "open(DATA_FILE, 'wb').write(data.content)"
   ]
  },
  {
   "cell_type": "markdown",
   "metadata": {},
   "source": [
    "## Train"
   ]
  },
  {
   "cell_type": "code",
   "execution_count": 134,
   "metadata": {},
   "outputs": [],
   "source": [
    "# Reload the module to get the latest changes\n",
    "# import xprize_predictor\n",
    "# from importlib import reload\n",
    "# reload(xprize_predictor)\n",
    "# from xprize_predictor import XPrizePredictor\n",
    "import xprize_original_predictor\n",
    "from importlib import reload\n",
    "reload(xprize_original_predictor)\n",
    "from xprize_original_predictor import XPrizePredictor"
   ]
  },
  {
   "cell_type": "code",
   "execution_count": 135,
   "metadata": {
    "tags": []
   },
   "outputs": [],
   "source": [
    "predictor = XPrizePredictor(None, DATA_FILE)"
   ]
  },
  {
   "cell_type": "code",
   "execution_count": 131,
   "metadata": {
    "tags": []
   },
   "outputs": [
    {
     "output_type": "stream",
     "name": "stdout",
     "text": [
      "13419914\n",
      "Geo Chile\n",
      "1/1 [==============================] - 0s 815us/step - loss: 0.0233\n",
      "Train Loss: 0.05058351531624794\n",
      "Val Loss: 0.05157799273729324\n",
      "Test Loss: 0.02329888567328453\n",
      "Geo China\n",
      "1/1 [==============================] - 0s 919us/step - loss: 0.0519\n",
      "Train Loss: 0.12019588053226471\n",
      "Val Loss: 0.13692106306552887\n",
      "Test Loss: 0.051922209560871124\n",
      "Geo Cameroon\n",
      "1/1 [==============================] - 0s 731us/step - loss: 0.2181\n",
      "Train Loss: 0.24591368436813354\n",
      "Val Loss: 0.24291792511940002\n",
      "Test Loss: 0.2180781364440918\n",
      "Geo Democratic Republic of Congo\n",
      "1/1 [==============================] - 0s 907us/step - loss: 0.0563\n",
      "Train Loss: 0.12001743167638779\n",
      "Val Loss: 0.13136954605579376\n",
      "Test Loss: 0.05633720010519028\n",
      "Geo Colombia\n",
      "1/1 [==============================] - 0s 973us/step - loss: 0.0194\n",
      "Train Loss: 0.05628291890025139\n",
      "Val Loss: 0.03343261405825615\n",
      "Test Loss: 0.019417915493249893\n",
      "Geo Costa Rica\n",
      "1/1 [==============================] - 0s 783us/step - loss: 0.0201\n",
      "Train Loss: 0.07413031905889511\n",
      "Val Loss: 0.05754677951335907\n",
      "Test Loss: 0.020078321918845177\n",
      "Geo Cuba\n",
      "1/1 [==============================] - 0s 949us/step - loss: 0.0505\n",
      "Train Loss: 0.09053955227136612\n",
      "Val Loss: 0.08156149089336395\n",
      "Test Loss: 0.05051978677511215\n",
      "Geo Czech Republic\n",
      "1/1 [==============================] - 0s 1ms/step - loss: 0.0733\n",
      "Train Loss: 0.06897249817848206\n",
      "Val Loss: 0.06394963711500168\n",
      "Test Loss: 0.07331680506467819\n",
      "Geo Germany\n",
      "1/1 [==============================] - 0s 1ms/step - loss: 0.0414\n",
      "Train Loss: 0.09909934550523758\n",
      "Val Loss: 0.06420144438743591\n",
      "Test Loss: 0.04136819764971733\n",
      "Geo Djibouti\n",
      "1/1 [==============================] - 0s 1ms/step - loss: 0.1721\n",
      "Train Loss: 0.1957077831029892\n",
      "Val Loss: 0.12332823872566223\n",
      "Test Loss: 0.17211763560771942\n",
      "Geo Denmark\n",
      "1/1 [==============================] - 0s 1ms/step - loss: 0.0331\n",
      "Train Loss: 0.08010878413915634\n",
      "Val Loss: 0.04664888232946396\n",
      "Test Loss: 0.03309196978807449\n",
      "Geo Dominican Republic\n",
      "1/1 [==============================] - 0s 962us/step - loss: 0.0500\n",
      "Train Loss: 0.08318930864334106\n",
      "Val Loss: 0.10078754276037216\n",
      "Test Loss: 0.04997345805168152\n",
      "Geo Algeria\n",
      "1/1 [==============================] - 0s 1ms/step - loss: 0.0313\n",
      "Train Loss: 0.05689224600791931\n",
      "Val Loss: 0.030583111569285393\n",
      "Test Loss: 0.0313248410820961\n",
      "Geo Ecuador\n",
      "1/1 [==============================] - 0s 986us/step - loss: 0.0630\n",
      "Train Loss: 0.12269899994134903\n",
      "Val Loss: 0.23729413747787476\n",
      "Test Loss: 0.06296921521425247\n",
      "Geo Egypt\n",
      "1/1 [==============================] - 0s 1ms/step - loss: 0.0092\n",
      "Train Loss: 0.08483485132455826\n",
      "Val Loss: 0.06219171732664108\n",
      "Test Loss: 0.009190082550048828\n",
      "Geo Spain\n",
      "1/1 [==============================] - 0s 925us/step - loss: 0.0641\n",
      "Train Loss: 0.0827130526304245\n",
      "Val Loss: 0.05030548572540283\n",
      "Test Loss: 0.06413491070270538\n",
      "Geo Estonia\n",
      "1/1 [==============================] - 0s 1ms/step - loss: 0.0395\n",
      "Train Loss: 0.13730394840240479\n",
      "Val Loss: 0.07539879530668259\n",
      "Test Loss: 0.03954402729868889\n",
      "Geo Finland\n",
      "1/1 [==============================] - 0s 876us/step - loss: 0.0355\n",
      "Train Loss: 0.10108773410320282\n",
      "Val Loss: 0.11104259639978409\n",
      "Test Loss: 0.03554400056600571\n",
      "Geo France\n",
      "1/1 [==============================] - 0s 1ms/step - loss: 0.0628\n",
      "Train Loss: 0.13586504757404327\n",
      "Val Loss: 0.08501765131950378\n",
      "Test Loss: 0.06275683641433716\n",
      "Geo United Kingdom\n",
      "1/1 [==============================] - 0s 982us/step - loss: 0.0390\n",
      "Train Loss: 0.0602618083357811\n",
      "Val Loss: 0.056207869201898575\n",
      "Test Loss: 0.03899227827787399\n",
      "Geo Ghana\n",
      "1/1 [==============================] - 0s 846us/step - loss: 0.2228\n",
      "Train Loss: 0.1442420482635498\n",
      "Val Loss: 0.15622550249099731\n",
      "Test Loss: 0.2228146642446518\n",
      "Geo Gambia\n",
      "1/1 [==============================] - 0s 872us/step - loss: 0.2479\n",
      "Train Loss: 0.18825514614582062\n",
      "Val Loss: 0.12587779760360718\n",
      "Test Loss: 0.24788832664489746\n",
      "Geo Greece\n",
      "1/1 [==============================] - 0s 859us/step - loss: 0.0302\n",
      "Train Loss: 0.09764015674591064\n",
      "Val Loss: 0.15165536105632782\n",
      "Test Loss: 0.03020085208117962\n",
      "Geo Guatemala\n",
      "1/1 [==============================] - 0s 816us/step - loss: 0.0205\n",
      "Train Loss: 0.06737358868122101\n",
      "Val Loss: 0.09155364334583282\n",
      "Test Loss: 0.020504547283053398\n",
      "Geo Guam\n",
      "1/1 [==============================] - 0s 1ms/step - loss: 0.0884\n",
      "Train Loss: 0.1595126837491989\n",
      "Val Loss: 0.22509457170963287\n",
      "Test Loss: 0.08837014436721802\n",
      "Geo Guyana\n",
      "1/1 [==============================] - 0s 901us/step - loss: 0.0706\n",
      "Train Loss: 0.1756686270236969\n",
      "Val Loss: 0.09735418856143951\n",
      "Test Loss: 0.07056538015604019\n",
      "Geo Hong Kong\n",
      "1/1 [==============================] - 0s 975us/step - loss: 0.0700\n",
      "Train Loss: 0.15412449836730957\n",
      "Val Loss: 0.1056692972779274\n",
      "Test Loss: 0.07001199573278427\n",
      "Geo Honduras\n",
      "1/1 [==============================] - 0s 1ms/step - loss: 0.1123\n",
      "Train Loss: 0.10745218396186829\n",
      "Val Loss: 0.12358742207288742\n",
      "Test Loss: 0.11228086799383163\n",
      "Geo Croatia\n",
      "1/1 [==============================] - 0s 979us/step - loss: 0.0214\n",
      "Train Loss: 0.09471817314624786\n",
      "Val Loss: 0.08081365376710892\n",
      "Test Loss: 0.021408839151263237\n",
      "Geo Hungary\n",
      "1/1 [==============================] - 0s 1ms/step - loss: 0.0402\n",
      "Train Loss: 0.0893038883805275\n",
      "Val Loss: 0.07089361548423767\n",
      "Test Loss: 0.04020509123802185\n",
      "Geo Indonesia\n",
      "1/1 [==============================] - 0s 1ms/step - loss: 0.0176\n",
      "Train Loss: 0.05148017778992653\n",
      "Val Loss: 0.024448534473776817\n",
      "Test Loss: 0.01760549657046795\n",
      "Geo India\n",
      "1/1 [==============================] - 0s 964us/step - loss: 0.0199\n",
      "Train Loss: 0.07460396736860275\n",
      "Val Loss: 0.02510969527065754\n",
      "Test Loss: 0.019945906475186348\n",
      "Geo Ireland\n",
      "1/1 [==============================] - 0s 905us/step - loss: 0.0557\n",
      "Train Loss: 0.0943719744682312\n",
      "Val Loss: 0.06991902738809586\n",
      "Test Loss: 0.055686287581920624\n",
      "Geo Iran\n",
      "1/1 [==============================] - 0s 819us/step - loss: 0.0183\n",
      "Train Loss: 0.06225971132516861\n",
      "Val Loss: 0.054355643689632416\n",
      "Test Loss: 0.018341004848480225\n",
      "Geo Iraq\n",
      "1/1 [==============================] - 0s 1ms/step - loss: 0.0291\n",
      "Train Loss: 0.06935635954141617\n",
      "Val Loss: 0.04058369621634483\n",
      "Test Loss: 0.029126044362783432\n",
      "Geo Iceland\n",
      "1/1 [==============================] - 0s 1ms/step - loss: 0.0840\n",
      "Train Loss: 0.1570511758327484\n",
      "Val Loss: 0.15989276766777039\n",
      "Test Loss: 0.0839969664812088\n",
      "Geo Israel\n",
      "1/1 [==============================] - 0s 1ms/step - loss: 0.0839\n",
      "Train Loss: 0.08582993596792221\n",
      "Val Loss: 0.07986421883106232\n",
      "Test Loss: 0.08391283452510834\n",
      "Geo Italy\n",
      "1/1 [==============================] - 0s 1ms/step - loss: 0.0142\n",
      "Train Loss: 0.05367234721779823\n",
      "Val Loss: 0.030966298654675484\n",
      "Test Loss: 0.01423540711402893\n",
      "Geo Jordan\n",
      "1/1 [==============================] - 0s 992us/step - loss: 0.0244\n",
      "Train Loss: 0.09784203767776489\n",
      "Val Loss: 0.07539212703704834\n",
      "Test Loss: 0.02437707781791687\n",
      "Geo Japan\n",
      "1/1 [==============================] - 0s 1ms/step - loss: 0.0946\n",
      "Train Loss: 0.05511200800538063\n",
      "Val Loss: 0.06178107112646103\n",
      "Test Loss: 0.0945519357919693\n",
      "Geo Kazakhstan\n",
      "1/1 [==============================] - 0s 1ms/step - loss: 0.0382\n",
      "Train Loss: 0.11753883212804794\n",
      "Val Loss: 0.04136228933930397\n",
      "Test Loss: 0.038239844143390656\n",
      "Geo Kenya\n",
      "1/1 [==============================] - 0s 820us/step - loss: 0.0486\n",
      "Train Loss: 0.0803668200969696\n",
      "Val Loss: 0.06296918541193008\n",
      "Test Loss: 0.04859637841582298\n",
      "Geo Kyrgyz Republic\n",
      "1/1 [==============================] - 0s 1ms/step - loss: 0.0996\n",
      "Train Loss: 0.10936703532934189\n",
      "Val Loss: 0.09015262871980667\n",
      "Test Loss: 0.0995708778500557\n",
      "Geo South Korea\n",
      "1/1 [==============================] - 0s 676us/step - loss: 0.0814\n",
      "Train Loss: 0.17983758449554443\n",
      "Val Loss: 0.06971783936023712\n",
      "Test Loss: 0.08136837184429169\n",
      "Geo Kuwait\n",
      "1/1 [==============================] - 0s 936us/step - loss: 0.0174\n",
      "Train Loss: 0.10251112282276154\n",
      "Val Loss: 0.05455324798822403\n",
      "Test Loss: 0.01742239110171795\n",
      "Geo Laos\n",
      "1/1 [==============================] - 0s 1ms/step - loss: 0.0719\n",
      "Train Loss: 0.09922836720943451\n",
      "Val Loss: 0.015595164149999619\n",
      "Test Loss: 0.07185416668653488\n",
      "Geo Lebanon\n",
      "1/1 [==============================] - 0s 1ms/step - loss: 0.0666\n",
      "Train Loss: 0.10942626744508743\n",
      "Val Loss: 0.0567556731402874\n",
      "Test Loss: 0.06662537902593613\n",
      "Geo Sri Lanka\n",
      "1/1 [==============================] - 0s 663us/step - loss: 0.0338\n",
      "Train Loss: 0.15820419788360596\n",
      "Val Loss: 0.2829315960407257\n",
      "Test Loss: 0.03378532454371452\n",
      "Geo Lesotho\n",
      "1/1 [==============================] - 0s 927us/step - loss: 0.3165\n",
      "Train Loss: 0.1452595293521881\n",
      "Val Loss: 0.5420352816581726\n",
      "Test Loss: 0.31645673513412476\n",
      "Geo Luxembourg\n",
      "1/1 [==============================] - 0s 938us/step - loss: 0.0949\n",
      "Train Loss: 0.10070660710334778\n",
      "Val Loss: 0.08363346755504608\n",
      "Test Loss: 0.09492317587137222\n",
      "Geo Macao\n",
      "1/1 [==============================] - 0s 640us/step - loss: 1.7619e-04\n",
      "Train Loss: 0.03683893382549286\n",
      "Val Loss: 0.038488950580358505\n",
      "Test Loss: 0.0001761913299560547\n",
      "Geo Morocco\n",
      "1/1 [==============================] - 0s 1ms/step - loss: 0.0205\n",
      "Train Loss: 0.06631063669919968\n",
      "Val Loss: 0.0733724981546402\n",
      "Test Loss: 0.020533578470349312\n",
      "Geo Madagascar\n",
      "1/1 [==============================] - 0s 1ms/step - loss: 0.0139\n",
      "Train Loss: 0.11869252473115921\n",
      "Val Loss: 0.11787672340869904\n",
      "Test Loss: 0.013948500156402588\n",
      "Geo Mexico\n",
      "1/1 [==============================] - 0s 836us/step - loss: 0.0462\n",
      "Train Loss: 0.06030732020735741\n",
      "Val Loss: 0.023782391101121902\n",
      "Test Loss: 0.046201106160879135\n",
      "Geo Mali\n",
      "1/1 [==============================] - 0s 1ms/step - loss: 0.1038\n",
      "Train Loss: 0.10840712487697601\n",
      "Val Loss: 0.11470208317041397\n",
      "Test Loss: 0.103782519698143\n",
      "Geo Myanmar\n",
      "1/1 [==============================] - 0s 981us/step - loss: 0.0326\n",
      "Train Loss: 0.16624213755130768\n",
      "Val Loss: 0.08869089931249619\n",
      "Test Loss: 0.03257759287953377\n",
      "Geo Mongolia\n",
      "1/1 [==============================] - 0s 800us/step - loss: 0.1549\n",
      "Train Loss: 0.45821985602378845\n",
      "Val Loss: 0.2707057297229767\n",
      "Test Loss: 0.15491952002048492\n",
      "Geo Mozambique\n",
      "1/1 [==============================] - 0s 760us/step - loss: 0.0717\n",
      "Train Loss: 0.11721178144216537\n",
      "Val Loss: 0.12257228791713715\n",
      "Test Loss: 0.07174871861934662\n",
      "Geo Mauritania\n",
      "1/1 [==============================] - 0s 908us/step - loss: 0.0892\n",
      "Train Loss: 0.128831684589386\n",
      "Val Loss: 0.06948676705360413\n",
      "Test Loss: 0.08916817605495453\n",
      "Geo Mauritius\n",
      "1/1 [==============================] - 0s 1ms/step - loss: 0.1496\n",
      "Train Loss: 0.20560169219970703\n",
      "Val Loss: 0.1952907145023346\n",
      "Test Loss: 0.1496019810438156\n",
      "Geo Malawi\n",
      "1/1 [==============================] - 0s 928us/step - loss: 0.2751\n",
      "Train Loss: 0.1603170931339264\n",
      "Val Loss: 0.16833831369876862\n",
      "Test Loss: 0.27506858110427856\n",
      "Geo Malaysia\n",
      "1/1 [==============================] - 0s 979us/step - loss: 0.0522\n",
      "Train Loss: 0.12348043918609619\n",
      "Val Loss: 0.09607982635498047\n",
      "Test Loss: 0.052237868309020996\n",
      "Geo Namibia\n",
      "1/1 [==============================] - 0s 690us/step - loss: 0.1246\n",
      "Train Loss: 0.11082898080348969\n",
      "Val Loss: 0.1167757585644722\n",
      "Test Loss: 0.12462007999420166\n",
      "Geo Niger\n",
      "1/1 [==============================] - 0s 785us/step - loss: 0.1199\n",
      "Train Loss: 0.20322734117507935\n",
      "Val Loss: 0.1954084038734436\n",
      "Test Loss: 0.11991585791110992\n",
      "Geo Nigeria\n",
      "1/1 [==============================] - 0s 659us/step - loss: 0.1063\n",
      "Train Loss: 0.08813252300024033\n",
      "Val Loss: 0.07704245299100876\n",
      "Test Loss: 0.10627830028533936\n",
      "Geo Nicaragua\n",
      "1/1 [==============================] - 0s 1ms/step - loss: 0.0785\n",
      "Train Loss: 0.1776246875524521\n",
      "Val Loss: 0.07158944010734558\n",
      "Test Loss: 0.07846537977457047\n",
      "Geo Netherlands\n",
      "1/1 [==============================] - 0s 879us/step - loss: 0.0210\n",
      "Train Loss: 0.052496787160634995\n",
      "Val Loss: 0.04504776746034622\n",
      "Test Loss: 0.02100689895451069\n",
      "Geo Norway\n",
      "1/1 [==============================] - 0s 954us/step - loss: 0.0222\n",
      "Train Loss: 0.10597939789295197\n",
      "Val Loss: 0.07625007629394531\n",
      "Test Loss: 0.022180570289492607\n",
      "Geo New Zealand\n",
      "1/1 [==============================] - 0s 957us/step - loss: 0.2216\n",
      "Train Loss: 0.24980409443378448\n",
      "Val Loss: 0.12352953106164932\n",
      "Test Loss: 0.22161491215229034\n",
      "Geo Oman\n",
      "1/1 [==============================] - 0s 1ms/step - loss: 0.0457\n",
      "Train Loss: 0.10715410113334656\n",
      "Val Loss: 0.05185946449637413\n",
      "Test Loss: 0.04573331028223038\n",
      "Geo Pakistan\n",
      "1/1 [==============================] - 0s 689us/step - loss: 0.0212\n",
      "Train Loss: 0.10866953432559967\n",
      "Val Loss: 0.08963851630687714\n",
      "Test Loss: 0.02120872028172016\n",
      "Geo Panama\n",
      "1/1 [==============================] - 0s 1ms/step - loss: 0.0419\n",
      "Train Loss: 0.08699516206979752\n",
      "Val Loss: 0.03140752390027046\n",
      "Test Loss: 0.04192035645246506\n",
      "Geo Peru\n",
      "1/1 [==============================] - 0s 676us/step - loss: 0.1540\n",
      "Train Loss: 0.11252140998840332\n",
      "Val Loss: 0.06375636160373688\n",
      "Test Loss: 0.15402939915657043\n",
      "Geo Philippines\n",
      "1/1 [==============================] - 0s 693us/step - loss: 0.0264\n",
      "Train Loss: 0.08067547529935837\n",
      "Val Loss: 0.048089854419231415\n",
      "Test Loss: 0.026362797245383263\n",
      "Geo Papua New Guinea\n",
      "1/1 [==============================] - 0s 843us/step - loss: 0.2903\n",
      "Train Loss: 0.18515317142009735\n",
      "Val Loss: 0.20041953027248383\n",
      "Test Loss: 0.2902545928955078\n",
      "Geo Poland\n",
      "1/1 [==============================] - 0s 1ms/step - loss: 0.0171\n",
      "Train Loss: 0.0643095001578331\n",
      "Val Loss: 0.03613634780049324\n",
      "Test Loss: 0.017076512798666954\n",
      "Geo Puerto Rico\n",
      "1/1 [==============================] - 0s 859us/step - loss: 0.0769\n",
      "Train Loss: 0.10911712050437927\n",
      "Val Loss: 0.18794526159763336\n",
      "Test Loss: 0.07685535401105881\n",
      "Geo Portugal\n",
      "1/1 [==============================] - 0s 1ms/step - loss: 0.0284\n",
      "Train Loss: 0.0739307701587677\n",
      "Val Loss: 0.06306400150060654\n",
      "Test Loss: 0.028447061777114868\n",
      "Geo Paraguay\n",
      "1/1 [==============================] - 0s 933us/step - loss: 0.0317\n",
      "Train Loss: 0.10812626779079437\n",
      "Val Loss: 0.11516711115837097\n",
      "Test Loss: 0.03169422596693039\n",
      "Geo Qatar\n",
      "1/1 [==============================] - 0s 839us/step - loss: 0.0292\n",
      "Train Loss: 0.11268952488899231\n",
      "Val Loss: 0.052919887006282806\n",
      "Test Loss: 0.02920111082494259\n",
      "Geo Kosovo\n",
      "1/1 [==============================] - 0s 1ms/step - loss: 0.1579\n",
      "Train Loss: 0.09551730751991272\n",
      "Val Loss: 0.06613443791866302\n",
      "Test Loss: 0.1579020768404007\n",
      "Geo Romania\n",
      "1/1 [==============================] - 0s 720us/step - loss: 0.0317\n",
      "Train Loss: 0.06264666467905045\n",
      "Val Loss: 0.048285678029060364\n",
      "Test Loss: 0.0316803865134716\n",
      "Geo Russia\n",
      "1/1 [==============================] - 0s 824us/step - loss: 0.0058\n",
      "Train Loss: 0.04462068900465965\n",
      "Val Loss: 0.046946968883275986\n",
      "Test Loss: 0.005787509027868509\n",
      "Geo Rwanda\n",
      "1/1 [==============================] - 0s 674us/step - loss: 0.1220\n",
      "Train Loss: 0.1266442835330963\n",
      "Val Loss: 0.15295080840587616\n",
      "Test Loss: 0.12204517424106598\n",
      "Geo Saudi Arabia\n",
      "1/1 [==============================] - 0s 683us/step - loss: 0.0380\n",
      "Train Loss: 0.054977573454380035\n",
      "Val Loss: 0.15779969096183777\n",
      "Test Loss: 0.03803796321153641\n",
      "Geo Sudan\n",
      "1/1 [==============================] - 0s 1ms/step - loss: 0.0814\n",
      "Train Loss: 0.1742570996284485\n",
      "Val Loss: 0.1810789704322815\n",
      "Test Loss: 0.08138106763362885\n",
      "Geo Singapore\n",
      "1/1 [==============================] - 0s 927us/step - loss: 0.0879\n",
      "Train Loss: 0.08952584117650986\n",
      "Val Loss: 0.09130284935235977\n",
      "Test Loss: 0.08792182058095932\n",
      "Geo Sierra Leone\n",
      "1/1 [==============================] - 0s 831us/step - loss: 0.1895\n",
      "Train Loss: 0.11388686299324036\n",
      "Val Loss: 0.08185453712940216\n",
      "Test Loss: 0.1894829422235489\n",
      "Geo El Salvador\n",
      "1/1 [==============================] - 0s 990us/step - loss: 0.1759\n",
      "Train Loss: 0.090499147772789\n",
      "Val Loss: 0.07552624493837357\n",
      "Test Loss: 0.17588898539543152\n",
      "Geo Serbia\n",
      "1/1 [==============================] - 0s 772us/step - loss: 0.0093\n",
      "Train Loss: 0.06624741107225418\n",
      "Val Loss: 0.053091831505298615\n",
      "Test Loss: 0.009308197535574436\n",
      "Geo South Sudan\n",
      "1/1 [==============================] - 0s 632us/step - loss: 0.2489\n",
      "Train Loss: 0.22352728247642517\n",
      "Val Loss: 0.14750875532627106\n",
      "Test Loss: 0.24889813363552094\n",
      "Geo Slovak Republic\n",
      "1/1 [==============================] - 0s 1ms/step - loss: 0.0578\n",
      "Train Loss: 0.11323768645524979\n",
      "Val Loss: 0.07372251152992249\n",
      "Test Loss: 0.05780027434229851\n",
      "Geo Slovenia\n",
      "1/1 [==============================] - 0s 1ms/step - loss: 0.0122\n",
      "Train Loss: 0.0981070026755333\n",
      "Val Loss: 0.081095390021801\n",
      "Test Loss: 0.012210284359753132\n",
      "Geo Sweden\n",
      "1/1 [==============================] - 0s 888us/step - loss: 0.0268\n",
      "Train Loss: 0.06559288501739502\n",
      "Val Loss: 0.08327942341566086\n",
      "Test Loss: 0.026778271421790123\n",
      "Geo Eswatini\n",
      "1/1 [==============================] - 0s 1ms/step - loss: 0.1646\n",
      "Train Loss: 0.10782191157341003\n",
      "Val Loss: 0.09501759707927704\n",
      "Test Loss: 0.1646181344985962\n",
      "Geo Seychelles\n",
      "1/1 [==============================] - 0s 750us/step - loss: 0.5920\n",
      "Train Loss: 0.15669789910316467\n",
      "Val Loss: 0.20422428846359253\n",
      "Test Loss: 0.5919821858406067\n",
      "Geo Syria\n",
      "1/1 [==============================] - 0s 959us/step - loss: 0.0315\n",
      "Train Loss: 0.14056527614593506\n",
      "Val Loss: 0.13130667805671692\n",
      "Test Loss: 0.031473465263843536\n",
      "Geo Chad\n",
      "1/1 [==============================] - 0s 920us/step - loss: 0.1648\n",
      "Train Loss: 0.17594850063323975\n",
      "Val Loss: 0.12550124526023865\n",
      "Test Loss: 0.1647762954235077\n",
      "Geo Thailand\n",
      "1/1 [==============================] - 0s 994us/step - loss: 0.0796\n",
      "Train Loss: 0.1589876413345337\n",
      "Val Loss: 0.168503537774086\n",
      "Test Loss: 0.07963831722736359\n",
      "Geo Trinidad and Tobago\n",
      "1/1 [==============================] - 0s 927us/step - loss: 0.0707\n",
      "Train Loss: 0.13329695165157318\n",
      "Val Loss: 0.13660992681980133\n",
      "Test Loss: 0.07067491859197617\n",
      "Geo Tunisia\n",
      "1/1 [==============================] - 0s 1ms/step - loss: 0.1065\n",
      "Train Loss: 0.15584345161914825\n",
      "Val Loss: 0.13084036111831665\n",
      "Test Loss: 0.1065068393945694\n",
      "Geo Turkey\n",
      "1/1 [==============================] - 0s 803us/step - loss: 0.3155\n",
      "Train Loss: 0.06660574674606323\n",
      "Val Loss: 0.03598610311746597\n",
      "Test Loss: 0.31546324491500854\n",
      "Geo Taiwan\n",
      "1/1 [==============================] - 0s 663us/step - loss: 0.1601\n",
      "Train Loss: 0.20020820200443268\n",
      "Val Loss: 0.19785167276859283\n",
      "Test Loss: 0.1601223200559616\n",
      "Geo Tanzania\n",
      "1/1 [==============================] - 0s 1ms/step - loss: 3.9840e-04\n",
      "Train Loss: 0.08108223229646683\n",
      "Val Loss: 0.029078898951411247\n",
      "Test Loss: 0.00039839744567871094\n",
      "Geo Uganda\n",
      "1/1 [==============================] - 0s 1ms/step - loss: 0.1266\n",
      "Train Loss: 0.14243537187576294\n",
      "Val Loss: 0.09906293451786041\n",
      "Test Loss: 0.1266215592622757\n",
      "Geo Ukraine\n",
      "1/1 [==============================] - 0s 952us/step - loss: 0.0263\n",
      "Train Loss: 0.05452381446957588\n",
      "Val Loss: 0.04210146889090538\n",
      "Test Loss: 0.02634311653673649\n",
      "Geo Uruguay\n",
      "1/1 [==============================] - 0s 1ms/step - loss: 0.0468\n",
      "Train Loss: 0.10789010673761368\n",
      "Val Loss: 0.09812823683023453\n",
      "Test Loss: 0.0468481108546257\n",
      "Geo United States\n",
      "1/1 [==============================] - 0s 680us/step - loss: 0.0267\n",
      "Train Loss: 0.07259394228458405\n",
      "Val Loss: 0.03389791026711464\n",
      "Test Loss: 0.026707930490374565\n",
      "Geo Uzbekistan\n",
      "1/1 [==============================] - 0s 833us/step - loss: 0.1007\n",
      "Train Loss: 0.08982674777507782\n",
      "Val Loss: 0.06523184478282928\n",
      "Test Loss: 0.1007329598069191\n",
      "Geo Venezuela\n",
      "1/1 [==============================] - 0s 819us/step - loss: 0.0500\n",
      "Train Loss: 0.10467396676540375\n",
      "Val Loss: 0.0569431446492672\n",
      "Test Loss: 0.05001506581902504\n",
      "Geo Vietnam\n",
      "1/1 [==============================] - 0s 850us/step - loss: 0.1372\n",
      "Train Loss: 0.3042474091053009\n",
      "Val Loss: 0.22126343846321106\n",
      "Test Loss: 0.13721276819705963\n",
      "Geo South Africa\n",
      "1/1 [==============================] - 0s 1ms/step - loss: 0.0599\n",
      "Train Loss: 0.06882429122924805\n",
      "Val Loss: 0.04495854675769806\n",
      "Test Loss: 0.05992407351732254\n",
      "Geo Zambia\n",
      "1/1 [==============================] - 0s 857us/step - loss: 0.1380\n",
      "Train Loss: 0.17465898394584656\n",
      "Val Loss: 0.11450795829296112\n",
      "Test Loss: 0.1379503309726715\n",
      "Geo Zimbabwe\n",
      "1/1 [==============================] - 0s 1ms/step - loss: 0.1075\n",
      "Train Loss: 0.18130770325660706\n",
      "Val Loss: 0.09706766158342361\n",
      "Test Loss: 0.10748720169067383\n",
      "FALLBACK\n",
      "9/9 [==============================] - 0s 2ms/step - loss: 0.1171\n",
      "Train Loss: 0.1160397008061409\n",
      "Val Loss: 0.11676570028066635\n",
      "Test Loss: 0.11708420515060425\n",
      "Done\n",
      "CPU times: user 34min 54s, sys: 2min, total: 36min 55s\n",
      "Wall time: 27min 49s\n"
     ]
    }
   ],
   "source": [
    "%%time\n",
    "predictor_model = predictor.train()"
   ]
  },
  {
   "cell_type": "code",
   "execution_count": 133,
   "metadata": {},
   "outputs": [],
   "source": [
    "if not os.path.exists('models'):\n",
    "    os.mkdir('models')\n",
    "model.save_weights(\"models/original_all_days.h5\")"
   ]
  },
  {
   "cell_type": "markdown",
   "metadata": {},
   "source": [
    "# Predicting using a trained model"
   ]
  },
  {
   "cell_type": "markdown",
   "metadata": {},
   "source": [
    "## Load candidate model"
   ]
  },
  {
   "cell_type": "code",
   "execution_count": 21,
   "metadata": {},
   "outputs": [],
   "source": [
    "model_weights_file = \"models/trained_model_weights.h5\""
   ]
  },
  {
   "cell_type": "code",
   "execution_count": 22,
   "metadata": {},
   "outputs": [],
   "source": [
    "predictor = XPrizePredictor(model_weights_file, DATA_FILE)"
   ]
  },
  {
   "cell_type": "markdown",
   "metadata": {},
   "source": [
    "## Make prediction"
   ]
  },
  {
   "cell_type": "code",
   "execution_count": 61,
   "metadata": {},
   "outputs": [],
   "source": [
    "NPIS_INPUT_FILE = \"../../../validation/data/2020-12-16_historical_ip.csv\"\n",
    "start_date = \"2020-12-01\"\n",
    "end_date = \"2020-12-15\""
   ]
  },
  {
   "cell_type": "code",
   "execution_count": 24,
   "metadata": {},
   "outputs": [
    {
     "output_type": "stream",
     "name": "stdout",
     "text": [
      "CPU times: user 1min 59s, sys: 2.69 s, total: 2min 1s\nWall time: 1min 53s\n"
     ]
    }
   ],
   "source": [
    "%%time\n",
    "preds_df = predictor.predict(start_date, end_date, NPIS_INPUT_FILE)"
   ]
  },
  {
   "cell_type": "code",
   "execution_count": 85,
   "metadata": {},
   "outputs": [],
   "source": [
    "# preds_date_df = preds_df[(preds_df['Date'] >= '2020-08-01') & (preds_df['Date'] <= '2020-08-31')]\n",
    "date_df = df[(df['Date'] >= start_date) & (df['Date'] <= end_date)]\n",
    "california_df = date_df[(date_df.CountryName == \"United States\") & (date_df.RegionName == \"California\")]"
   ]
  },
  {
   "cell_type": "code",
   "execution_count": 26,
   "metadata": {},
   "outputs": [],
   "source": [
    "merged_df = pd.merge(date_df, preds_date_df, on=[\"Date\", \"CountryName\", \"RegionName\"])\n",
    "mse = mean_squared_error(merged_df['DailyChangeConfirmedCases'], merged_df['PredictedDailyNewCases'])\n",
    "# merged_df['NewCasesDifference'] = merged_df['PredictedDailyNewCases'] - merged_df['DailyChangeConfirmedCases']\n",
    "# merged_df[[\"CountryName\", \"RegionName\", \"Date\", \"DailyChangeConfirmedCases\", \"PredictedDailyNewCases\", \"NewCasesDifference\"]].head()"
   ]
  },
  {
   "source": [
    "Change test days to 60"
   ],
   "cell_type": "markdown",
   "metadata": {}
  },
  {
   "cell_type": "code",
   "execution_count": 27,
   "metadata": {},
   "outputs": [],
   "source": [
    "model_60_weights_file = \"models/trained_model_weights_60_test_days.h5\""
   ]
  },
  {
   "cell_type": "code",
   "execution_count": 28,
   "metadata": {},
   "outputs": [],
   "source": [
    "predictor = XPrizePredictor(model_60_weights_file, DATA_FILE)"
   ]
  },
  {
   "cell_type": "code",
   "execution_count": 76,
   "metadata": {},
   "outputs": [
    {
     "output_type": "stream",
     "name": "stdout",
     "text": [
      "      CountryName CountryCode RegionName RegionCode Jurisdiction       Date  \\\n98335    Zimbabwe         ZWE        NaN        NaN    NAT_TOTAL 2020-05-07   \n98336    Zimbabwe         ZWE        NaN        NaN    NAT_TOTAL 2020-05-08   \n98337    Zimbabwe         ZWE        NaN        NaN    NAT_TOTAL 2020-05-09   \n98338    Zimbabwe         ZWE        NaN        NaN    NAT_TOTAL 2020-05-10   \n98339    Zimbabwe         ZWE        NaN        NaN    NAT_TOTAL 2020-05-11   \n98340    Zimbabwe         ZWE        NaN        NaN    NAT_TOTAL 2020-05-12   \n98341    Zimbabwe         ZWE        NaN        NaN    NAT_TOTAL 2020-05-13   \n98342    Zimbabwe         ZWE        NaN        NaN    NAT_TOTAL 2020-05-14   \n98343    Zimbabwe         ZWE        NaN        NaN    NAT_TOTAL 2020-05-15   \n98344    Zimbabwe         ZWE        NaN        NaN    NAT_TOTAL 2020-05-16   \n98345    Zimbabwe         ZWE        NaN        NaN    NAT_TOTAL 2020-05-17   \n98346    Zimbabwe         ZWE        NaN        NaN    NAT_TOTAL 2020-05-18   \n98347    Zimbabwe         ZWE        NaN        NaN    NAT_TOTAL 2020-05-19   \n98348    Zimbabwe         ZWE        NaN        NaN    NAT_TOTAL 2020-05-20   \n\n       C1_School closing  C1_Flag  C2_Workplace closing  C2_Flag  ...  \\\n98335                3.0      1.0                   3.0      1.0  ...   \n98336                3.0      1.0                   3.0      1.0  ...   \n98337                3.0      1.0                   3.0      1.0  ...   \n98338                3.0      1.0                   3.0      1.0  ...   \n98339                3.0      1.0                   3.0      1.0  ...   \n98340                3.0      1.0                   3.0      1.0  ...   \n98341                3.0      1.0                   3.0      1.0  ...   \n98342                3.0      1.0                   3.0      1.0  ...   \n98343                3.0      1.0                   3.0      1.0  ...   \n98344                3.0      1.0                   3.0      1.0  ...   \n98345                3.0      1.0                   3.0      1.0  ...   \n98346                3.0      1.0                   3.0      1.0  ...   \n98347                3.0      1.0                   3.0      1.0  ...   \n98348                3.0      1.0                   3.0      1.0  ...   \n\n       StringencyIndexForDisplay  StringencyLegacyIndex  \\\n98335                      87.96                  95.24   \n98336                      87.96                  95.24   \n98337                      87.96                  95.24   \n98338                      87.96                  95.24   \n98339                      87.96                  95.24   \n98340                      87.96                  95.24   \n98341                      87.96                  95.24   \n98342                      87.96                  95.24   \n98343                      87.96                  95.24   \n98344                      87.96                  95.24   \n98345                      87.96                  95.24   \n98346                      87.96                  95.24   \n98347                      87.96                  95.24   \n98348                      87.96                  95.24   \n\n       StringencyLegacyIndexForDisplay  GovernmentResponseIndex  \\\n98335                            95.24                    68.33   \n98336                            95.24                    68.33   \n98337                            95.24                    68.33   \n98338                            95.24                    68.33   \n98339                            95.24                    68.33   \n98340                            95.24                    68.33   \n98341                            95.24                    68.33   \n98342                            95.24                    68.33   \n98343                            95.24                    68.33   \n98344                            95.24                    68.33   \n98345                            95.24                    68.33   \n98346                            95.24                    68.33   \n98347                            95.24                    68.33   \n98348                            95.24                    68.33   \n\n       GovernmentResponseIndexForDisplay  ContainmentHealthIndex  \\\n98335                              68.33                    75.0   \n98336                              68.33                    75.0   \n98337                              68.33                    75.0   \n98338                              68.33                    75.0   \n98339                              68.33                    75.0   \n98340                              68.33                    75.0   \n98341                              68.33                    75.0   \n98342                              68.33                    75.0   \n98343                              68.33                    75.0   \n98344                              68.33                    75.0   \n98345                              68.33                    75.0   \n98346                              68.33                    75.0   \n98347                              68.33                    75.0   \n98348                              68.33                    75.0   \n\n       ContainmentHealthIndexForDisplay  EconomicSupportIndex  \\\n98335                              75.0                  25.0   \n98336                              75.0                  25.0   \n98337                              75.0                  25.0   \n98338                              75.0                  25.0   \n98339                              75.0                  25.0   \n98340                              75.0                  25.0   \n98341                              75.0                  25.0   \n98342                              75.0                  25.0   \n98343                              75.0                  25.0   \n98344                              75.0                  25.0   \n98345                              75.0                  25.0   \n98346                              75.0                  25.0   \n98347                              75.0                  25.0   \n98348                              75.0                  25.0   \n\n       EconomicSupportIndexForDisplay     GeoID  \n98335                            25.0  Zimbabwe  \n98336                            25.0  Zimbabwe  \n98337                            25.0  Zimbabwe  \n98338                            25.0  Zimbabwe  \n98339                            25.0  Zimbabwe  \n98340                            25.0  Zimbabwe  \n98341                            25.0  Zimbabwe  \n98342                            25.0  Zimbabwe  \n98343                            25.0  Zimbabwe  \n98344                            25.0  Zimbabwe  \n98345                            25.0  Zimbabwe  \n98346                            25.0  Zimbabwe  \n98347                            25.0  Zimbabwe  \n98348                            25.0  Zimbabwe  \n\n[14 rows x 50 columns]\n"
     ]
    }
   ],
   "source": [
    "model_weights_original = \"models/original_model.h5\"\n",
    "predictor = XPrizePredictor(model_weights_original, DATA_FILE)"
   ]
  },
  {
   "cell_type": "code",
   "execution_count": 77,
   "metadata": {},
   "outputs": [
    {
     "output_type": "stream",
     "name": "stdout",
     "text": [
      "      CountryName RegionName       Date  C1_School closing  \\\n",
      "93142    Zimbabwe        NaN 2020-05-07                3.0   \n",
      "93143    Zimbabwe        NaN 2020-05-08                3.0   \n",
      "93144    Zimbabwe        NaN 2020-05-09                3.0   \n",
      "93145    Zimbabwe        NaN 2020-05-10                3.0   \n",
      "93146    Zimbabwe        NaN 2020-05-11                3.0   \n",
      "93147    Zimbabwe        NaN 2020-05-12                3.0   \n",
      "93148    Zimbabwe        NaN 2020-05-13                3.0   \n",
      "93149    Zimbabwe        NaN 2020-05-14                3.0   \n",
      "93150    Zimbabwe        NaN 2020-05-15                3.0   \n",
      "93151    Zimbabwe        NaN 2020-05-16                3.0   \n",
      "93152    Zimbabwe        NaN 2020-05-17                3.0   \n",
      "93153    Zimbabwe        NaN 2020-05-18                3.0   \n",
      "93154    Zimbabwe        NaN 2020-05-19                3.0   \n",
      "93155    Zimbabwe        NaN 2020-05-20                3.0   \n",
      "\n",
      "       C2_Workplace closing  C3_Cancel public events  \\\n",
      "93142                   3.0                      2.0   \n",
      "93143                   3.0                      2.0   \n",
      "93144                   3.0                      2.0   \n",
      "93145                   3.0                      2.0   \n",
      "93146                   3.0                      2.0   \n",
      "93147                   3.0                      2.0   \n",
      "93148                   3.0                      2.0   \n",
      "93149                   3.0                      2.0   \n",
      "93150                   3.0                      2.0   \n",
      "93151                   3.0                      2.0   \n",
      "93152                   3.0                      2.0   \n",
      "93153                   3.0                      2.0   \n",
      "93154                   3.0                      2.0   \n",
      "93155                   3.0                      2.0   \n",
      "\n",
      "       C4_Restrictions on gatherings  C5_Close public transport  \\\n",
      "93142                            3.0                        1.0   \n",
      "93143                            3.0                        1.0   \n",
      "93144                            3.0                        1.0   \n",
      "93145                            3.0                        1.0   \n",
      "93146                            3.0                        1.0   \n",
      "93147                            3.0                        1.0   \n",
      "93148                            3.0                        1.0   \n",
      "93149                            3.0                        1.0   \n",
      "93150                            3.0                        1.0   \n",
      "93151                            3.0                        1.0   \n",
      "93152                            3.0                        1.0   \n",
      "93153                            3.0                        1.0   \n",
      "93154                            3.0                        1.0   \n",
      "93155                            3.0                        1.0   \n",
      "\n",
      "       C6_Stay at home requirements  C7_Restrictions on internal movement  \\\n",
      "93142                           2.0                                   2.0   \n",
      "93143                           2.0                                   2.0   \n",
      "93144                           2.0                                   2.0   \n",
      "93145                           2.0                                   2.0   \n",
      "93146                           2.0                                   2.0   \n",
      "93147                           2.0                                   2.0   \n",
      "93148                           2.0                                   2.0   \n",
      "93149                           2.0                                   2.0   \n",
      "93150                           2.0                                   2.0   \n",
      "93151                           2.0                                   2.0   \n",
      "93152                           2.0                                   2.0   \n",
      "93153                           2.0                                   2.0   \n",
      "93154                           2.0                                   2.0   \n",
      "93155                           2.0                                   2.0   \n",
      "\n",
      "       C8_International travel controls  H1_Public information campaigns  \\\n",
      "93142                               4.0                              2.0   \n",
      "93143                               4.0                              2.0   \n",
      "93144                               4.0                              2.0   \n",
      "93145                               4.0                              2.0   \n",
      "93146                               4.0                              2.0   \n",
      "93147                               4.0                              2.0   \n",
      "93148                               4.0                              2.0   \n",
      "93149                               4.0                              2.0   \n",
      "93150                               4.0                              2.0   \n",
      "93151                               4.0                              2.0   \n",
      "93152                               4.0                              2.0   \n",
      "93153                               4.0                              2.0   \n",
      "93154                               4.0                              2.0   \n",
      "93155                               4.0                              2.0   \n",
      "\n",
      "       H2_Testing policy  H3_Contact tracing  H6_Facial Coverings     GeoID  \n",
      "93142                1.0                 1.0                  4.0  Zimbabwe  \n",
      "93143                1.0                 1.0                  4.0  Zimbabwe  \n",
      "93144                1.0                 1.0                  4.0  Zimbabwe  \n",
      "93145                1.0                 1.0                  4.0  Zimbabwe  \n",
      "93146                1.0                 1.0                  4.0  Zimbabwe  \n",
      "93147                1.0                 1.0                  4.0  Zimbabwe  \n",
      "93148                1.0                 1.0                  4.0  Zimbabwe  \n",
      "93149                1.0                 1.0                  4.0  Zimbabwe  \n",
      "93150                1.0                 1.0                  4.0  Zimbabwe  \n",
      "93151                1.0                 1.0                  4.0  Zimbabwe  \n",
      "93152                1.0                 1.0                  4.0  Zimbabwe  \n",
      "93153                1.0                 1.0                  4.0  Zimbabwe  \n",
      "93154                1.0                 1.0                  4.0  Zimbabwe  \n",
      "93155                1.0                 1.0                  4.0  Zimbabwe  \n",
      "CPU times: user 1min, sys: 1.41 s, total: 1min 2s\n",
      "Wall time: 58 s\n"
     ]
    }
   ],
   "source": [
    "%%time\n",
    "preds_original_df = predictor.predict(start_date, end_date, NPIS_INPUT_FILE)"
   ]
  },
  {
   "cell_type": "code",
   "execution_count": 101,
   "metadata": {},
   "outputs": [
    {
     "output_type": "execute_result",
     "data": {
      "text/plain": [
       "285692.6288653585"
      ]
     },
     "metadata": {},
     "execution_count": 101
    }
   ],
   "source": [
    "#BASELINE\n",
    "preds_original_date_df = preds_original_df[(preds_original_df[\"Date\"] >= start_date) & (preds_original_df[\"Date\"] <= end_date)]\n",
    "full_df = df[(df[\"Date\"] <= end_date)]\n",
    "preds_original_date_df[\"GeoID\"] = np.where(preds_original_date_df[\"RegionName\"].isnull(),\n",
    "                                      preds_original_date_df[\"CountryName\"],\n",
    "                                      preds_original_date_df[\"CountryName\"] + ' / ' + preds_original_date_df[\"RegionName\"])\n",
    "merged_original_df = pd.merge(date_df, preds_original_date_df, on=[\"Date\", \"GeoID\"])\n",
    "gdf = full_df.groupby('GeoID')['ConfirmedDeaths'].agg(['max', 'count']).sort_values(by='max', ascending=False)\n",
    "filtered_gdf = gdf[gdf[\"count\"] > 21]\n",
    "geos = list(filtered_gdf.head(20).index)\n",
    "merged_original_df = merged_original_df[(merged_original_df[\"GeoID\"].isin(geos))]\n",
    "preds_original_mae = np.sum(np.abs(merged_original_df.DailyChangeConfirmedCases.values - merged_original_df.PredictedDailyNewCases.values))\n",
    "preds_original_mae"
   ]
  },
  {
   "cell_type": "code",
   "execution_count": 110,
   "metadata": {},
   "outputs": [],
   "source": [
    "model_weights_pred_ratio = \"models/original_model_prediction_ratio.h5\"\n",
    "predictor = XPrizePredictor(model_weights_pred_ratio, DATA_FILE)"
   ]
  },
  {
   "cell_type": "code",
   "execution_count": 111,
   "metadata": {},
   "outputs": [
    {
     "output_type": "stream",
     "name": "stdout",
     "text": [
      "CPU times: user 1min 2s, sys: 1.28 s, total: 1min 3s\nWall time: 59.1 s\n"
     ]
    }
   ],
   "source": [
    "%%time\n",
    "preds_ratio_df = predictor.predict(start_date, end_date, NPIS_INPUT_FILE)"
   ]
  },
  {
   "cell_type": "code",
   "execution_count": 112,
   "metadata": {},
   "outputs": [
    {
     "output_type": "execute_result",
     "data": {
      "text/plain": [
       "189715.16666472307"
      ]
     },
     "metadata": {},
     "execution_count": 112
    }
   ],
   "source": [
    "#PREDICTION RATIO\n",
    "preds_ratio_date_df = preds_ratio_df[(preds_ratio_df[\"Date\"] >= start_date) & (preds_ratio_df[\"Date\"] <= end_date)]\n",
    "preds_ratio_date_df[\"GeoID\"] = np.where(preds_ratio_date_df[\"RegionName\"].isnull(),\n",
    "                                      preds_ratio_date_df[\"CountryName\"],\n",
    "                                      preds_ratio_date_df[\"CountryName\"] + ' / ' + preds_ratio_date_df[\"RegionName\"])\n",
    "merged_ratio_df = pd.merge(date_df, preds_ratio_date_df, on=[\"Date\", \"GeoID\"])\n",
    "merged_ratio_df = merged_ratio_df[(merged_ratio_df[\"GeoID\"].isin(geos))]\n",
    "preds_ratio_mae = np.sum(np.abs(merged_ratio_df.DailyChangeConfirmedCases.values - merged_ratio_df.PredictedDailyNewCases.values))\n",
    "preds_ratio_mae"
   ]
  },
  {
   "cell_type": "code",
   "execution_count": 73,
   "metadata": {},
   "outputs": [],
   "source": [
    "# BETTER PREDICT FUNCTION\n",
    "model_weights_pred_ratio = \"models/original_model_prediction_ratio.h5\"\n",
    "better_predictor = XPrizePredictor(model_weights_pred_ratio, DATA_FILE)\n"
   ]
  },
  {
   "cell_type": "code",
   "execution_count": 74,
   "metadata": {},
   "outputs": [
    {
     "output_type": "stream",
     "name": "stdout",
     "text": [
      "CPU times: user 15min 19s, sys: 3.01 s, total: 15min 22s\nWall time: 15min 19s\n"
     ]
    }
   ],
   "source": [
    "%%time\n",
    "better_preds_ratio_df = better_predictor.predict(start_date, end_date, NPIS_INPUT_FILE)"
   ]
  },
  {
   "cell_type": "code",
   "execution_count": 75,
   "metadata": {},
   "outputs": [
    {
     "output_type": "error",
     "ename": "NameError",
     "evalue": "name 'date_df' is not defined",
     "traceback": [
      "\u001b[0;31m---------------------------------------------------------------------------\u001b[0m",
      "\u001b[0;31mNameError\u001b[0m                                 Traceback (most recent call last)",
      "\u001b[0;32m<ipython-input-75-0d39fa60e01b>\u001b[0m in \u001b[0;36m<module>\u001b[0;34m\u001b[0m\n\u001b[1;32m      4\u001b[0m                                       \u001b[0mbetter_preds_ratio_date_df\u001b[0m\u001b[0;34m[\u001b[0m\u001b[0;34m\"CountryName\"\u001b[0m\u001b[0;34m]\u001b[0m\u001b[0;34m,\u001b[0m\u001b[0;34m\u001b[0m\u001b[0;34m\u001b[0m\u001b[0m\n\u001b[1;32m      5\u001b[0m                                       better_preds_ratio_date_df[\"CountryName\"] + ' / ' + better_preds_ratio_date_df[\"RegionName\"])\n\u001b[0;32m----> 6\u001b[0;31m \u001b[0mbetter_merged_ratio_df\u001b[0m \u001b[0;34m=\u001b[0m \u001b[0mpd\u001b[0m\u001b[0;34m.\u001b[0m\u001b[0mmerge\u001b[0m\u001b[0;34m(\u001b[0m\u001b[0mdate_df\u001b[0m\u001b[0;34m,\u001b[0m \u001b[0mbetter_preds_ratio_date_df\u001b[0m\u001b[0;34m,\u001b[0m \u001b[0mon\u001b[0m\u001b[0;34m=\u001b[0m\u001b[0;34m[\u001b[0m\u001b[0;34m\"Date\"\u001b[0m\u001b[0;34m,\u001b[0m \u001b[0;34m\"GeoID\"\u001b[0m\u001b[0;34m]\u001b[0m\u001b[0;34m)\u001b[0m\u001b[0;34m\u001b[0m\u001b[0;34m\u001b[0m\u001b[0m\n\u001b[0m\u001b[1;32m      7\u001b[0m \u001b[0mbetter_merged_ratio_df\u001b[0m \u001b[0;34m=\u001b[0m \u001b[0mbetter_merged_ratio_df\u001b[0m\u001b[0;34m[\u001b[0m\u001b[0;34m(\u001b[0m\u001b[0mbetter_merged_ratio_df\u001b[0m\u001b[0;34m[\u001b[0m\u001b[0;34m\"GeoID\"\u001b[0m\u001b[0;34m]\u001b[0m\u001b[0;34m.\u001b[0m\u001b[0misin\u001b[0m\u001b[0;34m(\u001b[0m\u001b[0mgeos\u001b[0m\u001b[0;34m)\u001b[0m\u001b[0;34m)\u001b[0m\u001b[0;34m]\u001b[0m\u001b[0;34m\u001b[0m\u001b[0;34m\u001b[0m\u001b[0m\n\u001b[1;32m      8\u001b[0m \u001b[0mbetter_preds_ratio_mae\u001b[0m \u001b[0;34m=\u001b[0m \u001b[0mnp\u001b[0m\u001b[0;34m.\u001b[0m\u001b[0msum\u001b[0m\u001b[0;34m(\u001b[0m\u001b[0mnp\u001b[0m\u001b[0;34m.\u001b[0m\u001b[0mabs\u001b[0m\u001b[0;34m(\u001b[0m\u001b[0mbetter_merged_ratio_df\u001b[0m\u001b[0;34m.\u001b[0m\u001b[0mDailyChangeConfirmedCases\u001b[0m\u001b[0;34m.\u001b[0m\u001b[0mvalues\u001b[0m \u001b[0;34m-\u001b[0m \u001b[0mbetter_merged_ratio_df\u001b[0m\u001b[0;34m.\u001b[0m\u001b[0mPredictedDailyNewCases\u001b[0m\u001b[0;34m.\u001b[0m\u001b[0mvalues\u001b[0m\u001b[0;34m)\u001b[0m\u001b[0;34m)\u001b[0m\u001b[0;34m\u001b[0m\u001b[0;34m\u001b[0m\u001b[0m\n",
      "\u001b[0;31mNameError\u001b[0m: name 'date_df' is not defined"
     ]
    }
   ],
   "source": [
    "#PREDICTION RATIO BETTER PREDICTOR\n",
    "better_preds_ratio_date_df = better_preds_ratio_df[(better_preds_ratio_df[\"Date\"] >= start_date) & (better_preds_ratio_df[\"Date\"] <= end_date)]\n",
    "better_preds_ratio_date_df[\"GeoID\"] = np.where(better_preds_ratio_date_df[\"RegionName\"].isnull(),\n",
    "                                      better_preds_ratio_date_df[\"CountryName\"],\n",
    "                                      better_preds_ratio_date_df[\"CountryName\"] + ' / ' + better_preds_ratio_date_df[\"RegionName\"])\n",
    "better_merged_ratio_df = pd.merge(date_df, better_preds_ratio_date_df, on=[\"Date\", \"GeoID\"])\n",
    "better_merged_ratio_df = better_merged_ratio_df[(better_merged_ratio_df[\"GeoID\"].isin(geos))]\n",
    "better_preds_ratio_mae = np.sum(np.abs(better_merged_ratio_df.DailyChangeConfirmedCases.values - better_merged_ratio_df.PredictedDailyNewCases.values))\n",
    "better_preds_ratio_mae"
   ]
  },
  {
   "cell_type": "markdown",
   "metadata": {},
   "source": [
    "# Validation\n",
    "This is how the predictor is going to be called during the competition.  \n",
    "!!! PLEASE DO NOT CHANGE THE API !!!"
   ]
  },
  {
   "cell_type": "code",
   "execution_count": 21,
   "metadata": {},
   "outputs": [
    {
     "output_type": "stream",
     "name": "stdout",
     "text": [
      "Generating predictions from 2020-08-01 to 2020-08-04...\n",
      "Saved predictions to predictions/2020-08-01_2020-08-04.csv\n",
      "Done!\n"
     ]
    }
   ],
   "source": [
    "!python predict.py -s 2020-08-01 -e 2020-08-04 -ip ../../../validation/data/2020-09-30_historical_ip.csv -o predictions/2020-08-01_2020-08-04.csv"
   ]
  },
  {
   "cell_type": "code",
   "execution_count": 22,
   "metadata": {},
   "outputs": [
    {
     "output_type": "stream",
     "name": "stdout",
     "text": [
      "CountryName,RegionName,Date,PredictedDailyNewCases\nAruba,,2020-08-01,0.0\nAruba,,2020-08-02,1.7698189576811538\nAruba,,2020-08-03,21.939474736193304\nAruba,,2020-08-04,25.106195049205034\nAfghanistan,,2020-08-01,269.09904415313025\nAfghanistan,,2020-08-02,155.55027796759626\nAfghanistan,,2020-08-03,240.02544615184394\nAfghanistan,,2020-08-04,200.2726904410946\nAngola,,2020-08-01,15.565491775948328\n"
     ]
    }
   ],
   "source": [
    "!head predictions/2020-08-01_2020-08-04.csv"
   ]
  },
  {
   "cell_type": "markdown",
   "metadata": {},
   "source": [
    "# Test cases\n",
    "We can generate a prediction file. Let's validate a few cases..."
   ]
  },
  {
   "cell_type": "code",
   "execution_count": 24,
   "metadata": {},
   "outputs": [],
   "source": [
    "# Check the pediction file is valid\n",
    "import os\n",
    "from predictor_validation import validate_submission\n",
    "\n",
    "def validate(start_date, end_date, ip_file, output_file):\n",
    "    # First, delete any potential old file\n",
    "    try:\n",
    "        os.remove(output_file)\n",
    "    except OSError:\n",
    "        pass\n",
    "    \n",
    "    # Then generate the prediction, calling the official API\n",
    "    !python predict.py -s {start_date} -e {end_date} -ip {ip_file} -o {output_file}\n",
    "    \n",
    "    # And validate it\n",
    "    errors = validate_submission(start_date, end_date, ip_file, output_file)\n",
    "    if errors:\n",
    "        for error in errors:\n",
    "            print(error)\n",
    "    else:\n",
    "        print(\"All good!\")"
   ]
  },
  {
   "cell_type": "markdown",
   "metadata": {},
   "source": [
    "## 4 days, no gap\n",
    "- All countries and regions\n",
    "- Official number of cases is known up to start_date\n",
    "- Intervention Plans are the official ones"
   ]
  },
  {
   "cell_type": "code",
   "execution_count": 39,
   "metadata": {},
   "outputs": [
    {
     "output_type": "stream",
     "name": "stdout",
     "text": [
      "Generating predictions from 2020-08-01 to 2020-08-04...\n",
      "Saved predictions to predictions/val_4_days.csv\n",
      "Done!\n",
      "All good!\n"
     ]
    }
   ],
   "source": [
    "validate(start_date=\"2020-08-01\",\n",
    "         end_date=\"2020-08-04\",\n",
    "         ip_file=\"../../../validation/data/2020-09-30_historical_ip.csv\",\n",
    "         output_file=\"predictions/val_4_days.csv\")"
   ]
  },
  {
   "cell_type": "markdown",
   "metadata": {},
   "source": [
    "## 1 month in the future\n",
    "- 2 countries only\n",
    "- there's a gap between date of last known number of cases and start_date\n",
    "- For future dates, Intervention Plans contains scenarios for which predictions are requested to answer the question: what will happen if we apply these plans?"
   ]
  },
  {
   "cell_type": "code",
   "execution_count": 40,
   "metadata": {},
   "outputs": [
    {
     "output_type": "stream",
     "name": "stdout",
     "text": [
      "Generating predictions from 2021-01-01 to 2021-01-31...\n",
      "Saved predictions to predictions/val_1_month_future.csv\n",
      "Done!\n",
      "All good!\n",
      "CPU times: user 11.6 s, sys: 1.99 s, total: 13.6 s\n",
      "Wall time: 18min 25s\n"
     ]
    }
   ],
   "source": [
    "%%time\n",
    "validate(start_date=\"2021-01-01\",\n",
    "         end_date=\"2021-01-31\",\n",
    "         ip_file=\"../../../validation/data/future_ip.csv\",\n",
    "         output_file=\"predictions/val_1_month_future.csv\")"
   ]
  },
  {
   "cell_type": "markdown",
   "metadata": {},
   "source": [
    "## 180 days, from a future date, all countries and regions\n",
    "- Prediction start date is 1 week from now. (i.e. assuming submission date is 1 week from now)  \n",
    "- Prediction end date is 6 months after start date.  \n",
    "- Prediction is requested for all available countries and regions.  \n",
    "- Intervention plan scenario: freeze last known intervention plans for each country and region.  \n",
    "\n",
    "As the number of cases is not known yet between today and start date, but the model relies on them, the model has to predict them in order to use them.  \n",
    "This test is the most demanding test. It should take less than 1 hour to generate the prediction file."
   ]
  },
  {
   "cell_type": "markdown",
   "metadata": {},
   "source": [
    "### Generate the scenario"
   ]
  },
  {
   "cell_type": "code",
   "execution_count": 41,
   "metadata": {},
   "outputs": [
    {
     "output_type": "stream",
     "name": "stdout",
     "text": [
      "Start date: 2020-12-13\nEnd date: 2021-06-11\n"
     ]
    }
   ],
   "source": [
    "from datetime import datetime, timedelta\n",
    "\n",
    "start_date = datetime.now() + timedelta(days=7)\n",
    "start_date_str = start_date.strftime('%Y-%m-%d')\n",
    "end_date = start_date + timedelta(days=180)\n",
    "end_date_str = end_date.strftime('%Y-%m-%d')\n",
    "print(f\"Start date: {start_date_str}\")\n",
    "print(f\"End date: {end_date_str}\")"
   ]
  },
  {
   "cell_type": "code",
   "execution_count": 42,
   "metadata": {},
   "outputs": [
    {
     "output_type": "stream",
     "name": "stdout",
     "text": [
      "Saved scenario to predictions/180_days_future_scenario.csv\n"
     ]
    }
   ],
   "source": [
    "from scenario_generator import get_raw_data, generate_scenario, NPI_COLUMNS\n",
    "DATA_FILE = 'data/OxCGRT_latest.csv'\n",
    "latest_df = get_raw_data(DATA_FILE, latest=True)\n",
    "scenario_df = generate_scenario(start_date_str, end_date_str, latest_df, countries=None, scenario=\"Freeze\")\n",
    "scenario_file = \"predictions/180_days_future_scenario.csv\"\n",
    "scenario_df.to_csv(scenario_file, index=False)\n",
    "print(f\"Saved scenario to {scenario_file}\")"
   ]
  },
  {
   "cell_type": "markdown",
   "metadata": {},
   "source": [
    "### Check it"
   ]
  },
  {
   "cell_type": "code",
   "execution_count": 43,
   "metadata": {},
   "outputs": [
    {
     "output_type": "stream",
     "name": "stdout",
     "text": [
      "Generating predictions from 2020-12-13 to 2021-06-11...\n",
      "Saved predictions to predictions/val_6_month_future.csv\n",
      "Done!\n",
      "All good!\n",
      "CPU times: user 19.8 s, sys: 3.12 s, total: 22.9 s\n",
      "Wall time: 29min 47s\n"
     ]
    }
   ],
   "source": [
    "%%time\n",
    "validate(start_date=start_date_str,\n",
    "         end_date=end_date_str,\n",
    "         ip_file=scenario_file,\n",
    "         output_file=\"predictions/val_6_month_future.csv\")"
   ]
  },
  {
   "cell_type": "code",
   "execution_count": null,
   "metadata": {},
   "outputs": [],
   "source": []
  }
 ],
 "metadata": {
  "kernelspec": {
   "display_name": "Python 3.6.12 64-bit ('tf-gpu': conda)",
   "language": "python",
   "name": "python361264bittfgpucondaa2e81d30ca4041538b91f82f8c16e473"
  },
  "language_info": {
   "codemirror_mode": {
    "name": "ipython",
    "version": 3
   },
   "file_extension": ".py",
   "mimetype": "text/x-python",
   "name": "python",
   "nbconvert_exporter": "python",
   "pygments_lexer": "ipython3",
   "version": "3.6.12-final"
  },
  "pycharm": {
   "stem_cell": {
    "cell_type": "raw",
    "metadata": {
     "collapsed": false
    },
    "source": [
     "# Copyright 2020 (c) Cognizant Digital Business, Evolutionary AI. All rights reserved. Issued under the Apache 2.0 License."
    ]
   }
  }
 },
 "nbformat": 4,
 "nbformat_minor": 4
}