{
 "cells": [
  {
   "cell_type": "raw",
   "metadata": {},
   "source": [
    "# Copyright 2020 (c) Cognizant Digital Business, Evolutionary AI. All rights reserved. Issued under the Apache 2.0 License."
   ]
  },
  {
   "cell_type": "code",
   "execution_count": 1,
   "metadata": {},
   "outputs": [],
   "source": [
    "import os\n",
    "import pandas as pd\n",
    "import requests\n",
    "from sklearn.metrics import mean_absolute_error"
   ]
  },
  {
   "cell_type": "code",
   "execution_count": 2,
   "metadata": {},
   "outputs": [
    {
     "output_type": "stream",
     "name": "stdout",
     "text": [
      "Num GPUs Available:  1\n"
     ]
    }
   ],
   "source": [
    "import tensorflow as tf\n",
    "print(\"Num GPUs Available: \", len(tf.config.experimental.list_physical_devices('GPU')))\n",
    "physical_devices = tf.config.list_physical_devices('GPU')\n",
    "tf.config.experimental.set_memory_growth(physical_devices[0], enable=True)\n"
   ]
  },
  {
   "cell_type": "code",
   "execution_count": 3,
   "metadata": {},
   "outputs": [],
   "source": [
    "# 10-15 countries to start training\n",
    "# Check whether the data file is updated and if we can train in predict.py"
   ]
  },
  {
   "cell_type": "markdown",
   "metadata": {},
   "source": [
    "# Goal\n",
    "Predict the daily number of cases for the given countries, regions and intervention plan.\n",
    "\n",
    "This model is described in [From Prediction to Prescription: Evolutionary Optimization of Non-Pharmaceutical Interventions in the COVID-19 Pandemic](https://arxiv.org/abs/2005.13766) in Section 5 - Data-Driven Predictive Model.\n",
    "\n",
    "Predictions from this model trained on the latest data are visible here: [How AI Makes Intervention Recommendations](https://evolution.ml/demos/npidashboard/). For more information see [Augmenting Human Decision Making\n",
    "Optimizing COVID-19 Interventions](https://evolution.ml/esp/npi/)."
   ]
  },
  {
   "cell_type": "markdown",
   "metadata": {},
   "source": [
    "## Intervention plan\n",
    "An intervention plan consists in a list of containment and closure policies, as well as health system policies. See https://github.com/OxCGRT/covid-policy-tracker/blob/master/documentation/codebook.md for more details. The following policies are considered:"
   ]
  },
  {
   "cell_type": "code",
   "execution_count": 8,
   "metadata": {},
   "outputs": [],
   "source": [
    "NPI_COLUMNS = ['C1_School closing',\n",
    "               'C2_Workplace closing',\n",
    "               'C3_Cancel public events',\n",
    "               'C4_Restrictions on gatherings',\n",
    "               'C5_Close public transport',\n",
    "               'C6_Stay at home requirements',\n",
    "               'C7_Restrictions on internal movement',\n",
    "               'C8_International travel controls',\n",
    "               'H1_Public information campaigns',\n",
    "               'H2_Testing policy',\n",
    "               'H3_Contact tracing',\n",
    "               'H6_Facial Coverings']"
   ]
  },
  {
   "cell_type": "markdown",
   "metadata": {},
   "source": [
    "## Example\n",
    "For the given input, provide a model that can produce the expected output"
   ]
  },
  {
   "cell_type": "markdown",
   "metadata": {},
   "source": [
    "### Given input\n",
    "One row represents a country, region and day. For each row, the interventions that were in place on this day for this region and country are provided. Interventions can change from one day to the other for each country and region."
   ]
  },
  {
   "cell_type": "code",
   "execution_count": 9,
   "metadata": {},
   "outputs": [],
   "source": [
    "EXAMPLE_INPUT_FILE = \"../../../validation/data/2020-09-30_historical_ip.csv\""
   ]
  },
  {
   "cell_type": "code",
   "execution_count": 10,
   "metadata": {},
   "outputs": [],
   "source": [
    "prediction_input_df = pd.read_csv(EXAMPLE_INPUT_FILE,\n",
    "                                  parse_dates=['Date'],\n",
    "                                  dtype={\"RegionName\": str},\n",
    "                                  encoding=\"ISO-8859-1\")"
   ]
  },
  {
   "cell_type": "code",
   "execution_count": 11,
   "metadata": {},
   "outputs": [
    {
     "output_type": "execute_result",
     "data": {
      "text/plain": [
       "  CountryName RegionName       Date  C1_School closing  C2_Workplace closing  \\\n",
       "0       Aruba        NaN 2020-01-01                0.0                   0.0   \n",
       "1       Aruba        NaN 2020-01-02                0.0                   0.0   \n",
       "2       Aruba        NaN 2020-01-03                0.0                   0.0   \n",
       "3       Aruba        NaN 2020-01-04                0.0                   0.0   \n",
       "4       Aruba        NaN 2020-01-05                0.0                   0.0   \n",
       "\n",
       "   C3_Cancel public events  C4_Restrictions on gatherings  \\\n",
       "0                      0.0                            0.0   \n",
       "1                      0.0                            0.0   \n",
       "2                      0.0                            0.0   \n",
       "3                      0.0                            0.0   \n",
       "4                      0.0                            0.0   \n",
       "\n",
       "   C5_Close public transport  C6_Stay at home requirements  \\\n",
       "0                        0.0                           0.0   \n",
       "1                        0.0                           0.0   \n",
       "2                        0.0                           0.0   \n",
       "3                        0.0                           0.0   \n",
       "4                        0.0                           0.0   \n",
       "\n",
       "   C7_Restrictions on internal movement  C8_International travel controls  \\\n",
       "0                                   0.0                               0.0   \n",
       "1                                   0.0                               0.0   \n",
       "2                                   0.0                               0.0   \n",
       "3                                   0.0                               0.0   \n",
       "4                                   0.0                               0.0   \n",
       "\n",
       "   H1_Public information campaigns  H2_Testing policy  H3_Contact tracing  \\\n",
       "0                              0.0                0.0                 0.0   \n",
       "1                              0.0                0.0                 0.0   \n",
       "2                              0.0                0.0                 0.0   \n",
       "3                              0.0                0.0                 0.0   \n",
       "4                              0.0                0.0                 0.0   \n",
       "\n",
       "   H6_Facial Coverings  \n",
       "0                  0.0  \n",
       "1                  0.0  \n",
       "2                  0.0  \n",
       "3                  0.0  \n",
       "4                  0.0  "
      ],
      "text/html": "<div>\n<style scoped>\n    .dataframe tbody tr th:only-of-type {\n        vertical-align: middle;\n    }\n\n    .dataframe tbody tr th {\n        vertical-align: top;\n    }\n\n    .dataframe thead th {\n        text-align: right;\n    }\n</style>\n<table border=\"1\" class=\"dataframe\">\n  <thead>\n    <tr style=\"text-align: right;\">\n      <th></th>\n      <th>CountryName</th>\n      <th>RegionName</th>\n      <th>Date</th>\n      <th>C1_School closing</th>\n      <th>C2_Workplace closing</th>\n      <th>C3_Cancel public events</th>\n      <th>C4_Restrictions on gatherings</th>\n      <th>C5_Close public transport</th>\n      <th>C6_Stay at home requirements</th>\n      <th>C7_Restrictions on internal movement</th>\n      <th>C8_International travel controls</th>\n      <th>H1_Public information campaigns</th>\n      <th>H2_Testing policy</th>\n      <th>H3_Contact tracing</th>\n      <th>H6_Facial Coverings</th>\n    </tr>\n  </thead>\n  <tbody>\n    <tr>\n      <th>0</th>\n      <td>Aruba</td>\n      <td>NaN</td>\n      <td>2020-01-01</td>\n      <td>0.0</td>\n      <td>0.0</td>\n      <td>0.0</td>\n      <td>0.0</td>\n      <td>0.0</td>\n      <td>0.0</td>\n      <td>0.0</td>\n      <td>0.0</td>\n      <td>0.0</td>\n      <td>0.0</td>\n      <td>0.0</td>\n      <td>0.0</td>\n    </tr>\n    <tr>\n      <th>1</th>\n      <td>Aruba</td>\n      <td>NaN</td>\n      <td>2020-01-02</td>\n      <td>0.0</td>\n      <td>0.0</td>\n      <td>0.0</td>\n      <td>0.0</td>\n      <td>0.0</td>\n      <td>0.0</td>\n      <td>0.0</td>\n      <td>0.0</td>\n      <td>0.0</td>\n      <td>0.0</td>\n      <td>0.0</td>\n      <td>0.0</td>\n    </tr>\n    <tr>\n      <th>2</th>\n      <td>Aruba</td>\n      <td>NaN</td>\n      <td>2020-01-03</td>\n      <td>0.0</td>\n      <td>0.0</td>\n      <td>0.0</td>\n      <td>0.0</td>\n      <td>0.0</td>\n      <td>0.0</td>\n      <td>0.0</td>\n      <td>0.0</td>\n      <td>0.0</td>\n      <td>0.0</td>\n      <td>0.0</td>\n      <td>0.0</td>\n    </tr>\n    <tr>\n      <th>3</th>\n      <td>Aruba</td>\n      <td>NaN</td>\n      <td>2020-01-04</td>\n      <td>0.0</td>\n      <td>0.0</td>\n      <td>0.0</td>\n      <td>0.0</td>\n      <td>0.0</td>\n      <td>0.0</td>\n      <td>0.0</td>\n      <td>0.0</td>\n      <td>0.0</td>\n      <td>0.0</td>\n      <td>0.0</td>\n      <td>0.0</td>\n    </tr>\n    <tr>\n      <th>4</th>\n      <td>Aruba</td>\n      <td>NaN</td>\n      <td>2020-01-05</td>\n      <td>0.0</td>\n      <td>0.0</td>\n      <td>0.0</td>\n      <td>0.0</td>\n      <td>0.0</td>\n      <td>0.0</td>\n      <td>0.0</td>\n      <td>0.0</td>\n      <td>0.0</td>\n      <td>0.0</td>\n      <td>0.0</td>\n      <td>0.0</td>\n    </tr>\n  </tbody>\n</table>\n</div>"
     },
     "metadata": {},
     "execution_count": 11
    }
   ],
   "source": [
    "prediction_input_df.head()"
   ]
  },
  {
   "cell_type": "markdown",
   "metadata": {},
   "source": [
    "### Expected output\n",
    "For each row that was provided in input, i.e. for each country, region and day, the output should contain an additional `PredictedDailyNewCases` column with the predicted number of cases for that day, region and country. It is possible to leave `PredictedDailyNewCases` empty or NaN, or to remove the row, in case no predition is available."
   ]
  },
  {
   "cell_type": "code",
   "execution_count": 12,
   "metadata": {},
   "outputs": [],
   "source": [
    "EXAMPLE_OUTPUT_FILE = \"../../../../2020-08-01_2020-08-04_predictions_example.csv\""
   ]
  },
  {
   "cell_type": "code",
   "execution_count": 13,
   "metadata": {},
   "outputs": [],
   "source": [
    "prediction_output_df = pd.read_csv(EXAMPLE_OUTPUT_FILE,\n",
    "                                   parse_dates=['Date'],\n",
    "                                   encoding=\"ISO-8859-1\")"
   ]
  },
  {
   "cell_type": "code",
   "execution_count": 14,
   "metadata": {},
   "outputs": [
    {
     "output_type": "execute_result",
     "data": {
      "text/plain": [
       "   CountryName RegionName       Date  PredictedDailyNewCases\n",
       "0        Aruba        NaN 2020-08-01                0.820071\n",
       "1        Aruba        NaN 2020-08-02                0.872854\n",
       "2        Aruba        NaN 2020-08-03                0.000000\n",
       "3        Aruba        NaN 2020-08-04                0.000000\n",
       "4  Afghanistan        NaN 2020-08-01               80.590128"
      ],
      "text/html": "<div>\n<style scoped>\n    .dataframe tbody tr th:only-of-type {\n        vertical-align: middle;\n    }\n\n    .dataframe tbody tr th {\n        vertical-align: top;\n    }\n\n    .dataframe thead th {\n        text-align: right;\n    }\n</style>\n<table border=\"1\" class=\"dataframe\">\n  <thead>\n    <tr style=\"text-align: right;\">\n      <th></th>\n      <th>CountryName</th>\n      <th>RegionName</th>\n      <th>Date</th>\n      <th>PredictedDailyNewCases</th>\n    </tr>\n  </thead>\n  <tbody>\n    <tr>\n      <th>0</th>\n      <td>Aruba</td>\n      <td>NaN</td>\n      <td>2020-08-01</td>\n      <td>0.820071</td>\n    </tr>\n    <tr>\n      <th>1</th>\n      <td>Aruba</td>\n      <td>NaN</td>\n      <td>2020-08-02</td>\n      <td>0.872854</td>\n    </tr>\n    <tr>\n      <th>2</th>\n      <td>Aruba</td>\n      <td>NaN</td>\n      <td>2020-08-03</td>\n      <td>0.000000</td>\n    </tr>\n    <tr>\n      <th>3</th>\n      <td>Aruba</td>\n      <td>NaN</td>\n      <td>2020-08-04</td>\n      <td>0.000000</td>\n    </tr>\n    <tr>\n      <th>4</th>\n      <td>Afghanistan</td>\n      <td>NaN</td>\n      <td>2020-08-01</td>\n      <td>80.590128</td>\n    </tr>\n  </tbody>\n</table>\n</div>"
     },
     "metadata": {},
     "execution_count": 14
    }
   ],
   "source": [
    "prediction_output_df.head()"
   ]
  },
  {
   "cell_type": "markdown",
   "metadata": {},
   "source": [
    "### Evaluation\n",
    "Predictions will be evaluated on a period of 4 weeks **after** submision against the actual daily change in confirmed cases reported by the [Oxford COVID-19 Government Response Tracker (OxCGRT)](https://www.bsg.ox.ac.uk/research/research-projects/coronavirus-government-response-tracker).\n",
    "\n",
    "The latest data, including the latest confirmed cases ('ConfirmedCases') can be find here: https://raw.githubusercontent.com/OxCGRT/covid-policy-tracker/master/data/OxCGRT_latest.csv"
   ]
  },
  {
   "cell_type": "code",
   "execution_count": 15,
   "metadata": {},
   "outputs": [],
   "source": [
    "DATA_URL = 'https://raw.githubusercontent.com/OxCGRT/covid-policy-tracker/master/data/OxCGRT_latest.csv'\n",
    "df = pd.read_csv(DATA_URL,\n",
    "                 parse_dates=['Date'],\n",
    "                 encoding=\"ISO-8859-1\",\n",
    "                 dtype={\"RegionName\": str,\n",
    "                        \"RegionCode\": str},\n",
    "                 error_bad_lines=False)"
   ]
  },
  {
   "cell_type": "code",
   "execution_count": 16,
   "metadata": {},
   "outputs": [
    {
     "output_type": "execute_result",
     "data": {
      "text/plain": [
       "         CountryName CountryCode RegionName RegionCode Jurisdiction  \\\n",
       "72129           Togo         TGO        NaN        NaN    NAT_TOTAL   \n",
       "89370  United States         USA   New York      US_NY  STATE_TOTAL   \n",
       "85701  United States         USA   Missouri      US_MO  STATE_TOTAL   \n",
       "\n",
       "            Date  C1_School closing  C1_Flag  C2_Workplace closing  C2_Flag  \\\n",
       "72129 2020-11-17                1.0      1.0                   2.0      1.0   \n",
       "89370 2020-11-10                2.0      0.0                   3.0      0.0   \n",
       "85701 2020-06-14                3.0      1.0                   2.0      0.0   \n",
       "\n",
       "       ...  StringencyIndex  StringencyIndexForDisplay  StringencyLegacyIndex  \\\n",
       "72129  ...            52.78                      52.78                  67.86   \n",
       "89370  ...            72.69                      72.69                  78.10   \n",
       "85701  ...            63.43                      63.43                  67.38   \n",
       "\n",
       "       StringencyLegacyIndexForDisplay  GovernmentResponseIndex  \\\n",
       "72129                            67.86                    54.44   \n",
       "89370                            78.10                    71.94   \n",
       "85701                            67.38                    55.83   \n",
       "\n",
       "       GovernmentResponseIndexForDisplay  ContainmentHealthIndex  \\\n",
       "72129                              54.44                   51.28   \n",
       "89370                              71.94                   71.47   \n",
       "85701                              55.83                   54.81   \n",
       "\n",
       "       ContainmentHealthIndexForDisplay  EconomicSupportIndex  \\\n",
       "72129                             51.28                  75.0   \n",
       "89370                             71.47                  75.0   \n",
       "85701                             54.81                  62.5   \n",
       "\n",
       "       EconomicSupportIndexForDisplay  \n",
       "72129                            75.0  \n",
       "89370                            75.0  \n",
       "85701                            62.5  \n",
       "\n",
       "[3 rows x 49 columns]"
      ],
      "text/html": "<div>\n<style scoped>\n    .dataframe tbody tr th:only-of-type {\n        vertical-align: middle;\n    }\n\n    .dataframe tbody tr th {\n        vertical-align: top;\n    }\n\n    .dataframe thead th {\n        text-align: right;\n    }\n</style>\n<table border=\"1\" class=\"dataframe\">\n  <thead>\n    <tr style=\"text-align: right;\">\n      <th></th>\n      <th>CountryName</th>\n      <th>CountryCode</th>\n      <th>RegionName</th>\n      <th>RegionCode</th>\n      <th>Jurisdiction</th>\n      <th>Date</th>\n      <th>C1_School closing</th>\n      <th>C1_Flag</th>\n      <th>C2_Workplace closing</th>\n      <th>C2_Flag</th>\n      <th>...</th>\n      <th>StringencyIndex</th>\n      <th>StringencyIndexForDisplay</th>\n      <th>StringencyLegacyIndex</th>\n      <th>StringencyLegacyIndexForDisplay</th>\n      <th>GovernmentResponseIndex</th>\n      <th>GovernmentResponseIndexForDisplay</th>\n      <th>ContainmentHealthIndex</th>\n      <th>ContainmentHealthIndexForDisplay</th>\n      <th>EconomicSupportIndex</th>\n      <th>EconomicSupportIndexForDisplay</th>\n    </tr>\n  </thead>\n  <tbody>\n    <tr>\n      <th>72129</th>\n      <td>Togo</td>\n      <td>TGO</td>\n      <td>NaN</td>\n      <td>NaN</td>\n      <td>NAT_TOTAL</td>\n      <td>2020-11-17</td>\n      <td>1.0</td>\n      <td>1.0</td>\n      <td>2.0</td>\n      <td>1.0</td>\n      <td>...</td>\n      <td>52.78</td>\n      <td>52.78</td>\n      <td>67.86</td>\n      <td>67.86</td>\n      <td>54.44</td>\n      <td>54.44</td>\n      <td>51.28</td>\n      <td>51.28</td>\n      <td>75.0</td>\n      <td>75.0</td>\n    </tr>\n    <tr>\n      <th>89370</th>\n      <td>United States</td>\n      <td>USA</td>\n      <td>New York</td>\n      <td>US_NY</td>\n      <td>STATE_TOTAL</td>\n      <td>2020-11-10</td>\n      <td>2.0</td>\n      <td>0.0</td>\n      <td>3.0</td>\n      <td>0.0</td>\n      <td>...</td>\n      <td>72.69</td>\n      <td>72.69</td>\n      <td>78.10</td>\n      <td>78.10</td>\n      <td>71.94</td>\n      <td>71.94</td>\n      <td>71.47</td>\n      <td>71.47</td>\n      <td>75.0</td>\n      <td>75.0</td>\n    </tr>\n    <tr>\n      <th>85701</th>\n      <td>United States</td>\n      <td>USA</td>\n      <td>Missouri</td>\n      <td>US_MO</td>\n      <td>STATE_TOTAL</td>\n      <td>2020-06-14</td>\n      <td>3.0</td>\n      <td>1.0</td>\n      <td>2.0</td>\n      <td>0.0</td>\n      <td>...</td>\n      <td>63.43</td>\n      <td>63.43</td>\n      <td>67.38</td>\n      <td>67.38</td>\n      <td>55.83</td>\n      <td>55.83</td>\n      <td>54.81</td>\n      <td>54.81</td>\n      <td>62.5</td>\n      <td>62.5</td>\n    </tr>\n  </tbody>\n</table>\n<p>3 rows × 49 columns</p>\n</div>"
     },
     "metadata": {},
     "execution_count": 16
    }
   ],
   "source": [
    "df.sample(3)"
   ]
  },
  {
   "cell_type": "markdown",
   "metadata": {},
   "source": [
    "### Daily change in confirmed cases\n",
    "The daily change in confirmed cases can be computed like this:"
   ]
  },
  {
   "cell_type": "code",
   "execution_count": 17,
   "metadata": {},
   "outputs": [],
   "source": [
    "df[\"DailyChangeConfirmedCases\"] = df.groupby([\"CountryName\", \"RegionName\"]).ConfirmedCases.diff().fillna(0)"
   ]
  },
  {
   "cell_type": "markdown",
   "metadata": {},
   "source": [
    "For instance, for country **United States**, region **California**, the latest available changes in confirmed cases are:"
   ]
  },
  {
   "cell_type": "code",
   "execution_count": 18,
   "metadata": {},
   "outputs": [],
   "source": [
    "california_df = df[(df.CountryName == \"United States\") & (df.RegionName == \"California\")]"
   ]
  },
  {
   "cell_type": "code",
   "execution_count": 19,
   "metadata": {},
   "outputs": [
    {
     "output_type": "execute_result",
     "data": {
      "text/plain": [
       "         CountryName  RegionName       Date  ConfirmedCases  \\\n",
       "78843  United States  California 2020-12-13       1585378.0   \n",
       "78844  United States  California 2020-12-14       1611493.0   \n",
       "78845  United States  California 2020-12-15       1644742.0   \n",
       "78846  United States  California 2020-12-16             NaN   \n",
       "78847  United States  California 2020-12-17             NaN   \n",
       "\n",
       "       DailyChangeConfirmedCases  \n",
       "78843                    36202.0  \n",
       "78844                    26115.0  \n",
       "78845                    33249.0  \n",
       "78846                        0.0  \n",
       "78847                        0.0  "
      ],
      "text/html": "<div>\n<style scoped>\n    .dataframe tbody tr th:only-of-type {\n        vertical-align: middle;\n    }\n\n    .dataframe tbody tr th {\n        vertical-align: top;\n    }\n\n    .dataframe thead th {\n        text-align: right;\n    }\n</style>\n<table border=\"1\" class=\"dataframe\">\n  <thead>\n    <tr style=\"text-align: right;\">\n      <th></th>\n      <th>CountryName</th>\n      <th>RegionName</th>\n      <th>Date</th>\n      <th>ConfirmedCases</th>\n      <th>DailyChangeConfirmedCases</th>\n    </tr>\n  </thead>\n  <tbody>\n    <tr>\n      <th>78843</th>\n      <td>United States</td>\n      <td>California</td>\n      <td>2020-12-13</td>\n      <td>1585378.0</td>\n      <td>36202.0</td>\n    </tr>\n    <tr>\n      <th>78844</th>\n      <td>United States</td>\n      <td>California</td>\n      <td>2020-12-14</td>\n      <td>1611493.0</td>\n      <td>26115.0</td>\n    </tr>\n    <tr>\n      <th>78845</th>\n      <td>United States</td>\n      <td>California</td>\n      <td>2020-12-15</td>\n      <td>1644742.0</td>\n      <td>33249.0</td>\n    </tr>\n    <tr>\n      <th>78846</th>\n      <td>United States</td>\n      <td>California</td>\n      <td>2020-12-16</td>\n      <td>NaN</td>\n      <td>0.0</td>\n    </tr>\n    <tr>\n      <th>78847</th>\n      <td>United States</td>\n      <td>California</td>\n      <td>2020-12-17</td>\n      <td>NaN</td>\n      <td>0.0</td>\n    </tr>\n  </tbody>\n</table>\n</div>"
     },
     "metadata": {},
     "execution_count": 19
    }
   ],
   "source": [
    "california_df[[\"CountryName\", \"RegionName\", \"Date\", \"ConfirmedCases\", \"DailyChangeConfirmedCases\"]].tail(5)"
   ]
  },
  {
   "cell_type": "markdown",
   "metadata": {},
   "source": [
    "# Training a model"
   ]
  },
  {
   "cell_type": "markdown",
   "metadata": {},
   "source": [
    "## Copy the data locally"
   ]
  },
  {
   "cell_type": "code",
   "execution_count": 20,
   "metadata": {},
   "outputs": [
    {
     "output_type": "execute_result",
     "data": {
      "text/plain": [
       "20646967"
      ]
     },
     "metadata": {},
     "execution_count": 20
    }
   ],
   "source": [
    "# Main source for the training data\n",
    "DATA_URL = 'https://raw.githubusercontent.com/OxCGRT/covid-policy-tracker/master/data/OxCGRT_latest.csv'\n",
    "DATA_FILE = 'data/OxCGRT_latest.csv'\n",
    "\n",
    "# Download the data set\n",
    "data = requests.get(DATA_URL)\n",
    "\n",
    "# Persist the data set locally in order to use it after submission to make predictions,\n",
    "# as the sandbox won't have access to the internet anymore.\n",
    "if not os.path.exists('data'):\n",
    "    os.mkdir('data')\n",
    "open(DATA_FILE, 'wb').write(data.content)"
   ]
  },
  {
   "cell_type": "markdown",
   "metadata": {},
   "source": [
    "## Train"
   ]
  },
  {
   "cell_type": "code",
   "execution_count": 74,
   "metadata": {},
   "outputs": [],
   "source": [
    "# Reload the module to get the latest changes\n",
    "# import xprize_predictor\n",
    "# from importlib import reload\n",
    "# reload(xprize_predictor)\n",
    "# from xprize_predictor import XPrizePredictor\n",
    "import xprize_original_predictor\n",
    "from importlib import reload\n",
    "reload(xprize_original_predictor)\n",
    "from xprize_original_predictor import XPrizePredictor"
   ]
  },
  {
   "cell_type": "code",
   "execution_count": 75,
   "metadata": {},
   "outputs": [],
   "source": [
    "predictor = XPrizePredictor(None, DATA_FILE)"
   ]
  },
  {
   "cell_type": "code",
   "execution_count": 76,
   "metadata": {},
   "outputs": [
    {
     "output_type": "stream",
     "name": "stdout",
     "text": [
      "Creating numpy arrays for Keras for each country...\n",
      "Numpy arrays created\n",
      "Trial 0\n",
      "268/268 [==============================] - 1s 2ms/step - loss: 0.0869\n",
      "Train Loss: 0.08737935870885849\n",
      "Val Loss: 0.09501583129167557\n",
      "Test Loss: 0.08688689023256302\n",
      "Done\n",
      "CPU times: user 5min 29s, sys: 27.2 s, total: 5min 56s\n",
      "Wall time: 3min 45s\n"
     ]
    }
   ],
   "source": [
    "%%time\n",
    "predictor_model = predictor.train()"
   ]
  },
  {
   "cell_type": "code",
   "execution_count": 77,
   "metadata": {},
   "outputs": [],
   "source": [
    "if not os.path.exists('models'):\n",
    "    os.mkdir('models')\n",
    "predictor_model.save_weights(\"models/original_model.h5\")"
   ]
  },
  {
   "cell_type": "markdown",
   "metadata": {},
   "source": [
    "# Predicting using a trained model"
   ]
  },
  {
   "cell_type": "markdown",
   "metadata": {},
   "source": [
    "## Load candidate model"
   ]
  },
  {
   "cell_type": "code",
   "execution_count": 21,
   "metadata": {},
   "outputs": [],
   "source": [
    "model_weights_file = \"models/trained_model_weights.h5\""
   ]
  },
  {
   "cell_type": "code",
   "execution_count": 22,
   "metadata": {},
   "outputs": [],
   "source": [
    "predictor = XPrizePredictor(model_weights_file, DATA_FILE)"
   ]
  },
  {
   "cell_type": "markdown",
   "metadata": {},
   "source": [
    "## Make prediction"
   ]
  },
  {
   "cell_type": "code",
   "execution_count": 67,
   "metadata": {},
   "outputs": [],
   "source": [
    "NPIS_INPUT_FILE = \"../../../validation/data/2020-12-16_historical_ip.csv\"\n",
    "start_date = \"2020-12-01\"\n",
    "end_date = \"2020-12-15\""
   ]
  },
  {
   "cell_type": "code",
   "execution_count": 24,
   "metadata": {},
   "outputs": [
    {
     "output_type": "stream",
     "name": "stdout",
     "text": [
      "CPU times: user 1min 59s, sys: 2.69 s, total: 2min 1s\nWall time: 1min 53s\n"
     ]
    }
   ],
   "source": [
    "%%time\n",
    "preds_df = predictor.predict(start_date, end_date, NPIS_INPUT_FILE)"
   ]
  },
  {
   "cell_type": "code",
   "execution_count": 72,
   "metadata": {},
   "outputs": [],
   "source": [
    "# preds_date_df = preds_df[(preds_df['Date'] >= '2020-08-01') & (preds_df['Date'] <= '2020-08-31')]\n",
    "date_df = df[(df['Date'] >= start_date) & (df['Date'] <= end_date)]"
   ]
  },
  {
   "cell_type": "code",
   "execution_count": 26,
   "metadata": {},
   "outputs": [],
   "source": [
    "merged_df = pd.merge(date_df, preds_date_df, on=[\"Date\", \"CountryName\", \"RegionName\"])\n",
    "mse = mean_squared_error(merged_df['DailyChangeConfirmedCases'], merged_df['PredictedDailyNewCases'])\n",
    "# merged_df['NewCasesDifference'] = merged_df['PredictedDailyNewCases'] - merged_df['DailyChangeConfirmedCases']\n",
    "# merged_df[[\"CountryName\", \"RegionName\", \"Date\", \"DailyChangeConfirmedCases\", \"PredictedDailyNewCases\", \"NewCasesDifference\"]].head()"
   ]
  },
  {
   "source": [
    "Change test days to 60"
   ],
   "cell_type": "markdown",
   "metadata": {}
  },
  {
   "cell_type": "code",
   "execution_count": 27,
   "metadata": {},
   "outputs": [],
   "source": [
    "model_60_weights_file = \"models/trained_model_weights_60_test_days.h5\""
   ]
  },
  {
   "cell_type": "code",
   "execution_count": 28,
   "metadata": {},
   "outputs": [],
   "source": [
    "predictor = XPrizePredictor(model_60_weights_file, DATA_FILE)"
   ]
  },
  {
   "cell_type": "code",
   "execution_count": 29,
   "metadata": {},
   "outputs": [],
   "source": [
    "NPIS_INPUT_FILE = \"../../../validation/data/2020-09-30_historical_ip.csv\"\n",
    "start_date = \"2020-08-01\"\n",
    "end_date = \"2020-08-31\""
   ]
  },
  {
   "cell_type": "code",
   "execution_count": 30,
   "metadata": {},
   "outputs": [
    {
     "output_type": "stream",
     "name": "stdout",
     "text": [
      "CPU times: user 2min, sys: 2.74 s, total: 2min 3s\nWall time: 1min 54s\n"
     ]
    }
   ],
   "source": [
    "%%time\n",
    "preds_60_df = predictor.predict(start_date, end_date, NPIS_INPUT_FILE)"
   ]
  },
  {
   "cell_type": "code",
   "execution_count": 31,
   "metadata": {},
   "outputs": [],
   "source": [
    "preds_date_60_df = preds_60_df[(preds_60_df['Date'] >= '2020-08-01') & (preds_60_df['Date'] <= '2020-08-31')]"
   ]
  },
  {
   "cell_type": "code",
   "execution_count": 32,
   "metadata": {},
   "outputs": [],
   "source": [
    "merged_60_df = pd.merge(date_df, preds_date_60_df, on=[\"Date\", \"CountryName\", \"RegionName\"])\n",
    "mse_60 = mean_squared_error(merged_60_df['DailyChangeConfirmedCases'], merged_60_df['PredictedDailyNewCases'])\n",
    "# merged_60_df['NewCasesDifference'] = merged_60_df['PredictedDailyNewCases'] - merged_60_df['DailyChangeConfirmedCases']\n",
    "# merged_60_df[[\"CountryName\", \"RegionName\", \"Date\", \"DailyChangeConfirmedCases\", \"PredictedDailyNewCases\", \"NewCasesDifference\"]].head()"
   ]
  },
  {
   "cell_type": "code",
   "execution_count": 33,
   "metadata": {},
   "outputs": [
    {
     "output_type": "execute_result",
     "data": {
      "text/plain": [
       "-0.16697518960065255"
      ]
     },
     "metadata": {},
     "execution_count": 33
    }
   ],
   "source": [
    "(mse_60 - mse)/mse"
   ]
  },
  {
   "source": [
    "# Use prediction ratio to sort countries + 60 days training\n",
    "model_weights_pred_ratio_file = \"models/trained_model_weights_prediction_ratio_weights.h5\"\n",
    "predictor = XPrizePredictor(model_weights_pred_ratio_file, DATA_FILE)"
   ],
   "cell_type": "code",
   "metadata": {},
   "execution_count": 34,
   "outputs": []
  },
  {
   "cell_type": "code",
   "execution_count": 35,
   "metadata": {},
   "outputs": [
    {
     "output_type": "stream",
     "name": "stdout",
     "text": [
      "CPU times: user 1min 59s, sys: 2.82 s, total: 2min 2s\nWall time: 1min 53s\n"
     ]
    }
   ],
   "source": [
    "%%time\n",
    "preds_ratio_df = predictor.predict(start_date, end_date, NPIS_INPUT_FILE)"
   ]
  },
  {
   "cell_type": "code",
   "execution_count": 36,
   "metadata": {},
   "outputs": [],
   "source": [
    "preds_ratio_date_df = preds_ratio_df[(preds_ratio_df['Date'] >= '2020-08-01') & (preds_ratio_df['Date'] <= '2020-08-31')]\n",
    "merged_preds_ratio_df = pd.merge(date_df, preds_ratio_date_df, on=[\"Date\", \"CountryName\", \"RegionName\"])\n",
    "mse_preds_ratio = mean_squared_error(merged_preds_ratio_df['DailyChangeConfirmedCases'], merged_preds_ratio_df['PredictedDailyNewCases'])"
   ]
  },
  {
   "cell_type": "code",
   "execution_count": 37,
   "metadata": {},
   "outputs": [
    {
     "output_type": "execute_result",
     "data": {
      "text/plain": [
       "-0.49411831326455097"
      ]
     },
     "metadata": {},
     "execution_count": 37
    }
   ],
   "source": [
    "(mse_preds_ratio - mse)/mse"
   ]
  },
  {
   "cell_type": "code",
   "execution_count": null,
   "metadata": {},
   "outputs": [],
   "source": [
    "# MSE"
   ]
  },
  {
   "cell_type": "code",
   "execution_count": 49,
   "metadata": {},
   "outputs": [],
   "source": [
    "model_weights_pred_ratio_mse_file = \"models/trained_model_weights_prediction_ratio_weights_mse.h5\"\n",
    "predictor = XPrizePredictor(model_weights_pred_ratio_mse_file, DATA_FILE)"
   ]
  },
  {
   "cell_type": "code",
   "execution_count": 50,
   "metadata": {},
   "outputs": [
    {
     "output_type": "stream",
     "name": "stdout",
     "text": [
      "CPU times: user 2min 7s, sys: 3.03 s, total: 2min 10s\nWall time: 2min 1s\n"
     ]
    }
   ],
   "source": [
    "%%time\n",
    "preds_ratio_mse_df = predictor.predict(start_date, end_date, NPIS_INPUT_FILE)"
   ]
  },
  {
   "cell_type": "code",
   "execution_count": 51,
   "metadata": {},
   "outputs": [],
   "source": [
    "preds_ratio_mse_date_df = preds_ratio_mse_df[(preds_ratio_mse_df['Date'] >= '2020-08-01') & (preds_ratio_mse_df['Date'] <= '2020-08-31')]\n",
    "merged_preds_ratio_mse_df = pd.merge(date_df, preds_ratio_mse_date_df, on=[\"Date\", \"CountryName\", \"RegionName\"])\n",
    "mse_preds_ratio_mse = mean_squared_error(merged_preds_ratio_mse_df['DailyChangeConfirmedCases'], merged_preds_ratio_mse_df['PredictedDailyNewCases'])"
   ]
  },
  {
   "cell_type": "code",
   "execution_count": 52,
   "metadata": {},
   "outputs": [
    {
     "output_type": "execute_result",
     "data": {
      "text/plain": [
       "0.019430400288864506"
      ]
     },
     "metadata": {},
     "execution_count": 52
    }
   ],
   "source": [
    "(mse_preds_ratio_mse - mse)/mse"
   ]
  },
  {
   "cell_type": "code",
   "execution_count": 68,
   "metadata": {},
   "outputs": [],
   "source": [
    "model_weights_14 = \"models/14_day_window_30_lookback.h5\"\n",
    "predictor = XPrizePredictor(model_weights_14, DATA_FILE)"
   ]
  },
  {
   "cell_type": "code",
   "execution_count": 69,
   "metadata": {},
   "outputs": [
    {
     "output_type": "stream",
     "name": "stdout",
     "text": [
      "CPU times: user 1min 8s, sys: 1.31 s, total: 1min 9s\nWall time: 1min 5s\n"
     ]
    }
   ],
   "source": [
    "%%time\n",
    "preds_14_df = predictor.predict(start_date, end_date, NPIS_INPUT_FILE)"
   ]
  },
  {
   "cell_type": "code",
   "execution_count": 73,
   "metadata": {},
   "outputs": [
    {
     "output_type": "execute_result",
     "data": {
      "text/plain": [
       "2199.0502190442726"
      ]
     },
     "metadata": {},
     "execution_count": 73
    }
   ],
   "source": [
    "preds_14_date_df = preds_14_df[(preds_14_df['Date'] >= start_date) & (preds_14_df['Date'] <= end_date)]\n",
    "merged_14_df = pd.merge(date_df, preds_14_date_df, on=[\"Date\", \"CountryName\", \"RegionName\"])\n",
    "preds_14_mae = mean_absolute_error(merged_14_df['DailyChangeConfirmedCases'], merged_14_df['PredictedDailyNewCases'])\n",
    "preds_14_mae"
   ]
  },
  {
   "cell_type": "markdown",
   "metadata": {},
   "source": [
    "# Validation\n",
    "This is how the predictor is going to be called during the competition.  \n",
    "!!! PLEASE DO NOT CHANGE THE API !!!"
   ]
  },
  {
   "cell_type": "code",
   "execution_count": 21,
   "metadata": {},
   "outputs": [
    {
     "output_type": "stream",
     "name": "stdout",
     "text": [
      "Generating predictions from 2020-08-01 to 2020-08-04...\n",
      "Saved predictions to predictions/2020-08-01_2020-08-04.csv\n",
      "Done!\n"
     ]
    }
   ],
   "source": [
    "!python predict.py -s 2020-08-01 -e 2020-08-04 -ip ../../../validation/data/2020-09-30_historical_ip.csv -o predictions/2020-08-01_2020-08-04.csv"
   ]
  },
  {
   "cell_type": "code",
   "execution_count": 22,
   "metadata": {},
   "outputs": [
    {
     "output_type": "stream",
     "name": "stdout",
     "text": [
      "CountryName,RegionName,Date,PredictedDailyNewCases\nAruba,,2020-08-01,0.0\nAruba,,2020-08-02,1.7698189576811538\nAruba,,2020-08-03,21.939474736193304\nAruba,,2020-08-04,25.106195049205034\nAfghanistan,,2020-08-01,269.09904415313025\nAfghanistan,,2020-08-02,155.55027796759626\nAfghanistan,,2020-08-03,240.02544615184394\nAfghanistan,,2020-08-04,200.2726904410946\nAngola,,2020-08-01,15.565491775948328\n"
     ]
    }
   ],
   "source": [
    "!head predictions/2020-08-01_2020-08-04.csv"
   ]
  },
  {
   "cell_type": "markdown",
   "metadata": {},
   "source": [
    "# Test cases\n",
    "We can generate a prediction file. Let's validate a few cases..."
   ]
  },
  {
   "cell_type": "code",
   "execution_count": 24,
   "metadata": {},
   "outputs": [],
   "source": [
    "# Check the pediction file is valid\n",
    "import os\n",
    "from predictor_validation import validate_submission\n",
    "\n",
    "def validate(start_date, end_date, ip_file, output_file):\n",
    "    # First, delete any potential old file\n",
    "    try:\n",
    "        os.remove(output_file)\n",
    "    except OSError:\n",
    "        pass\n",
    "    \n",
    "    # Then generate the prediction, calling the official API\n",
    "    !python predict.py -s {start_date} -e {end_date} -ip {ip_file} -o {output_file}\n",
    "    \n",
    "    # And validate it\n",
    "    errors = validate_submission(start_date, end_date, ip_file, output_file)\n",
    "    if errors:\n",
    "        for error in errors:\n",
    "            print(error)\n",
    "    else:\n",
    "        print(\"All good!\")"
   ]
  },
  {
   "cell_type": "markdown",
   "metadata": {},
   "source": [
    "## 4 days, no gap\n",
    "- All countries and regions\n",
    "- Official number of cases is known up to start_date\n",
    "- Intervention Plans are the official ones"
   ]
  },
  {
   "cell_type": "code",
   "execution_count": 39,
   "metadata": {},
   "outputs": [
    {
     "output_type": "stream",
     "name": "stdout",
     "text": [
      "Generating predictions from 2020-08-01 to 2020-08-04...\n",
      "Saved predictions to predictions/val_4_days.csv\n",
      "Done!\n",
      "All good!\n"
     ]
    }
   ],
   "source": [
    "validate(start_date=\"2020-08-01\",\n",
    "         end_date=\"2020-08-04\",\n",
    "         ip_file=\"../../../validation/data/2020-09-30_historical_ip.csv\",\n",
    "         output_file=\"predictions/val_4_days.csv\")"
   ]
  },
  {
   "cell_type": "markdown",
   "metadata": {},
   "source": [
    "## 1 month in the future\n",
    "- 2 countries only\n",
    "- there's a gap between date of last known number of cases and start_date\n",
    "- For future dates, Intervention Plans contains scenarios for which predictions are requested to answer the question: what will happen if we apply these plans?"
   ]
  },
  {
   "cell_type": "code",
   "execution_count": 40,
   "metadata": {},
   "outputs": [
    {
     "output_type": "stream",
     "name": "stdout",
     "text": [
      "Generating predictions from 2021-01-01 to 2021-01-31...\n",
      "Saved predictions to predictions/val_1_month_future.csv\n",
      "Done!\n",
      "All good!\n",
      "CPU times: user 11.6 s, sys: 1.99 s, total: 13.6 s\n",
      "Wall time: 18min 25s\n"
     ]
    }
   ],
   "source": [
    "%%time\n",
    "validate(start_date=\"2021-01-01\",\n",
    "         end_date=\"2021-01-31\",\n",
    "         ip_file=\"../../../validation/data/future_ip.csv\",\n",
    "         output_file=\"predictions/val_1_month_future.csv\")"
   ]
  },
  {
   "cell_type": "markdown",
   "metadata": {},
   "source": [
    "## 180 days, from a future date, all countries and regions\n",
    "- Prediction start date is 1 week from now. (i.e. assuming submission date is 1 week from now)  \n",
    "- Prediction end date is 6 months after start date.  \n",
    "- Prediction is requested for all available countries and regions.  \n",
    "- Intervention plan scenario: freeze last known intervention plans for each country and region.  \n",
    "\n",
    "As the number of cases is not known yet between today and start date, but the model relies on them, the model has to predict them in order to use them.  \n",
    "This test is the most demanding test. It should take less than 1 hour to generate the prediction file."
   ]
  },
  {
   "cell_type": "markdown",
   "metadata": {},
   "source": [
    "### Generate the scenario"
   ]
  },
  {
   "cell_type": "code",
   "execution_count": 41,
   "metadata": {},
   "outputs": [
    {
     "output_type": "stream",
     "name": "stdout",
     "text": [
      "Start date: 2020-12-13\nEnd date: 2021-06-11\n"
     ]
    }
   ],
   "source": [
    "from datetime import datetime, timedelta\n",
    "\n",
    "start_date = datetime.now() + timedelta(days=7)\n",
    "start_date_str = start_date.strftime('%Y-%m-%d')\n",
    "end_date = start_date + timedelta(days=180)\n",
    "end_date_str = end_date.strftime('%Y-%m-%d')\n",
    "print(f\"Start date: {start_date_str}\")\n",
    "print(f\"End date: {end_date_str}\")"
   ]
  },
  {
   "cell_type": "code",
   "execution_count": 42,
   "metadata": {},
   "outputs": [
    {
     "output_type": "stream",
     "name": "stdout",
     "text": [
      "Saved scenario to predictions/180_days_future_scenario.csv\n"
     ]
    }
   ],
   "source": [
    "from scenario_generator import get_raw_data, generate_scenario, NPI_COLUMNS\n",
    "DATA_FILE = 'data/OxCGRT_latest.csv'\n",
    "latest_df = get_raw_data(DATA_FILE, latest=True)\n",
    "scenario_df = generate_scenario(start_date_str, end_date_str, latest_df, countries=None, scenario=\"Freeze\")\n",
    "scenario_file = \"predictions/180_days_future_scenario.csv\"\n",
    "scenario_df.to_csv(scenario_file, index=False)\n",
    "print(f\"Saved scenario to {scenario_file}\")"
   ]
  },
  {
   "cell_type": "markdown",
   "metadata": {},
   "source": [
    "### Check it"
   ]
  },
  {
   "cell_type": "code",
   "execution_count": 43,
   "metadata": {},
   "outputs": [
    {
     "output_type": "stream",
     "name": "stdout",
     "text": [
      "Generating predictions from 2020-12-13 to 2021-06-11...\n",
      "Saved predictions to predictions/val_6_month_future.csv\n",
      "Done!\n",
      "All good!\n",
      "CPU times: user 19.8 s, sys: 3.12 s, total: 22.9 s\n",
      "Wall time: 29min 47s\n"
     ]
    }
   ],
   "source": [
    "%%time\n",
    "validate(start_date=start_date_str,\n",
    "         end_date=end_date_str,\n",
    "         ip_file=scenario_file,\n",
    "         output_file=\"predictions/val_6_month_future.csv\")"
   ]
  },
  {
   "cell_type": "code",
   "execution_count": null,
   "metadata": {},
   "outputs": [],
   "source": []
  }
 ],
 "metadata": {
  "kernelspec": {
   "display_name": "Python 3.6.12 64-bit ('tf-gpu': conda)",
   "language": "python",
   "name": "python361264bittfgpucondaa2e81d30ca4041538b91f82f8c16e473"
  },
  "language_info": {
   "codemirror_mode": {
    "name": "ipython",
    "version": 3
   },
   "file_extension": ".py",
   "mimetype": "text/x-python",
   "name": "python",
   "nbconvert_exporter": "python",
   "pygments_lexer": "ipython3",
   "version": "3.6.12-final"
  },
  "pycharm": {
   "stem_cell": {
    "cell_type": "raw",
    "metadata": {
     "collapsed": false
    },
    "source": [
     "# Copyright 2020 (c) Cognizant Digital Business, Evolutionary AI. All rights reserved. Issued under the Apache 2.0 License."
    ]
   }
  }
 },
 "nbformat": 4,
 "nbformat_minor": 4
}